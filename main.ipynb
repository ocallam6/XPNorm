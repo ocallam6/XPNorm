{
 "cells": [
  {
   "cell_type": "code",
   "execution_count": 1,
   "metadata": {},
   "outputs": [
    {
     "data": {
      "text/plain": [
       "'\\nHere i want to create a neural network which takes in the full file, and learns the map which beest describes extinction.\\nConditions:\\nShould be non-decreasing along radial direction\\ncorrelation to different sighlines\\n\\n\\nSet up as a l,w,d grid\\nalong the d direction is nondecresing in each sighline\\nalso correlated in the l,w of each d bin\\ncan i implement it as a neural network with d layers\\nat each layer it looks at the l,w grid but not each node in the l,w grid is coonnected, only connected to ones near them, might have to\\nbe padded\\nat each layer it throws out a value for each l,w grid, and the next layer adds to that. \\n\\nThe function is constant but the grid itself is the parameters\\n\\nwork forwards and branch off, then minimise the nn for the parameters, the nn foesnt have any inputs\\n\\nput in all zeros, it computes the ext of the first window and so on \\n\\ni need a map A:l,w,d ->stars\\nsome sort of tokenisation\\n\\neach datapoint can have an index associated with it mapping associated with it\\n\\n\\n'"
      ]
     },
     "execution_count": 1,
     "metadata": {},
     "output_type": "execute_result"
    }
   ],
   "source": [
    "'''\n",
    "Here i want to create a neural network which takes in the full file, and learns the map which beest describes extinction.\n",
    "Conditions:\n",
    "Should be non-decreasing along radial direction\n",
    "correlation to different sighlines\n",
    "\n",
    "\n",
    "Set up as a l,w,d grid\n",
    "along the d direction is nondecresing in each sighline\n",
    "also correlated in the l,w of each d bin\n",
    "can i implement it as a neural network with d layers\n",
    "at each layer it looks at the l,w grid but not each node in the l,w grid is coonnected, only connected to ones near them, might have to\n",
    "be padded\n",
    "at each layer it throws out a value for each l,w grid, and the next layer adds to that. \n",
    "\n",
    "The function is constant but the grid itself is the parameters\n",
    "\n",
    "work forwards and branch off, then minimise the nn for the parameters, the nn foesnt have any inputs\n",
    "\n",
    "put in all zeros, it computes the ext of the first window and so on \n",
    "\n",
    "i need a map A:l,w,d ->stars\n",
    "some sort of tokenisation\n",
    "\n",
    "each datapoint can have an index associated with it mapping associated with it\n",
    "\n",
    "\n",
    "'''"
   ]
  },
  {
   "cell_type": "code",
   "execution_count": 21,
   "metadata": {},
   "outputs": [],
   "source": [
    "from src import Normalising_Flow_nodist\n",
    "from src import Normalising_Flow_nodist\n",
    "from src.Bayesian_NN_nodist import BayesianExtinction_Trainer\n",
    "\n",
    "import torch\n",
    "from sbi import utils as utils\n",
    "from sbi import analysis as analysis\n",
    "from sbi.inference.base import infer\n",
    "\n",
    "\n",
    "nf=Normalising_Flow_nodist.Normalising_Flow_Trainer()\n",
    "nf.load()\n",
    "\n"
   ]
  },
  {
   "cell_type": "code",
   "execution_count": 3,
   "metadata": {},
   "outputs": [],
   "source": [
    "import pandas as pd"
   ]
  },
  {
   "cell_type": "code",
   "execution_count": 4,
   "metadata": {},
   "outputs": [],
   "source": [
    "from astropy.coordinates import SkyCoord\n",
    "import astropy.units as u\n"
   ]
  },
  {
   "cell_type": "code",
   "execution_count": 22,
   "metadata": {},
   "outputs": [],
   "source": [
    "data_test=pd.read_csv('/Users/mattocallaghan/XPNorm/Data/data_black_circle')\n",
    "galactic_coord = SkyCoord(ra=data_test['ra'].values*u.degree, dec=data_test['dec'].values*u.degree, frame='icrs')\n",
    "galactic_coord = galactic_coord.transform_to('galactic')\n",
    "l=galactic_coord.l.value\n",
    "b=galactic_coord.b.value\n",
    "data_test['l']=l\n",
    "data_test['b']=b"
   ]
  },
  {
   "cell_type": "code",
   "execution_count": 27,
   "metadata": {},
   "outputs": [],
   "source": [
    "import dustmaps"
   ]
  },
  {
   "cell_type": "code",
   "execution_count": 28,
   "metadata": {},
   "outputs": [
    {
     "name": "stdout",
     "output_type": "stream",
     "text": [
      "Downloading https://zenodo.org/record/8187943/files/mean_and_std_healpix.fits ...\n"
     ]
    },
    {
     "name": "stderr",
     "output_type": "stream",
     "text": [
      "  3.0 GiB of 3.0 GiB |  13.2 MiB/s |################### |  99% | ETA:   0:00:00"
     ]
    }
   ],
   "source": [
    "dustmaps.edenhofer2023.fetch()\n"
   ]
  },
  {
   "cell_type": "code",
   "execution_count": 67,
   "metadata": {},
   "outputs": [
    {
     "name": "stderr",
     "output_type": "stream",
     "text": [
      "Optimizing map for querying (this might take a couple of seconds)...\n"
     ]
    },
    {
     "name": "stdout",
     "output_type": "stream",
     "text": [
      "Loading pixel_info ...\n",
      "Loading samples ...\n",
      "Loading best_fit ...\n",
      "Replacing NaNs in reliable distance estimates ...\n",
      "Sorting pixel_info ...\n",
      "Extracting hp_idx_sorted and data_idx at each nside ...\n",
      "  nside = 64\n",
      "  nside = 128\n",
      "  nside = 256\n",
      "  nside = 512\n",
      "  nside = 1024\n",
      "t = 44.817 s\n",
      "  pix_info:   0.818 s\n",
      "   samples:  27.883 s\n",
      "      best:   5.427 s\n",
      "       nan:   0.077 s\n",
      "      sort:  10.527 s\n",
      "       idx:   0.086 s\n"
     ]
    }
   ],
   "source": [
    "from astropy.coordinates import SkyCoord\n",
    "\n",
    "from dustmaps.edenhofer2023 import Edenhofer2023Query\n",
    "from dustmaps.bayestar import BayestarQuery\n",
    "\n",
    "# Note that below, we could use version='bayestar2017' to get the newer\n",
    "# version of the map. Note, however, that the reddening units are not\n",
    "# identical in the two versions of the map. See Green et al. (2018) for\n",
    "# an explanation of the units.\n",
    "eden = Edenhofer2023Query()\n",
    "bayestar = BayestarQuery()\n"
   ]
  },
  {
   "cell_type": "code",
   "execution_count": 68,
   "metadata": {},
   "outputs": [],
   "source": [
    "galactic_coord = SkyCoord(ra=294.46007047*u.deg, dec=72.23165519*u.deg, frame='icrs')\n",
    "galactic_coord = galactic_coord.transform_to('galactic')\n",
    "l=galactic_coord.l.value\n",
    "b=galactic_coord.b.value\n"
   ]
  },
  {
   "cell_type": "code",
   "execution_count": null,
   "metadata": {},
   "outputs": [],
   "source": []
  },
  {
   "cell_type": "code",
   "execution_count": 69,
   "metadata": {},
   "outputs": [],
   "source": [
    "coords = SkyCoord(l*u.deg, b*u.deg,distance = np.arange(10,  2000, 5)*u.pc, frame='galactic')\n"
   ]
  },
  {
   "cell_type": "code",
   "execution_count": 72,
   "metadata": {},
   "outputs": [
    {
     "data": {
      "text/plain": [
       "<matplotlib.collections.PathCollection at 0x168d29fd0>"
      ]
     },
     "execution_count": 72,
     "metadata": {},
     "output_type": "execute_result"
    },
    {
     "data": {
      "image/png": "[encoded data removed]",
      "text/plain": [
       "<Figure size 640x480 with 1 Axes>"
      ]
     },
     "metadata": {},
     "output_type": "display_data"
    }
   ],
   "source": [
    "plt.scatter(np.arange(10,  2000, 5),2.742*bayestar(coords)/3.1)\n",
    "#plt.scatter(np.arange(10,  2000, 5),eden(coords))"
   ]
  },
  {
   "cell_type": "code",
   "execution_count": 74,
   "metadata": {},
   "outputs": [
    {
     "data": {
      "text/plain": [
       "<matplotlib.collections.PathCollection at 0x163b712b0>"
      ]
     },
     "execution_count": 74,
     "metadata": {},
     "output_type": "execute_result"
    },
    {
     "data": {
      "image/png": "[encoded data removed]",
      "text/plain": [
       "<Figure size 640x480 with 1 Axes>"
      ]
     },
     "metadata": {},
     "output_type": "display_data"
    }
   ],
   "source": [
    "galactic_coord = SkyCoord(ra=295.31396796*u.deg, dec=71.95873259*u.deg, frame='icrs')\n",
    "galactic_coord = galactic_coord.transform_to('galactic')\n",
    "l=galactic_coord.l.value\n",
    "b=galactic_coord.b.value\n",
    "coords = SkyCoord(l*u.deg, b*u.deg,distance = np.arange(10,  2000, 5)*u.pc, frame='galactic')\n",
    "plt.scatter(np.arange(10,  2000, 5),2.742*bayestar(coords)/3.1)\n",
    "\n"
   ]
  },
  {
   "cell_type": "code",
   "execution_count": 3,
   "metadata": {},
   "outputs": [],
   "source": [
    "import numpy as np"
   ]
  },
  {
   "cell_type": "code",
   "execution_count": 6,
   "metadata": {},
   "outputs": [],
   "source": [
    "coeffs= (np.array([\n",
    "        [0.194059063720102, -0.000337880688254366, 0.000405004510990789, -0.000119030825664077, -2.90629429374213e-05, 9.85596051245887e-09, 1.22296149043372e-10, 0, 0, 0],\n",
    "        [0.255058871064972, 7.19016588950228e-05, -0.000250455702483274, 3.99422163967702e-05, -6.83632867675118e-05, -2.3163568526324e-09, 7.26631781961228e-10, -2.27788077229475e-07, 4.97609167483581e-07, 6.67076034469308e-09],\n",
    "        [0.340301468237771, -0.000826269158576803, -0.000283696380615497, 0.000103538996307887, -0.000156039957793959, 1.81587525109325e-07, 2.33928990111011e-09, 1.63733498839871e-06, 5.71693287820809e-08, 2.954302715354e-08],\n",
    "        [0.663374149569189, -0.0184814428792349, 0.0100266536020118, -0.00317119320308867, -0.00649336268398495, 3.27674122186053e-05, 1.57894227641494e-06, -0.000116290469708794, 0.000117366662432525, 6.91273258513903e-06],\n",
    "        [1.1516008149802, -0.0502982507379423, -0.00801054248601918, 0.0028487377407222, -0.0222045923218139, 0.000841943191161668, -1.31018008013547e-05, 0.00346423295251231, -0.000145621334026214, -6.85718568409361e-05],\n",
    "        [0.993548688906439, -0.110149052160837, 0.0264447715065468, -0.00571010222810317, -0.0374363031107716, 0.00151447309438712, -2.52364537395156e-05, 0.00623824755961677, -0.000123598316318183, -0.000158499801004388]\n",
    "        ]))\n",
    "\n",
    "\n",
    "\n",
    "\n",
    "def f(x,a,i):\n",
    "    \n",
    "    coeff=coeffs[i]\n",
    "    result=coeff[0]*np.ones_like(x)\n",
    "    result+=coeff[1]*x\n",
    "    result+=coeff[2]*x**2\n",
    "    result+=coeff[3]*x**3\n",
    "\n",
    "    result+=coeff[4]*a\n",
    "    result+=coeff[5]*a**2\n",
    "    result+=coeff[6]*a**3\n",
    "\n",
    "    result+=coeff[7]*x*a\n",
    "    result+=coeff[8]*a*x**2\n",
    "    result+=coeff[9]*x*a**2\n",
    "    return result"
   ]
  },
  {
   "cell_type": "code",
   "execution_count": 13,
   "metadata": {},
   "outputs": [],
   "source": [
    "k=0\n",
    "h=1\n",
    "j=2\n"
   ]
  },
  {
   "cell_type": "code",
   "execution_count": 23,
   "metadata": {},
   "outputs": [
    {
     "name": "stdout",
     "output_type": "stream",
     "text": [
      "0.7847673898401542\n",
      "1.0539355109568633\n",
      "0.6077522385199633\n",
      "0.3392234073595502\n",
      "0.2544220337117148\n",
      "0.19307574127991572\n"
     ]
    }
   ],
   "source": [
    "kk=f(np.linspace(-1,5,100),1,k)\n",
    "kj=f(np.linspace(-1,5,100),1,j)\n",
    "kh=f(np.linspace(-1,5,100),1,h)\n",
    "\n",
    "\n",
    "kG=f(np.linspace(-1,5,100),1,-1)\n",
    "kBP=f(np.linspace(-1,5,100),1,-2)\n",
    "kRP=f(np.linspace(-1,5,100),1,-3)\n",
    "\n",
    "print(kG.mean())\n",
    "print(kBP.mean())\n",
    "print(kRP.mean())\n",
    "print(kj.mean())\n",
    "print(kh.mean())\n",
    "print(kk.mean())\n"
   ]
  },
  {
   "cell_type": "code",
   "execution_count": 75,
   "metadata": {},
   "outputs": [
    {
     "name": "stdout",
     "output_type": "stream",
     "text": [
      "Polynomial equation: 0.1940590637  - 0.0003378807 * -0.000337880688254366 + 0.0004050045 * 0.000405004510990789 - 0.0001190308 * -0.000119030825664077 - 0.0000290629 * -2.90629429374213e-05 + 0.0000000099 * 9.85596051245887e-09 + 0.0000000001 * 1.22296149043372e-10\n",
      "Polynomial equation: 0.2550588711 0.0000719017 * -0.000337880688254366 - 0.0002504557 * 0.000405004510990789 + 0.0000399422 * -0.000119030825664077 - 0.0000683633 * -2.90629429374213e-05 - 0.0000000023 * 9.85596051245887e-09 + 0.0000000007 * 1.22296149043372e-10 - 0.0000002278 * 0 + 0.0000004976 * 0 + 0.0000000067 * 0\n",
      "Polynomial equation: 0.3403014682  - 0.0008262692 * -0.000337880688254366 - 0.0002836964 * 0.000405004510990789 + 0.0001035390 * -0.000119030825664077 - 0.0001560400 * -2.90629429374213e-05 + 0.0000001816 * 9.85596051245887e-09 + 0.0000000023 * 1.22296149043372e-10 + 0.0000016373 * 0 + 0.0000000572 * 0 + 0.0000000295 * 0\n",
      "Polynomial equation: 0.6633741496  - 0.0184814429 * -0.000337880688254366 + 0.0100266536 * 0.000405004510990789 - 0.0031711932 * -0.000119030825664077 - 0.0064933627 * -2.90629429374213e-05 + 0.0000327674 * 9.85596051245887e-09 + 0.0000015789 * 1.22296149043372e-10 - 0.0001162905 * 0 + 0.0001173667 * 0 + 0.0000069127 * 0\n",
      "Polynomial equation: 1.1516008150  - 0.0502982507 * -0.000337880688254366 - 0.0080105425 * 0.000405004510990789 + 0.0028487377 * -0.000119030825664077 - 0.0222045923 * -2.90629429374213e-05 + 0.0008419432 * 9.85596051245887e-09 - 0.0000131018 * 1.22296149043372e-10 + 0.0034642330 * 0 - 0.0001456213 * 0 - 0.0000685719 * 0\n",
      "Polynomial equation: 0.9935486889  - 0.1101490522 * -0.000337880688254366 + 0.0264447715 * 0.000405004510990789 - 0.0057101022 * -0.000119030825664077 - 0.0374363031 * -2.90629429374213e-05 + 0.0015144731 * 9.85596051245887e-09 - 0.0000252365 * 1.22296149043372e-10 + 0.0062382476 * 0 - 0.0001235983 * 0 - 0.0001584998 * 0\n"
     ]
    }
   ],
   "source": [
    "\n",
    "\n",
    "# Define a function to construct polynomial equations\n",
    "def construct_polynomial(coefficients, variables):\n",
    "    \"\"\"\n",
    "    Constructs a polynomial equation using coefficients and variables.\n",
    "    :param coefficients: Coefficients of the polynomial terms.\n",
    "    :param variables: Names of the variables.\n",
    "    :return: Polynomial equation as a string.\n",
    "    \"\"\"\n",
    "    # Initialize the polynomial equation\n",
    "    polynomial = \"\"\n",
    "\n",
    "    # Iterate through coefficients and variables simultaneously\n",
    "    for coef, var in zip(coefficients, variables):\n",
    "        # Append the coefficient and variable to the polynomial equation\n",
    "        if coef != 0:  # Exclude terms with zero coefficients\n",
    "            polynomial += f\" + {coef:.10f} * {var}\" if coef > 0 else f\" - {-coef:.10f} * {var}\"\n",
    "\n",
    "    # Remove leading '+' sign if present\n",
    "    if polynomial.startswith(\" + \"):\n",
    "        polynomial = polynomial[3:]\n",
    "\n",
    "    return polynomial\n",
    "\n",
    "# Data provided\n",
    "data = [\n",
    "    [0.194059063720102, -0.000337880688254366, 0.000405004510990789, -0.000119030825664077, -2.90629429374213e-05, 9.85596051245887e-09, 1.22296149043372e-10, 0, 0, 0, \"GK\", \"kK\"],\n",
    "    [0.255058871064972, 7.19016588950228e-05, -0.000250455702483274, 3.99422163967702e-05, -6.83632867675118e-05, -2.3163568526324e-09, 7.26631781961228e-10, -2.27788077229475e-07, 4.97609167483581e-07, 6.67076034469308e-09, \"GK\", \"kH\"],\n",
    "    [0.340301468237771, -0.000826269158576803, -0.000283696380615497, 0.000103538996307887, -0.000156039957793959, 1.81587525109325e-07, 2.33928990111011e-09, 1.63733498839871e-06, 5.71693287820809e-08, 2.954302715354e-08, \"GK\", \"kJ\"],\n",
    "    [0.663374149569189, -0.0184814428792349, 0.0100266536020118, -0.00317119320308867, -0.00649336268398495, 3.27674122186053e-05, 1.57894227641494e-06, -0.000116290469708794, 0.000117366662432525, 6.91273258513903e-06, \"GK\", \"kRP\"],\n",
    "    [1.1516008149802, -0.0502982507379423, -0.00801054248601918, 0.0028487377407222, -0.0222045923218139, 0.000841943191161668, -1.31018008013547e-05, 0.00346423295251231, -0.000145621334026214, -6.85718568409361e-05, \"GK\", \"kBP\"],\n",
    "    [0.993548688906439, -0.110149052160837, 0.0264447715065468, -0.00571010222810317, -0.0374363031107716, 0.00151447309438712, -2.52364537395156e-05, 0.00623824755961677, -0.000123598316318183, -0.000158499801004388, \"GK\", \"kG\"]\n",
    "]\n",
    "\n",
    "# Extract variable names from the first row\n",
    "variables = data[0][1:-2]\n",
    "\n",
    "# Iterate through data to construct polynomial equations\n",
    "for line in data:\n",
    "    intercept = line[0]\n",
    "    coefficients = line[1:-2]  # Exclude Intercept, Xname, and Kname\n",
    "    polynomial_equation = construct_polynomial(coefficients, variables)\n",
    "    print(f\"Polynomial equation: {intercept:.10f} {polynomial_equation}\")\n"
   ]
  },
  {
   "cell_type": "code",
   "execution_count": 77,
   "metadata": {},
   "outputs": [],
   "source": []
  },
  {
   "cell_type": "code",
   "execution_count": 79,
   "metadata": {},
   "outputs": [
    {
     "data": {
      "text/plain": [
       "0.8741433889962158"
      ]
     },
     "execution_count": 79,
     "metadata": {},
     "output_type": "execute_result"
    }
   ],
   "source": [
    "f(1,1,-1)"
   ]
  },
  {
   "cell_type": "code",
   "execution_count": 86,
   "metadata": {},
   "outputs": [
    {
     "name": "stdout",
     "output_type": "stream",
     "text": [
      "6\n",
      "5\n",
      "4\n",
      "3\n",
      "2\n",
      "1\n",
      "0\n"
     ]
    }
   ],
   "source": [
    "for i in np.arange(6,-1,-1):\n",
    "    print(i)"
   ]
  },
  {
   "cell_type": "code",
   "execution_count": 7,
   "metadata": {},
   "outputs": [],
   "source": [
    "vals=data_test[:len(data_test)//32]"
   ]
  },
  {
   "cell_type": "code",
   "execution_count": 8,
   "metadata": {},
   "outputs": [
    {
     "data": {
      "text/html": [
       "<div>\n",
       "<style scoped>\n",
       "    .dataframe tbody tr th:only-of-type {\n",
       "        vertical-align: middle;\n",
       "    }\n",
       "\n",
       "    .dataframe tbody tr th {\n",
       "        vertical-align: top;\n",
       "    }\n",
       "\n",
       "    .dataframe thead th {\n",
       "        text-align: right;\n",
       "    }\n",
       "</style>\n",
       "<table border=\"1\" class=\"dataframe\">\n",
       "  <thead>\n",
       "    <tr style=\"text-align: right;\">\n",
       "      <th></th>\n",
       "      <th>Unnamed: 0</th>\n",
       "      <th>ks_m</th>\n",
       "      <th>mu</th>\n",
       "      <th>phot_g_mean_mag</th>\n",
       "      <th>phot_bp_mean_mag</th>\n",
       "      <th>phot_rp_mean_mag</th>\n",
       "      <th>j_m</th>\n",
       "      <th>h_m</th>\n",
       "      <th>ra</th>\n",
       "      <th>dec</th>\n",
       "      <th>l</th>\n",
       "      <th>b</th>\n",
       "    </tr>\n",
       "  </thead>\n",
       "  <tbody>\n",
       "    <tr>\n",
       "      <th>0</th>\n",
       "      <td>0</td>\n",
       "      <td>14.686</td>\n",
       "      <td>10.123389</td>\n",
       "      <td>17.417168</td>\n",
       "      <td>18.191969</td>\n",
       "      <td>16.561285</td>\n",
       "      <td>15.596</td>\n",
       "      <td>14.817</td>\n",
       "      <td>161.086361</td>\n",
       "      <td>56.152116</td>\n",
       "      <td>152.203692</td>\n",
       "      <td>53.142507</td>\n",
       "    </tr>\n",
       "    <tr>\n",
       "      <th>1</th>\n",
       "      <td>1</td>\n",
       "      <td>12.071</td>\n",
       "      <td>8.811945</td>\n",
       "      <td>13.293809</td>\n",
       "      <td>13.576944</td>\n",
       "      <td>12.848462</td>\n",
       "      <td>12.380</td>\n",
       "      <td>12.117</td>\n",
       "      <td>161.128923</td>\n",
       "      <td>56.171730</td>\n",
       "      <td>152.153471</td>\n",
       "      <td>53.148760</td>\n",
       "    </tr>\n",
       "    <tr>\n",
       "      <th>2</th>\n",
       "      <td>2</td>\n",
       "      <td>12.275</td>\n",
       "      <td>8.460098</td>\n",
       "      <td>13.986485</td>\n",
       "      <td>14.398796</td>\n",
       "      <td>13.413757</td>\n",
       "      <td>12.748</td>\n",
       "      <td>12.359</td>\n",
       "      <td>161.235722</td>\n",
       "      <td>56.230161</td>\n",
       "      <td>152.015457</td>\n",
       "      <td>53.158452</td>\n",
       "    </tr>\n",
       "    <tr>\n",
       "      <th>3</th>\n",
       "      <td>3</td>\n",
       "      <td>13.901</td>\n",
       "      <td>7.804389</td>\n",
       "      <td>17.029867</td>\n",
       "      <td>18.081440</td>\n",
       "      <td>16.021727</td>\n",
       "      <td>14.738</td>\n",
       "      <td>14.225</td>\n",
       "      <td>161.219167</td>\n",
       "      <td>56.251359</td>\n",
       "      <td>151.997581</td>\n",
       "      <td>53.137981</td>\n",
       "    </tr>\n",
       "    <tr>\n",
       "      <th>4</th>\n",
       "      <td>4</td>\n",
       "      <td>12.941</td>\n",
       "      <td>8.548056</td>\n",
       "      <td>14.967326</td>\n",
       "      <td>15.449209</td>\n",
       "      <td>14.322596</td>\n",
       "      <td>13.506</td>\n",
       "      <td>13.004</td>\n",
       "      <td>161.322605</td>\n",
       "      <td>56.302533</td>\n",
       "      <td>151.871026</td>\n",
       "      <td>53.150416</td>\n",
       "    </tr>\n",
       "    <tr>\n",
       "      <th>...</th>\n",
       "      <td>...</td>\n",
       "      <td>...</td>\n",
       "      <td>...</td>\n",
       "      <td>...</td>\n",
       "      <td>...</td>\n",
       "      <td>...</td>\n",
       "      <td>...</td>\n",
       "      <td>...</td>\n",
       "      <td>...</td>\n",
       "      <td>...</td>\n",
       "      <td>...</td>\n",
       "      <td>...</td>\n",
       "    </tr>\n",
       "    <tr>\n",
       "      <th>10946</th>\n",
       "      <td>10946</td>\n",
       "      <td>14.327</td>\n",
       "      <td>10.956942</td>\n",
       "      <td>15.903316</td>\n",
       "      <td>16.218317</td>\n",
       "      <td>15.403839</td>\n",
       "      <td>14.796</td>\n",
       "      <td>14.515</td>\n",
       "      <td>340.513205</td>\n",
       "      <td>-48.468022</td>\n",
       "      <td>343.743574</td>\n",
       "      <td>-57.126785</td>\n",
       "    </tr>\n",
       "    <tr>\n",
       "      <th>10947</th>\n",
       "      <td>10947</td>\n",
       "      <td>13.092</td>\n",
       "      <td>10.489192</td>\n",
       "      <td>14.468698</td>\n",
       "      <td>14.763159</td>\n",
       "      <td>14.007372</td>\n",
       "      <td>13.460</td>\n",
       "      <td>13.144</td>\n",
       "      <td>340.554131</td>\n",
       "      <td>-48.435115</td>\n",
       "      <td>343.772768</td>\n",
       "      <td>-57.166393</td>\n",
       "    </tr>\n",
       "    <tr>\n",
       "      <th>10948</th>\n",
       "      <td>10948</td>\n",
       "      <td>13.686</td>\n",
       "      <td>8.750587</td>\n",
       "      <td>16.590677</td>\n",
       "      <td>17.428671</td>\n",
       "      <td>15.692063</td>\n",
       "      <td>14.615</td>\n",
       "      <td>13.962</td>\n",
       "      <td>340.559846</td>\n",
       "      <td>-48.423702</td>\n",
       "      <td>343.787880</td>\n",
       "      <td>-57.175198</td>\n",
       "    </tr>\n",
       "    <tr>\n",
       "      <th>10949</th>\n",
       "      <td>10949</td>\n",
       "      <td>13.397</td>\n",
       "      <td>9.520226</td>\n",
       "      <td>15.173147</td>\n",
       "      <td>15.557863</td>\n",
       "      <td>14.616169</td>\n",
       "      <td>13.969</td>\n",
       "      <td>13.553</td>\n",
       "      <td>340.458610</td>\n",
       "      <td>-48.451156</td>\n",
       "      <td>343.802794</td>\n",
       "      <td>-57.103092</td>\n",
       "    </tr>\n",
       "    <tr>\n",
       "      <th>10950</th>\n",
       "      <td>10950</td>\n",
       "      <td>12.996</td>\n",
       "      <td>7.212664</td>\n",
       "      <td>16.639423</td>\n",
       "      <td>18.031509</td>\n",
       "      <td>15.483907</td>\n",
       "      <td>13.905</td>\n",
       "      <td>13.240</td>\n",
       "      <td>340.472409</td>\n",
       "      <td>-48.442944</td>\n",
       "      <td>343.808004</td>\n",
       "      <td>-57.115059</td>\n",
       "    </tr>\n",
       "  </tbody>\n",
       "</table>\n",
       "<p>10951 rows × 12 columns</p>\n",
       "</div>"
      ],
      "text/plain": [
       "       Unnamed: 0    ks_m         mu  phot_g_mean_mag  phot_bp_mean_mag  \\\n",
       "0               0  14.686  10.123389        17.417168         18.191969   \n",
       "1               1  12.071   8.811945        13.293809         13.576944   \n",
       "2               2  12.275   8.460098        13.986485         14.398796   \n",
       "3               3  13.901   7.804389        17.029867         18.081440   \n",
       "4               4  12.941   8.548056        14.967326         15.449209   \n",
       "...           ...     ...        ...              ...               ...   \n",
       "10946       10946  14.327  10.956942        15.903316         16.218317   \n",
       "10947       10947  13.092  10.489192        14.468698         14.763159   \n",
       "10948       10948  13.686   8.750587        16.590677         17.428671   \n",
       "10949       10949  13.397   9.520226        15.173147         15.557863   \n",
       "10950       10950  12.996   7.212664        16.639423         18.031509   \n",
       "\n",
       "       phot_rp_mean_mag     j_m     h_m          ra        dec           l  \\\n",
       "0             16.561285  15.596  14.817  161.086361  56.152116  152.203692   \n",
       "1             12.848462  12.380  12.117  161.128923  56.171730  152.153471   \n",
       "2             13.413757  12.748  12.359  161.235722  56.230161  152.015457   \n",
       "3             16.021727  14.738  14.225  161.219167  56.251359  151.997581   \n",
       "4             14.322596  13.506  13.004  161.322605  56.302533  151.871026   \n",
       "...                 ...     ...     ...         ...        ...         ...   \n",
       "10946         15.403839  14.796  14.515  340.513205 -48.468022  343.743574   \n",
       "10947         14.007372  13.460  13.144  340.554131 -48.435115  343.772768   \n",
       "10948         15.692063  14.615  13.962  340.559846 -48.423702  343.787880   \n",
       "10949         14.616169  13.969  13.553  340.458610 -48.451156  343.802794   \n",
       "10950         15.483907  13.905  13.240  340.472409 -48.442944  343.808004   \n",
       "\n",
       "               b  \n",
       "0      53.142507  \n",
       "1      53.148760  \n",
       "2      53.158452  \n",
       "3      53.137981  \n",
       "4      53.150416  \n",
       "...          ...  \n",
       "10946 -57.126785  \n",
       "10947 -57.166393  \n",
       "10948 -57.175198  \n",
       "10949 -57.103092  \n",
       "10950 -57.115059  \n",
       "\n",
       "[10951 rows x 12 columns]"
      ]
     },
     "execution_count": 8,
     "metadata": {},
     "output_type": "execute_result"
    }
   ],
   "source": [
    "vals"
   ]
  },
  {
   "cell_type": "code",
   "execution_count": 9,
   "metadata": {},
   "outputs": [],
   "source": [
    "import numpy as np\n",
    "import matplotlib.pyplot as plt"
   ]
  },
  {
   "cell_type": "code",
   "execution_count": 11,
   "metadata": {},
   "outputs": [],
   "source": [
    "data_file='/Users/mattocallaghan/XPNorm/Data/data_full'\n",
    "#test_file='/Users/mattocallaghan/XPNorm/Data/data_test'\n",
    "\n",
    "#test_file='/Users/mattocallaghan/XPNorm/Data/data_noext'\n",
    "#test_file='/Users/mattocallaghan/XPNorm/Data/data_black_circle'\n",
    "\n",
    "#test_file='/Users/mattocallaghan/XPNorm/Data/data_red_circle'\n",
    "test_file='/Users/mattocallaghan/XPNorm/Data/data_black_circle_20'\n",
    "#test_file='/Users/mattocallaghan/XPNorm/Data/data_noext'\n",
    "\n",
    "err_file='/Users/mattocallaghan/XPNorm/Data/err'\n",
    "\n",
    "\n",
    "\n",
    "data=pd.read_csv(data_file)[['mu','phot_g_mean_mag','phot_bp_mean_mag','phot_rp_mean_mag','j_m','h_m','ks_m']].values\n",
    "\n",
    "data_test=pd.read_csv(test_file)[['mu','phot_g_mean_mag','phot_bp_mean_mag','phot_rp_mean_mag','j_m','h_m','ks_m']].values\n",
    "\n",
    "\n",
    "data_transform=np.array([\n",
    "                    [1., 0., 0., 0., 0., 0.,0],\n",
    "                    [-1., 1., 0., 0., 0., 0.,0],\n",
    "                    [0., 1., -1., 0., 0., 0.,0],\n",
    "                    [0., 1., 0., -1., 0., 0.,0],\n",
    "                    [0., 1., 0., 0., -1., 0.,0],\n",
    "                    [0., 1., 0., 0., 0., -1.,0],\n",
    "                    [0., 1., 0., 0., 0., 0.,-1]])\n",
    "\n",
    "g = np.array([0.7, 0.95])\n",
    "bp =  np.array([0.97, 1.28])\n",
    "rp =  np.array([0.55, 0.69])\n",
    "j =  np.array([0.71, 0.73])/3.1\n",
    "h =  np.array([0.45, 0.47])/3.1\n",
    "ks =  np.array([0.34, 0.36])/3.1\n",
    "\n",
    "extinction_vector=torch.tensor(np.einsum('ij,j->i',data_transform,\n",
    "np.array([0,g.mean(), bp.mean(), rp.mean(), j.mean(), h.mean(), ks.mean()])))\n",
    "\n",
    "\n",
    "data=np.einsum('ij,bj->bi',np.array(data_transform),np.array(data))\n",
    "\n",
    "data=data[(data[:,1]<10)*(data[:,1]>-2)]\n",
    "data=data[(data[:,0]<20)*(data[:,0]>2)]\n",
    "data=data[:,1:]\n",
    "mean=np.mean(data,axis=0)\n",
    "std=np.std(data,axis=0)\n",
    "data=(data-mean)\n",
    "\n",
    "data_test=np.einsum('ij,bj->bi',np.array(data_transform),np.array(data_test))\n",
    "\n",
    "data_test=data_test[(data_test[:,1]<10)*(data_test[:,1]>-2)]\n",
    "data_test=data_test[(data_test[:,0]<20)*(data_test[:,0]>2)]\n",
    "#dist_mean=data_test[:,0].mean()\n",
    "#data_test[:,1:]=(data_test[:,1:]-mean)\n",
    "##data_test[:,0]=data_test[:,0]-dist_mean"
   ]
  },
  {
   "cell_type": "code",
   "execution_count": 15,
   "metadata": {},
   "outputs": [
    {
     "data": {
      "application/vnd.jupyter.widget-view+json": {
       "model_id": "cacb0889d5c248a78bd3252ed5bca9c3",
       "version_major": 2,
       "version_minor": 0
      },
      "text/plain": [
       "Drawing 10000 posterior samples:   0%|          | 0/10000 [00:00<?, ?it/s]"
      ]
     },
     "metadata": {},
     "output_type": "display_data"
    },
    {
     "data": {
      "image/png": "[encoded data removed]",
      "text/plain": [
       "<Figure size 600x600 with 1 Axes>"
      ]
     },
     "metadata": {},
     "output_type": "display_data"
    }
   ],
   "source": [
    "import pickle\n",
    "\n",
    "\n",
    "\n",
    "#with open('filename.pickle', 'wb') as handle:\n",
    "#    pickle.dump(posterior, handle, protocol=pickle.HIGHEST_PROTOCOL)\n",
    "\n",
    "with open('filename.pickle', 'rb') as handle:\n",
    "    posterior = pickle.load(handle)\n",
    "\n",
    "observation = data_test[0,1:]\n",
    "samples = posterior.sample((10000,), x=observation)\n",
    "log_probability = posterior.log_prob(samples, x=observation)\n",
    "_ = analysis.pairplot(samples, figsize=(6, 6))\n",
    "plt.show()"
   ]
  },
  {
   "cell_type": "code",
   "execution_count": 18,
   "metadata": {},
   "outputs": [
    {
     "data": {
      "application/vnd.jupyter.widget-view+json": {
       "model_id": "a379e0845859434687685896c357ec7d",
       "version_major": 2,
       "version_minor": 0
      },
      "text/plain": [
       "Drawing 10000 posterior samples:   0%|          | 0/10000 [00:00<?, ?it/s]"
      ]
     },
     "metadata": {},
     "output_type": "display_data"
    },
    {
     "data": {
      "application/vnd.jupyter.widget-view+json": {
       "model_id": "a66085b155a34f70837fd73db28843be",
       "version_major": 2,
       "version_minor": 0
      },
      "text/plain": [
       "Drawing 10000 posterior samples:   0%|          | 0/10000 [00:00<?, ?it/s]"
      ]
     },
     "metadata": {},
     "output_type": "display_data"
    },
    {
     "data": {
      "application/vnd.jupyter.widget-view+json": {
       "model_id": "8b83662a494742eba88d3982a790ad25",
       "version_major": 2,
       "version_minor": 0
      },
      "text/plain": [
       "Drawing 10000 posterior samples:   0%|          | 0/10000 [00:00<?, ?it/s]"
      ]
     },
     "metadata": {},
     "output_type": "display_data"
    },
    {
     "data": {
      "application/vnd.jupyter.widget-view+json": {
       "model_id": "3b5d52c66a1f4f9aa92fc7fa560db39c",
       "version_major": 2,
       "version_minor": 0
      },
      "text/plain": [
       "Drawing 10000 posterior samples:   0%|          | 0/10000 [00:00<?, ?it/s]"
      ]
     },
     "metadata": {},
     "output_type": "display_data"
    },
    {
     "data": {
      "application/vnd.jupyter.widget-view+json": {
       "model_id": "c49118577ed240e7bc7a42af3dc1e925",
       "version_major": 2,
       "version_minor": 0
      },
      "text/plain": [
       "Drawing 10000 posterior samples:   0%|          | 0/10000 [00:00<?, ?it/s]"
      ]
     },
     "metadata": {},
     "output_type": "display_data"
    },
    {
     "data": {
      "application/vnd.jupyter.widget-view+json": {
       "model_id": "0ce5c5cf187e4724a5c0f71023d5486f",
       "version_major": 2,
       "version_minor": 0
      },
      "text/plain": [
       "Drawing 10000 posterior samples:   0%|          | 0/10000 [00:00<?, ?it/s]"
      ]
     },
     "metadata": {},
     "output_type": "display_data"
    },
    {
     "data": {
      "application/vnd.jupyter.widget-view+json": {
       "model_id": "6a171d3d0bfe49cf9acd97ea8da6f197",
       "version_major": 2,
       "version_minor": 0
      },
      "text/plain": [
       "Drawing 10000 posterior samples:   0%|          | 0/10000 [00:00<?, ?it/s]"
      ]
     },
     "metadata": {},
     "output_type": "display_data"
    },
    {
     "data": {
      "application/vnd.jupyter.widget-view+json": {
       "model_id": "a544872dd6004e15b4b7f083ca4be5e1",
       "version_major": 2,
       "version_minor": 0
      },
      "text/plain": [
       "Drawing 10000 posterior samples:   0%|          | 0/10000 [00:00<?, ?it/s]"
      ]
     },
     "metadata": {},
     "output_type": "display_data"
    },
    {
     "data": {
      "application/vnd.jupyter.widget-view+json": {
       "model_id": "3a37b236ccad42e9b6b601a9708d6591",
       "version_major": 2,
       "version_minor": 0
      },
      "text/plain": [
       "Drawing 10000 posterior samples:   0%|          | 0/10000 [00:00<?, ?it/s]"
      ]
     },
     "metadata": {},
     "output_type": "display_data"
    },
    {
     "data": {
      "application/vnd.jupyter.widget-view+json": {
       "model_id": "a9c8e35a2ec94f37a14a45fa102da94d",
       "version_major": 2,
       "version_minor": 0
      },
      "text/plain": [
       "Drawing 10000 posterior samples:   0%|          | 0/10000 [00:00<?, ?it/s]"
      ]
     },
     "metadata": {},
     "output_type": "display_data"
    },
    {
     "data": {
      "application/vnd.jupyter.widget-view+json": {
       "model_id": "3ed797e5da234e8580a8f9db2186f5a8",
       "version_major": 2,
       "version_minor": 0
      },
      "text/plain": [
       "Drawing 10000 posterior samples:   0%|          | 0/10000 [00:00<?, ?it/s]"
      ]
     },
     "metadata": {},
     "output_type": "display_data"
    },
    {
     "data": {
      "application/vnd.jupyter.widget-view+json": {
       "model_id": "9a4eadd2de4246d893dc750718c760c5",
       "version_major": 2,
       "version_minor": 0
      },
      "text/plain": [
       "Drawing 10000 posterior samples:   0%|          | 0/10000 [00:00<?, ?it/s]"
      ]
     },
     "metadata": {},
     "output_type": "display_data"
    },
    {
     "data": {
      "application/vnd.jupyter.widget-view+json": {
       "model_id": "7329430b29584c2eb8bf238e0792393d",
       "version_major": 2,
       "version_minor": 0
      },
      "text/plain": [
       "Drawing 10000 posterior samples:   0%|          | 0/10000 [00:00<?, ?it/s]"
      ]
     },
     "metadata": {},
     "output_type": "display_data"
    },
    {
     "data": {
      "application/vnd.jupyter.widget-view+json": {
       "model_id": "88fc357cda5d4f408e64ce8ce5a4944a",
       "version_major": 2,
       "version_minor": 0
      },
      "text/plain": [
       "Drawing 10000 posterior samples:   0%|          | 0/10000 [00:00<?, ?it/s]"
      ]
     },
     "metadata": {},
     "output_type": "display_data"
    },
    {
     "data": {
      "application/vnd.jupyter.widget-view+json": {
       "model_id": "973f21577696421982d52221e8c588cf",
       "version_major": 2,
       "version_minor": 0
      },
      "text/plain": [
       "Drawing 10000 posterior samples:   0%|          | 0/10000 [00:00<?, ?it/s]"
      ]
     },
     "metadata": {},
     "output_type": "display_data"
    },
    {
     "data": {
      "application/vnd.jupyter.widget-view+json": {
       "model_id": "a076a8fb55b64694a50666eb6eb7a098",
       "version_major": 2,
       "version_minor": 0
      },
      "text/plain": [
       "Drawing 10000 posterior samples:   0%|          | 0/10000 [00:00<?, ?it/s]"
      ]
     },
     "metadata": {},
     "output_type": "display_data"
    },
    {
     "data": {
      "application/vnd.jupyter.widget-view+json": {
       "model_id": "d7bc082f7cfe4249829314f9a715bfcc",
       "version_major": 2,
       "version_minor": 0
      },
      "text/plain": [
       "Drawing 10000 posterior samples:   0%|          | 0/10000 [00:00<?, ?it/s]"
      ]
     },
     "metadata": {},
     "output_type": "display_data"
    },
    {
     "data": {
      "application/vnd.jupyter.widget-view+json": {
       "model_id": "5bd3d71a18f5468c8ef2d974815529a7",
       "version_major": 2,
       "version_minor": 0
      },
      "text/plain": [
       "Drawing 10000 posterior samples:   0%|          | 0/10000 [00:00<?, ?it/s]"
      ]
     },
     "metadata": {},
     "output_type": "display_data"
    },
    {
     "data": {
      "application/vnd.jupyter.widget-view+json": {
       "model_id": "f0e030675edb4441862516a7a560dccf",
       "version_major": 2,
       "version_minor": 0
      },
      "text/plain": [
       "Drawing 10000 posterior samples:   0%|          | 0/10000 [00:00<?, ?it/s]"
      ]
     },
     "metadata": {},
     "output_type": "display_data"
    },
    {
     "data": {
      "application/vnd.jupyter.widget-view+json": {
       "model_id": "43b8182a80e340ae9e6bb8fc84290d19",
       "version_major": 2,
       "version_minor": 0
      },
      "text/plain": [
       "Drawing 10000 posterior samples:   0%|          | 0/10000 [00:00<?, ?it/s]"
      ]
     },
     "metadata": {},
     "output_type": "display_data"
    },
    {
     "data": {
      "application/vnd.jupyter.widget-view+json": {
       "model_id": "9ec94cf1824a449a80da64f7cbd11a9b",
       "version_major": 2,
       "version_minor": 0
      },
      "text/plain": [
       "Drawing 10000 posterior samples:   0%|          | 0/10000 [00:00<?, ?it/s]"
      ]
     },
     "metadata": {},
     "output_type": "display_data"
    },
    {
     "data": {
      "application/vnd.jupyter.widget-view+json": {
       "model_id": "2f35fbae9fb1476fb76591cd0663e178",
       "version_major": 2,
       "version_minor": 0
      },
      "text/plain": [
       "Drawing 10000 posterior samples:   0%|          | 0/10000 [00:00<?, ?it/s]"
      ]
     },
     "metadata": {},
     "output_type": "display_data"
    },
    {
     "data": {
      "application/vnd.jupyter.widget-view+json": {
       "model_id": "ae3564ad8edf460b829866f596628562",
       "version_major": 2,
       "version_minor": 0
      },
      "text/plain": [
       "Drawing 10000 posterior samples:   0%|          | 0/10000 [00:00<?, ?it/s]"
      ]
     },
     "metadata": {},
     "output_type": "display_data"
    },
    {
     "data": {
      "application/vnd.jupyter.widget-view+json": {
       "model_id": "3a39c00c32fe467cbadf6428b9206c94",
       "version_major": 2,
       "version_minor": 0
      },
      "text/plain": [
       "Drawing 10000 posterior samples:   0%|          | 0/10000 [00:00<?, ?it/s]"
      ]
     },
     "metadata": {},
     "output_type": "display_data"
    },
    {
     "data": {
      "application/vnd.jupyter.widget-view+json": {
       "model_id": "734a35d153a24ab4b220dba151c885b0",
       "version_major": 2,
       "version_minor": 0
      },
      "text/plain": [
       "Drawing 10000 posterior samples:   0%|          | 0/10000 [00:00<?, ?it/s]"
      ]
     },
     "metadata": {},
     "output_type": "display_data"
    },
    {
     "data": {
      "application/vnd.jupyter.widget-view+json": {
       "model_id": "d4616e688e814163996784f2ecbb458f",
       "version_major": 2,
       "version_minor": 0
      },
      "text/plain": [
       "Drawing 10000 posterior samples:   0%|          | 0/10000 [00:00<?, ?it/s]"
      ]
     },
     "metadata": {},
     "output_type": "display_data"
    },
    {
     "data": {
      "application/vnd.jupyter.widget-view+json": {
       "model_id": "cdf4165fbd0a4911b95b1aff2d6cea7d",
       "version_major": 2,
       "version_minor": 0
      },
      "text/plain": [
       "Drawing 10000 posterior samples:   0%|          | 0/10000 [00:00<?, ?it/s]"
      ]
     },
     "metadata": {},
     "output_type": "display_data"
    },
    {
     "data": {
      "application/vnd.jupyter.widget-view+json": {
       "model_id": "ff0be6e0690948dcb7c3bfa9861294a1",
       "version_major": 2,
       "version_minor": 0
      },
      "text/plain": [
       "Drawing 10000 posterior samples:   0%|          | 0/10000 [00:00<?, ?it/s]"
      ]
     },
     "metadata": {},
     "output_type": "display_data"
    },
    {
     "data": {
      "application/vnd.jupyter.widget-view+json": {
       "model_id": "3c13e7706b294efd9c205c019e6c2d0b",
       "version_major": 2,
       "version_minor": 0
      },
      "text/plain": [
       "Drawing 10000 posterior samples:   0%|          | 0/10000 [00:00<?, ?it/s]"
      ]
     },
     "metadata": {},
     "output_type": "display_data"
    },
    {
     "data": {
      "application/vnd.jupyter.widget-view+json": {
       "model_id": "dfc6c6c0a262401cac96d0ba14f4333e",
       "version_major": 2,
       "version_minor": 0
      },
      "text/plain": [
       "Drawing 10000 posterior samples:   0%|          | 0/10000 [00:00<?, ?it/s]"
      ]
     },
     "metadata": {},
     "output_type": "display_data"
    },
    {
     "data": {
      "application/vnd.jupyter.widget-view+json": {
       "model_id": "912e93c9edc44cdf8c9d6a045f13813b",
       "version_major": 2,
       "version_minor": 0
      },
      "text/plain": [
       "Drawing 10000 posterior samples:   0%|          | 0/10000 [00:00<?, ?it/s]"
      ]
     },
     "metadata": {},
     "output_type": "display_data"
    },
    {
     "data": {
      "application/vnd.jupyter.widget-view+json": {
       "model_id": "86397b096486411ebd59858769319fea",
       "version_major": 2,
       "version_minor": 0
      },
      "text/plain": [
       "Drawing 10000 posterior samples:   0%|          | 0/10000 [00:00<?, ?it/s]"
      ]
     },
     "metadata": {},
     "output_type": "display_data"
    },
    {
     "data": {
      "application/vnd.jupyter.widget-view+json": {
       "model_id": "409c3524520d46a185c3e057e002ca30",
       "version_major": 2,
       "version_minor": 0
      },
      "text/plain": [
       "Drawing 10000 posterior samples:   0%|          | 0/10000 [00:00<?, ?it/s]"
      ]
     },
     "metadata": {},
     "output_type": "display_data"
    },
    {
     "data": {
      "application/vnd.jupyter.widget-view+json": {
       "model_id": "4542c4624baa4ddc977fdf7f096917b0",
       "version_major": 2,
       "version_minor": 0
      },
      "text/plain": [
       "Drawing 10000 posterior samples:   0%|          | 0/10000 [00:00<?, ?it/s]"
      ]
     },
     "metadata": {},
     "output_type": "display_data"
    },
    {
     "data": {
      "application/vnd.jupyter.widget-view+json": {
       "model_id": "c98d8a03f4a947219c844e7a40d3c157",
       "version_major": 2,
       "version_minor": 0
      },
      "text/plain": [
       "Drawing 10000 posterior samples:   0%|          | 0/10000 [00:00<?, ?it/s]"
      ]
     },
     "metadata": {},
     "output_type": "display_data"
    },
    {
     "data": {
      "application/vnd.jupyter.widget-view+json": {
       "model_id": "7b5dd49acc1c497b8899101ac64c4654",
       "version_major": 2,
       "version_minor": 0
      },
      "text/plain": [
       "Drawing 10000 posterior samples:   0%|          | 0/10000 [00:00<?, ?it/s]"
      ]
     },
     "metadata": {},
     "output_type": "display_data"
    },
    {
     "data": {
      "application/vnd.jupyter.widget-view+json": {
       "model_id": "097b730d314645daaf55c064c7420956",
       "version_major": 2,
       "version_minor": 0
      },
      "text/plain": [
       "Drawing 10000 posterior samples:   0%|          | 0/10000 [00:00<?, ?it/s]"
      ]
     },
     "metadata": {},
     "output_type": "display_data"
    },
    {
     "data": {
      "application/vnd.jupyter.widget-view+json": {
       "model_id": "66e927a3e347479a9965094872dcaae8",
       "version_major": 2,
       "version_minor": 0
      },
      "text/plain": [
       "Drawing 10000 posterior samples:   0%|          | 0/10000 [00:00<?, ?it/s]"
      ]
     },
     "metadata": {},
     "output_type": "display_data"
    },
    {
     "data": {
      "application/vnd.jupyter.widget-view+json": {
       "model_id": "dc9d06a891b04a008e036160138d45d0",
       "version_major": 2,
       "version_minor": 0
      },
      "text/plain": [
       "Drawing 10000 posterior samples:   0%|          | 0/10000 [00:00<?, ?it/s]"
      ]
     },
     "metadata": {},
     "output_type": "display_data"
    },
    {
     "data": {
      "application/vnd.jupyter.widget-view+json": {
       "model_id": "c7a05773602a48068a229399f0f33cbe",
       "version_major": 2,
       "version_minor": 0
      },
      "text/plain": [
       "Drawing 10000 posterior samples:   0%|          | 0/10000 [00:00<?, ?it/s]"
      ]
     },
     "metadata": {},
     "output_type": "display_data"
    },
    {
     "data": {
      "application/vnd.jupyter.widget-view+json": {
       "model_id": "bcab9ca3aed24e0484f4ad3c0ea50f26",
       "version_major": 2,
       "version_minor": 0
      },
      "text/plain": [
       "Drawing 10000 posterior samples:   0%|          | 0/10000 [00:00<?, ?it/s]"
      ]
     },
     "metadata": {},
     "output_type": "display_data"
    },
    {
     "data": {
      "application/vnd.jupyter.widget-view+json": {
       "model_id": "65ac870a74884a6da8fdd0f9bb0a1674",
       "version_major": 2,
       "version_minor": 0
      },
      "text/plain": [
       "Drawing 10000 posterior samples:   0%|          | 0/10000 [00:00<?, ?it/s]"
      ]
     },
     "metadata": {},
     "output_type": "display_data"
    },
    {
     "data": {
      "application/vnd.jupyter.widget-view+json": {
       "model_id": "951d7aa9fe964e52bffcf0c70b31773f",
       "version_major": 2,
       "version_minor": 0
      },
      "text/plain": [
       "Drawing 10000 posterior samples:   0%|          | 0/10000 [00:00<?, ?it/s]"
      ]
     },
     "metadata": {},
     "output_type": "display_data"
    },
    {
     "data": {
      "application/vnd.jupyter.widget-view+json": {
       "model_id": "776fe8e2b872407687ba9bffd489b97a",
       "version_major": 2,
       "version_minor": 0
      },
      "text/plain": [
       "Drawing 10000 posterior samples:   0%|          | 0/10000 [00:00<?, ?it/s]"
      ]
     },
     "metadata": {},
     "output_type": "display_data"
    },
    {
     "data": {
      "application/vnd.jupyter.widget-view+json": {
       "model_id": "9489e422c75b4d63b6821e33ac27ce4c",
       "version_major": 2,
       "version_minor": 0
      },
      "text/plain": [
       "Drawing 10000 posterior samples:   0%|          | 0/10000 [00:00<?, ?it/s]"
      ]
     },
     "metadata": {},
     "output_type": "display_data"
    },
    {
     "data": {
      "application/vnd.jupyter.widget-view+json": {
       "model_id": "4df29dec512940968ff3976212de3225",
       "version_major": 2,
       "version_minor": 0
      },
      "text/plain": [
       "Drawing 10000 posterior samples:   0%|          | 0/10000 [00:00<?, ?it/s]"
      ]
     },
     "metadata": {},
     "output_type": "display_data"
    },
    {
     "data": {
      "application/vnd.jupyter.widget-view+json": {
       "model_id": "d7c51fb47ed6433d96732ddf0639b4fc",
       "version_major": 2,
       "version_minor": 0
      },
      "text/plain": [
       "Drawing 10000 posterior samples:   0%|          | 0/10000 [00:00<?, ?it/s]"
      ]
     },
     "metadata": {},
     "output_type": "display_data"
    },
    {
     "data": {
      "application/vnd.jupyter.widget-view+json": {
       "model_id": "443a87b8ffda457cbacac64046125863",
       "version_major": 2,
       "version_minor": 0
      },
      "text/plain": [
       "Drawing 10000 posterior samples:   0%|          | 0/10000 [00:00<?, ?it/s]"
      ]
     },
     "metadata": {},
     "output_type": "display_data"
    },
    {
     "data": {
      "application/vnd.jupyter.widget-view+json": {
       "model_id": "54b9ff36f82c4a33a524472146d6efd5",
       "version_major": 2,
       "version_minor": 0
      },
      "text/plain": [
       "Drawing 10000 posterior samples:   0%|          | 0/10000 [00:00<?, ?it/s]"
      ]
     },
     "metadata": {},
     "output_type": "display_data"
    },
    {
     "data": {
      "application/vnd.jupyter.widget-view+json": {
       "model_id": "34f304781f394d4d8d66a279ca1137e5",
       "version_major": 2,
       "version_minor": 0
      },
      "text/plain": [
       "Drawing 10000 posterior samples:   0%|          | 0/10000 [00:00<?, ?it/s]"
      ]
     },
     "metadata": {},
     "output_type": "display_data"
    },
    {
     "data": {
      "application/vnd.jupyter.widget-view+json": {
       "model_id": "72387b1204e9487d9ffb1f7428ad3a3b",
       "version_major": 2,
       "version_minor": 0
      },
      "text/plain": [
       "Drawing 10000 posterior samples:   0%|          | 0/10000 [00:00<?, ?it/s]"
      ]
     },
     "metadata": {},
     "output_type": "display_data"
    },
    {
     "data": {
      "application/vnd.jupyter.widget-view+json": {
       "model_id": "20e43dbb19e949949d9cc7f38e540ba6",
       "version_major": 2,
       "version_minor": 0
      },
      "text/plain": [
       "Drawing 10000 posterior samples:   0%|          | 0/10000 [00:00<?, ?it/s]"
      ]
     },
     "metadata": {},
     "output_type": "display_data"
    },
    {
     "data": {
      "application/vnd.jupyter.widget-view+json": {
       "model_id": "707eff3e025b4d9991a2c55afb140009",
       "version_major": 2,
       "version_minor": 0
      },
      "text/plain": [
       "Drawing 10000 posterior samples:   0%|          | 0/10000 [00:00<?, ?it/s]"
      ]
     },
     "metadata": {},
     "output_type": "display_data"
    },
    {
     "data": {
      "application/vnd.jupyter.widget-view+json": {
       "model_id": "7bd6ce8d69494c00b9da6eff67282e49",
       "version_major": 2,
       "version_minor": 0
      },
      "text/plain": [
       "Drawing 10000 posterior samples:   0%|          | 0/10000 [00:00<?, ?it/s]"
      ]
     },
     "metadata": {},
     "output_type": "display_data"
    },
    {
     "data": {
      "application/vnd.jupyter.widget-view+json": {
       "model_id": "210ac3af20d64a24a094aea6e07d43b8",
       "version_major": 2,
       "version_minor": 0
      },
      "text/plain": [
       "Drawing 10000 posterior samples:   0%|          | 0/10000 [00:00<?, ?it/s]"
      ]
     },
     "metadata": {},
     "output_type": "display_data"
    },
    {
     "data": {
      "application/vnd.jupyter.widget-view+json": {
       "model_id": "b657de55e7e74a13b9ca05ca18a2e08a",
       "version_major": 2,
       "version_minor": 0
      },
      "text/plain": [
       "Drawing 10000 posterior samples:   0%|          | 0/10000 [00:00<?, ?it/s]"
      ]
     },
     "metadata": {},
     "output_type": "display_data"
    },
    {
     "data": {
      "application/vnd.jupyter.widget-view+json": {
       "model_id": "62a3d32fb60d47ccb92d8eb41d780f4e",
       "version_major": 2,
       "version_minor": 0
      },
      "text/plain": [
       "Drawing 10000 posterior samples:   0%|          | 0/10000 [00:00<?, ?it/s]"
      ]
     },
     "metadata": {},
     "output_type": "display_data"
    },
    {
     "data": {
      "application/vnd.jupyter.widget-view+json": {
       "model_id": "523372a5a5574ce4b39ff800e147cb63",
       "version_major": 2,
       "version_minor": 0
      },
      "text/plain": [
       "Drawing 10000 posterior samples:   0%|          | 0/10000 [00:00<?, ?it/s]"
      ]
     },
     "metadata": {},
     "output_type": "display_data"
    },
    {
     "data": {
      "application/vnd.jupyter.widget-view+json": {
       "model_id": "1f8df13a3adc4655a4997c533270b521",
       "version_major": 2,
       "version_minor": 0
      },
      "text/plain": [
       "Drawing 10000 posterior samples:   0%|          | 0/10000 [00:00<?, ?it/s]"
      ]
     },
     "metadata": {},
     "output_type": "display_data"
    },
    {
     "data": {
      "application/vnd.jupyter.widget-view+json": {
       "model_id": "e423af9662d34c1eb0874171438ed673",
       "version_major": 2,
       "version_minor": 0
      },
      "text/plain": [
       "Drawing 10000 posterior samples:   0%|          | 0/10000 [00:00<?, ?it/s]"
      ]
     },
     "metadata": {},
     "output_type": "display_data"
    },
    {
     "data": {
      "application/vnd.jupyter.widget-view+json": {
       "model_id": "532dda8419b34a519159e60bab4c2d6e",
       "version_major": 2,
       "version_minor": 0
      },
      "text/plain": [
       "Drawing 10000 posterior samples:   0%|          | 0/10000 [00:00<?, ?it/s]"
      ]
     },
     "metadata": {},
     "output_type": "display_data"
    },
    {
     "data": {
      "application/vnd.jupyter.widget-view+json": {
       "model_id": "81c1f970e855465bae16d17acc234c57",
       "version_major": 2,
       "version_minor": 0
      },
      "text/plain": [
       "Drawing 10000 posterior samples:   0%|          | 0/10000 [00:00<?, ?it/s]"
      ]
     },
     "metadata": {},
     "output_type": "display_data"
    },
    {
     "data": {
      "application/vnd.jupyter.widget-view+json": {
       "model_id": "d8dd8dcab8b944d5961b9f30da52bb1a",
       "version_major": 2,
       "version_minor": 0
      },
      "text/plain": [
       "Drawing 10000 posterior samples:   0%|          | 0/10000 [00:00<?, ?it/s]"
      ]
     },
     "metadata": {},
     "output_type": "display_data"
    },
    {
     "data": {
      "application/vnd.jupyter.widget-view+json": {
       "model_id": "3cd71511abee4310b2c8f479655e4931",
       "version_major": 2,
       "version_minor": 0
      },
      "text/plain": [
       "Drawing 10000 posterior samples:   0%|          | 0/10000 [00:00<?, ?it/s]"
      ]
     },
     "metadata": {},
     "output_type": "display_data"
    },
    {
     "data": {
      "application/vnd.jupyter.widget-view+json": {
       "model_id": "c5fc417e128a4b6b850a854f06fc42b2",
       "version_major": 2,
       "version_minor": 0
      },
      "text/plain": [
       "Drawing 10000 posterior samples:   0%|          | 0/10000 [00:00<?, ?it/s]"
      ]
     },
     "metadata": {},
     "output_type": "display_data"
    },
    {
     "data": {
      "application/vnd.jupyter.widget-view+json": {
       "model_id": "30cb862d6a9944e897e886ae29b30969",
       "version_major": 2,
       "version_minor": 0
      },
      "text/plain": [
       "Drawing 10000 posterior samples:   0%|          | 0/10000 [00:00<?, ?it/s]"
      ]
     },
     "metadata": {},
     "output_type": "display_data"
    },
    {
     "data": {
      "application/vnd.jupyter.widget-view+json": {
       "model_id": "4f04b238e42f4d03830bf771084af5f2",
       "version_major": 2,
       "version_minor": 0
      },
      "text/plain": [
       "Drawing 10000 posterior samples:   0%|          | 0/10000 [00:00<?, ?it/s]"
      ]
     },
     "metadata": {},
     "output_type": "display_data"
    },
    {
     "data": {
      "application/vnd.jupyter.widget-view+json": {
       "model_id": "0f46e0fa79f94c788b810efbf02b7fa0",
       "version_major": 2,
       "version_minor": 0
      },
      "text/plain": [
       "Drawing 10000 posterior samples:   0%|          | 0/10000 [00:00<?, ?it/s]"
      ]
     },
     "metadata": {},
     "output_type": "display_data"
    },
    {
     "data": {
      "application/vnd.jupyter.widget-view+json": {
       "model_id": "7b456e6350fd49608f64de2e49b1d65e",
       "version_major": 2,
       "version_minor": 0
      },
      "text/plain": [
       "Drawing 10000 posterior samples:   0%|          | 0/10000 [00:00<?, ?it/s]"
      ]
     },
     "metadata": {},
     "output_type": "display_data"
    },
    {
     "data": {
      "application/vnd.jupyter.widget-view+json": {
       "model_id": "26e4e4b921444460a09bce0b77f5d647",
       "version_major": 2,
       "version_minor": 0
      },
      "text/plain": [
       "Drawing 10000 posterior samples:   0%|          | 0/10000 [00:00<?, ?it/s]"
      ]
     },
     "metadata": {},
     "output_type": "display_data"
    },
    {
     "data": {
      "application/vnd.jupyter.widget-view+json": {
       "model_id": "dbd31f1cd1ac4ef5862a50180af8153e",
       "version_major": 2,
       "version_minor": 0
      },
      "text/plain": [
       "Drawing 10000 posterior samples:   0%|          | 0/10000 [00:00<?, ?it/s]"
      ]
     },
     "metadata": {},
     "output_type": "display_data"
    },
    {
     "data": {
      "application/vnd.jupyter.widget-view+json": {
       "model_id": "bb8cf133c5ba4cfcb46da3a78e2bcce8",
       "version_major": 2,
       "version_minor": 0
      },
      "text/plain": [
       "Drawing 10000 posterior samples:   0%|          | 0/10000 [00:00<?, ?it/s]"
      ]
     },
     "metadata": {},
     "output_type": "display_data"
    },
    {
     "data": {
      "application/vnd.jupyter.widget-view+json": {
       "model_id": "c8221b981bcf4f45b843cae5e84e86ac",
       "version_major": 2,
       "version_minor": 0
      },
      "text/plain": [
       "Drawing 10000 posterior samples:   0%|          | 0/10000 [00:00<?, ?it/s]"
      ]
     },
     "metadata": {},
     "output_type": "display_data"
    },
    {
     "data": {
      "application/vnd.jupyter.widget-view+json": {
       "model_id": "12958c98c784476bb579c7b1ed33c3b4",
       "version_major": 2,
       "version_minor": 0
      },
      "text/plain": [
       "Drawing 10000 posterior samples:   0%|          | 0/10000 [00:00<?, ?it/s]"
      ]
     },
     "metadata": {},
     "output_type": "display_data"
    },
    {
     "data": {
      "application/vnd.jupyter.widget-view+json": {
       "model_id": "8facf2b777e14b70a2cd327a0059f70f",
       "version_major": 2,
       "version_minor": 0
      },
      "text/plain": [
       "Drawing 10000 posterior samples:   0%|          | 0/10000 [00:00<?, ?it/s]"
      ]
     },
     "metadata": {},
     "output_type": "display_data"
    },
    {
     "data": {
      "application/vnd.jupyter.widget-view+json": {
       "model_id": "0db1a5575a8f4ceeab059dd7e94dfeb6",
       "version_major": 2,
       "version_minor": 0
      },
      "text/plain": [
       "Drawing 10000 posterior samples:   0%|          | 0/10000 [00:00<?, ?it/s]"
      ]
     },
     "metadata": {},
     "output_type": "display_data"
    },
    {
     "data": {
      "application/vnd.jupyter.widget-view+json": {
       "model_id": "740ba118e87746c0ad95aad01d5e33e8",
       "version_major": 2,
       "version_minor": 0
      },
      "text/plain": [
       "Drawing 10000 posterior samples:   0%|          | 0/10000 [00:00<?, ?it/s]"
      ]
     },
     "metadata": {},
     "output_type": "display_data"
    },
    {
     "data": {
      "application/vnd.jupyter.widget-view+json": {
       "model_id": "9f27a411d22d47a481a9633af0374f0f",
       "version_major": 2,
       "version_minor": 0
      },
      "text/plain": [
       "Drawing 10000 posterior samples:   0%|          | 0/10000 [00:00<?, ?it/s]"
      ]
     },
     "metadata": {},
     "output_type": "display_data"
    },
    {
     "data": {
      "application/vnd.jupyter.widget-view+json": {
       "model_id": "9f4fac713bd34c379ff894d7b3d14c9a",
       "version_major": 2,
       "version_minor": 0
      },
      "text/plain": [
       "Drawing 10000 posterior samples:   0%|          | 0/10000 [00:00<?, ?it/s]"
      ]
     },
     "metadata": {},
     "output_type": "display_data"
    },
    {
     "data": {
      "application/vnd.jupyter.widget-view+json": {
       "model_id": "cbadfb3ffbd54eb59dd87ed80bfc27b6",
       "version_major": 2,
       "version_minor": 0
      },
      "text/plain": [
       "Drawing 10000 posterior samples:   0%|          | 0/10000 [00:00<?, ?it/s]"
      ]
     },
     "metadata": {},
     "output_type": "display_data"
    },
    {
     "data": {
      "application/vnd.jupyter.widget-view+json": {
       "model_id": "38b52a9e7ced481182ade2be52e1e7e3",
       "version_major": 2,
       "version_minor": 0
      },
      "text/plain": [
       "Drawing 10000 posterior samples:   0%|          | 0/10000 [00:00<?, ?it/s]"
      ]
     },
     "metadata": {},
     "output_type": "display_data"
    },
    {
     "data": {
      "application/vnd.jupyter.widget-view+json": {
       "model_id": "b4d210d755224cceae9f123b5eefb13e",
       "version_major": 2,
       "version_minor": 0
      },
      "text/plain": [
       "Drawing 10000 posterior samples:   0%|          | 0/10000 [00:00<?, ?it/s]"
      ]
     },
     "metadata": {},
     "output_type": "display_data"
    },
    {
     "data": {
      "application/vnd.jupyter.widget-view+json": {
       "model_id": "c9bfd36bb13a43a2bf4583d705542e56",
       "version_major": 2,
       "version_minor": 0
      },
      "text/plain": [
       "Drawing 10000 posterior samples:   0%|          | 0/10000 [00:00<?, ?it/s]"
      ]
     },
     "metadata": {},
     "output_type": "display_data"
    },
    {
     "data": {
      "application/vnd.jupyter.widget-view+json": {
       "model_id": "529f51704c3646ddbd9a3f3e3724a511",
       "version_major": 2,
       "version_minor": 0
      },
      "text/plain": [
       "Drawing 10000 posterior samples:   0%|          | 0/10000 [00:00<?, ?it/s]"
      ]
     },
     "metadata": {},
     "output_type": "display_data"
    },
    {
     "data": {
      "application/vnd.jupyter.widget-view+json": {
       "model_id": "0a85acc0106440d090e68a889f7c422e",
       "version_major": 2,
       "version_minor": 0
      },
      "text/plain": [
       "Drawing 10000 posterior samples:   0%|          | 0/10000 [00:00<?, ?it/s]"
      ]
     },
     "metadata": {},
     "output_type": "display_data"
    },
    {
     "data": {
      "application/vnd.jupyter.widget-view+json": {
       "model_id": "9c216f97a03f4d019c8f5fffb32ca23f",
       "version_major": 2,
       "version_minor": 0
      },
      "text/plain": [
       "Drawing 10000 posterior samples:   0%|          | 0/10000 [00:00<?, ?it/s]"
      ]
     },
     "metadata": {},
     "output_type": "display_data"
    },
    {
     "data": {
      "application/vnd.jupyter.widget-view+json": {
       "model_id": "7661bee976ae42a5addb9d1e31f42b33",
       "version_major": 2,
       "version_minor": 0
      },
      "text/plain": [
       "Drawing 10000 posterior samples:   0%|          | 0/10000 [00:00<?, ?it/s]"
      ]
     },
     "metadata": {},
     "output_type": "display_data"
    },
    {
     "data": {
      "application/vnd.jupyter.widget-view+json": {
       "model_id": "dc6a74e7f8f7450a920b5b16f7922ae5",
       "version_major": 2,
       "version_minor": 0
      },
      "text/plain": [
       "Drawing 10000 posterior samples:   0%|          | 0/10000 [00:00<?, ?it/s]"
      ]
     },
     "metadata": {},
     "output_type": "display_data"
    },
    {
     "data": {
      "application/vnd.jupyter.widget-view+json": {
       "model_id": "f8d0dff438714d568b26142a0e9b3da3",
       "version_major": 2,
       "version_minor": 0
      },
      "text/plain": [
       "Drawing 10000 posterior samples:   0%|          | 0/10000 [00:00<?, ?it/s]"
      ]
     },
     "metadata": {},
     "output_type": "display_data"
    },
    {
     "data": {
      "application/vnd.jupyter.widget-view+json": {
       "model_id": "9b946bbe74db4ef989ba99b6de6d8fe5",
       "version_major": 2,
       "version_minor": 0
      },
      "text/plain": [
       "Drawing 10000 posterior samples:   0%|          | 0/10000 [00:00<?, ?it/s]"
      ]
     },
     "metadata": {},
     "output_type": "display_data"
    },
    {
     "data": {
      "application/vnd.jupyter.widget-view+json": {
       "model_id": "da9d256448584535964d0194d3f3242e",
       "version_major": 2,
       "version_minor": 0
      },
      "text/plain": [
       "Drawing 10000 posterior samples:   0%|          | 0/10000 [00:00<?, ?it/s]"
      ]
     },
     "metadata": {},
     "output_type": "display_data"
    },
    {
     "data": {
      "application/vnd.jupyter.widget-view+json": {
       "model_id": "3f9bca9c10174d16b22906e1ca3da8a5",
       "version_major": 2,
       "version_minor": 0
      },
      "text/plain": [
       "Drawing 10000 posterior samples:   0%|          | 0/10000 [00:00<?, ?it/s]"
      ]
     },
     "metadata": {},
     "output_type": "display_data"
    },
    {
     "data": {
      "application/vnd.jupyter.widget-view+json": {
       "model_id": "5fde56440a3f4584aa01caf2858d2863",
       "version_major": 2,
       "version_minor": 0
      },
      "text/plain": [
       "Drawing 10000 posterior samples:   0%|          | 0/10000 [00:00<?, ?it/s]"
      ]
     },
     "metadata": {},
     "output_type": "display_data"
    },
    {
     "data": {
      "application/vnd.jupyter.widget-view+json": {
       "model_id": "9d6c717c62e2469fa3b8b4c3d7f9d05e",
       "version_major": 2,
       "version_minor": 0
      },
      "text/plain": [
       "Drawing 10000 posterior samples:   0%|          | 0/10000 [00:00<?, ?it/s]"
      ]
     },
     "metadata": {},
     "output_type": "display_data"
    },
    {
     "data": {
      "application/vnd.jupyter.widget-view+json": {
       "model_id": "cb8c9ea3067a4063b276ba1d2b5a813a",
       "version_major": 2,
       "version_minor": 0
      },
      "text/plain": [
       "Drawing 10000 posterior samples:   0%|          | 0/10000 [00:00<?, ?it/s]"
      ]
     },
     "metadata": {},
     "output_type": "display_data"
    },
    {
     "data": {
      "application/vnd.jupyter.widget-view+json": {
       "model_id": "80dc8318c1a0470cbe13e993f4872282",
       "version_major": 2,
       "version_minor": 0
      },
      "text/plain": [
       "Drawing 10000 posterior samples:   0%|          | 0/10000 [00:00<?, ?it/s]"
      ]
     },
     "metadata": {},
     "output_type": "display_data"
    },
    {
     "data": {
      "application/vnd.jupyter.widget-view+json": {
       "model_id": "084871eb620b4fbeba4a6edcf1b6fe1f",
       "version_major": 2,
       "version_minor": 0
      },
      "text/plain": [
       "Drawing 10000 posterior samples:   0%|          | 0/10000 [00:00<?, ?it/s]"
      ]
     },
     "metadata": {},
     "output_type": "display_data"
    },
    {
     "data": {
      "application/vnd.jupyter.widget-view+json": {
       "model_id": "d804af212ad44bac9a33e09ab5ed4d30",
       "version_major": 2,
       "version_minor": 0
      },
      "text/plain": [
       "Drawing 10000 posterior samples:   0%|          | 0/10000 [00:00<?, ?it/s]"
      ]
     },
     "metadata": {},
     "output_type": "display_data"
    },
    {
     "data": {
      "application/vnd.jupyter.widget-view+json": {
       "model_id": "47a3b9371c7749858522454f7c6c317c",
       "version_major": 2,
       "version_minor": 0
      },
      "text/plain": [
       "Drawing 10000 posterior samples:   0%|          | 0/10000 [00:00<?, ?it/s]"
      ]
     },
     "metadata": {},
     "output_type": "display_data"
    },
    {
     "data": {
      "application/vnd.jupyter.widget-view+json": {
       "model_id": "484e6f31b11a46cca6627811aa1ed4d0",
       "version_major": 2,
       "version_minor": 0
      },
      "text/plain": [
       "Drawing 10000 posterior samples:   0%|          | 0/10000 [00:00<?, ?it/s]"
      ]
     },
     "metadata": {},
     "output_type": "display_data"
    },
    {
     "data": {
      "application/vnd.jupyter.widget-view+json": {
       "model_id": "9836d13c53c849b58dd62955c3f77b89",
       "version_major": 2,
       "version_minor": 0
      },
      "text/plain": [
       "Drawing 10000 posterior samples:   0%|          | 0/10000 [00:00<?, ?it/s]"
      ]
     },
     "metadata": {},
     "output_type": "display_data"
    },
    {
     "data": {
      "application/vnd.jupyter.widget-view+json": {
       "model_id": "2f1a4e70fe3b4843a170fb788df3153b",
       "version_major": 2,
       "version_minor": 0
      },
      "text/plain": [
       "Drawing 10000 posterior samples:   0%|          | 0/10000 [00:00<?, ?it/s]"
      ]
     },
     "metadata": {},
     "output_type": "display_data"
    },
    {
     "data": {
      "application/vnd.jupyter.widget-view+json": {
       "model_id": "eb945b1d72fa4899981c420e8467790a",
       "version_major": 2,
       "version_minor": 0
      },
      "text/plain": [
       "Drawing 10000 posterior samples:   0%|          | 0/10000 [00:00<?, ?it/s]"
      ]
     },
     "metadata": {},
     "output_type": "display_data"
    },
    {
     "data": {
      "application/vnd.jupyter.widget-view+json": {
       "model_id": "209136fef9044f0187f34e9cc7fdd73b",
       "version_major": 2,
       "version_minor": 0
      },
      "text/plain": [
       "Drawing 10000 posterior samples:   0%|          | 0/10000 [00:00<?, ?it/s]"
      ]
     },
     "metadata": {},
     "output_type": "display_data"
    },
    {
     "data": {
      "application/vnd.jupyter.widget-view+json": {
       "model_id": "6e0441e1a66b48618fb5d0567e75c61b",
       "version_major": 2,
       "version_minor": 0
      },
      "text/plain": [
       "Drawing 10000 posterior samples:   0%|          | 0/10000 [00:00<?, ?it/s]"
      ]
     },
     "metadata": {},
     "output_type": "display_data"
    },
    {
     "data": {
      "application/vnd.jupyter.widget-view+json": {
       "model_id": "b20b68cdc74c47759cb42870032f35b8",
       "version_major": 2,
       "version_minor": 0
      },
      "text/plain": [
       "Drawing 10000 posterior samples:   0%|          | 0/10000 [00:00<?, ?it/s]"
      ]
     },
     "metadata": {},
     "output_type": "display_data"
    },
    {
     "data": {
      "application/vnd.jupyter.widget-view+json": {
       "model_id": "3273cc2574f04e809ce9bb9efe92feee",
       "version_major": 2,
       "version_minor": 0
      },
      "text/plain": [
       "Drawing 10000 posterior samples:   0%|          | 0/10000 [00:00<?, ?it/s]"
      ]
     },
     "metadata": {},
     "output_type": "display_data"
    },
    {
     "data": {
      "application/vnd.jupyter.widget-view+json": {
       "model_id": "6a8df49a0a5c44a9afdfc97026e67f4a",
       "version_major": 2,
       "version_minor": 0
      },
      "text/plain": [
       "Drawing 10000 posterior samples:   0%|          | 0/10000 [00:00<?, ?it/s]"
      ]
     },
     "metadata": {},
     "output_type": "display_data"
    },
    {
     "data": {
      "application/vnd.jupyter.widget-view+json": {
       "model_id": "46dcd036fb8e4a6c80bf2c69448b843c",
       "version_major": 2,
       "version_minor": 0
      },
      "text/plain": [
       "Drawing 10000 posterior samples:   0%|          | 0/10000 [00:00<?, ?it/s]"
      ]
     },
     "metadata": {},
     "output_type": "display_data"
    },
    {
     "data": {
      "application/vnd.jupyter.widget-view+json": {
       "model_id": "9385e2dea2b4454381a1b382d956f37e",
       "version_major": 2,
       "version_minor": 0
      },
      "text/plain": [
       "Drawing 10000 posterior samples:   0%|          | 0/10000 [00:00<?, ?it/s]"
      ]
     },
     "metadata": {},
     "output_type": "display_data"
    },
    {
     "data": {
      "application/vnd.jupyter.widget-view+json": {
       "model_id": "d1dee1cf8ad54da8b909da9229423588",
       "version_major": 2,
       "version_minor": 0
      },
      "text/plain": [
       "Drawing 10000 posterior samples:   0%|          | 0/10000 [00:00<?, ?it/s]"
      ]
     },
     "metadata": {},
     "output_type": "display_data"
    },
    {
     "data": {
      "application/vnd.jupyter.widget-view+json": {
       "model_id": "51eec89136bd496db8d72cf70ceb4326",
       "version_major": 2,
       "version_minor": 0
      },
      "text/plain": [
       "Drawing 10000 posterior samples:   0%|          | 0/10000 [00:00<?, ?it/s]"
      ]
     },
     "metadata": {},
     "output_type": "display_data"
    },
    {
     "data": {
      "application/vnd.jupyter.widget-view+json": {
       "model_id": "83c49b05db004634ba4f393dcdb40b9a",
       "version_major": 2,
       "version_minor": 0
      },
      "text/plain": [
       "Drawing 10000 posterior samples:   0%|          | 0/10000 [00:00<?, ?it/s]"
      ]
     },
     "metadata": {},
     "output_type": "display_data"
    },
    {
     "data": {
      "application/vnd.jupyter.widget-view+json": {
       "model_id": "8ae065e935a34c0987227aa4fc8321f7",
       "version_major": 2,
       "version_minor": 0
      },
      "text/plain": [
       "Drawing 10000 posterior samples:   0%|          | 0/10000 [00:00<?, ?it/s]"
      ]
     },
     "metadata": {},
     "output_type": "display_data"
    },
    {
     "data": {
      "application/vnd.jupyter.widget-view+json": {
       "model_id": "6f993ff64d2a4dad8981e78ee7c76b5f",
       "version_major": 2,
       "version_minor": 0
      },
      "text/plain": [
       "Drawing 10000 posterior samples:   0%|          | 0/10000 [00:00<?, ?it/s]"
      ]
     },
     "metadata": {},
     "output_type": "display_data"
    },
    {
     "data": {
      "application/vnd.jupyter.widget-view+json": {
       "model_id": "41854b7d625b461699bcd4cd19557158",
       "version_major": 2,
       "version_minor": 0
      },
      "text/plain": [
       "Drawing 10000 posterior samples:   0%|          | 0/10000 [00:00<?, ?it/s]"
      ]
     },
     "metadata": {},
     "output_type": "display_data"
    },
    {
     "data": {
      "application/vnd.jupyter.widget-view+json": {
       "model_id": "968d6c1ad5ae4db0ba6450ef807eeaef",
       "version_major": 2,
       "version_minor": 0
      },
      "text/plain": [
       "Drawing 10000 posterior samples:   0%|          | 0/10000 [00:00<?, ?it/s]"
      ]
     },
     "metadata": {},
     "output_type": "display_data"
    },
    {
     "data": {
      "application/vnd.jupyter.widget-view+json": {
       "model_id": "db3f3c1960c4447b856d88b699e785a2",
       "version_major": 2,
       "version_minor": 0
      },
      "text/plain": [
       "Drawing 10000 posterior samples:   0%|          | 0/10000 [00:00<?, ?it/s]"
      ]
     },
     "metadata": {},
     "output_type": "display_data"
    },
    {
     "data": {
      "application/vnd.jupyter.widget-view+json": {
       "model_id": "d61d294b8953421d866fcaab81ebdd06",
       "version_major": 2,
       "version_minor": 0
      },
      "text/plain": [
       "Drawing 10000 posterior samples:   0%|          | 0/10000 [00:00<?, ?it/s]"
      ]
     },
     "metadata": {},
     "output_type": "display_data"
    },
    {
     "data": {
      "application/vnd.jupyter.widget-view+json": {
       "model_id": "207ef878543d477aa1ab732a3d1d10d9",
       "version_major": 2,
       "version_minor": 0
      },
      "text/plain": [
       "Drawing 10000 posterior samples:   0%|          | 0/10000 [00:00<?, ?it/s]"
      ]
     },
     "metadata": {},
     "output_type": "display_data"
    },
    {
     "data": {
      "application/vnd.jupyter.widget-view+json": {
       "model_id": "95a5060994a5405fb3197886e4428a09",
       "version_major": 2,
       "version_minor": 0
      },
      "text/plain": [
       "Drawing 10000 posterior samples:   0%|          | 0/10000 [00:00<?, ?it/s]"
      ]
     },
     "metadata": {},
     "output_type": "display_data"
    },
    {
     "data": {
      "application/vnd.jupyter.widget-view+json": {
       "model_id": "996878947cf649feaedb550e441dd087",
       "version_major": 2,
       "version_minor": 0
      },
      "text/plain": [
       "Drawing 10000 posterior samples:   0%|          | 0/10000 [00:00<?, ?it/s]"
      ]
     },
     "metadata": {},
     "output_type": "display_data"
    },
    {
     "data": {
      "application/vnd.jupyter.widget-view+json": {
       "model_id": "db8daccbec6146b79bd90bcf0f2bd3c6",
       "version_major": 2,
       "version_minor": 0
      },
      "text/plain": [
       "Drawing 10000 posterior samples:   0%|          | 0/10000 [00:00<?, ?it/s]"
      ]
     },
     "metadata": {},
     "output_type": "display_data"
    },
    {
     "data": {
      "application/vnd.jupyter.widget-view+json": {
       "model_id": "16a05f6ba69741fd9882f115dd90caa9",
       "version_major": 2,
       "version_minor": 0
      },
      "text/plain": [
       "Drawing 10000 posterior samples:   0%|          | 0/10000 [00:00<?, ?it/s]"
      ]
     },
     "metadata": {},
     "output_type": "display_data"
    },
    {
     "data": {
      "application/vnd.jupyter.widget-view+json": {
       "model_id": "23de45aef37b4a19b447ad2d9f0b5598",
       "version_major": 2,
       "version_minor": 0
      },
      "text/plain": [
       "Drawing 10000 posterior samples:   0%|          | 0/10000 [00:00<?, ?it/s]"
      ]
     },
     "metadata": {},
     "output_type": "display_data"
    },
    {
     "data": {
      "application/vnd.jupyter.widget-view+json": {
       "model_id": "a6032aa82f514a2f850f837d42642841",
       "version_major": 2,
       "version_minor": 0
      },
      "text/plain": [
       "Drawing 10000 posterior samples:   0%|          | 0/10000 [00:00<?, ?it/s]"
      ]
     },
     "metadata": {},
     "output_type": "display_data"
    },
    {
     "data": {
      "application/vnd.jupyter.widget-view+json": {
       "model_id": "c46987a8c5964804ad251afabfda737c",
       "version_major": 2,
       "version_minor": 0
      },
      "text/plain": [
       "Drawing 10000 posterior samples:   0%|          | 0/10000 [00:00<?, ?it/s]"
      ]
     },
     "metadata": {},
     "output_type": "display_data"
    },
    {
     "data": {
      "application/vnd.jupyter.widget-view+json": {
       "model_id": "ba21f64e931c45a882e37623636ce76a",
       "version_major": 2,
       "version_minor": 0
      },
      "text/plain": [
       "Drawing 10000 posterior samples:   0%|          | 0/10000 [00:00<?, ?it/s]"
      ]
     },
     "metadata": {},
     "output_type": "display_data"
    },
    {
     "data": {
      "application/vnd.jupyter.widget-view+json": {
       "model_id": "1cd5ab7dd2024f20bac03d71bf20238d",
       "version_major": 2,
       "version_minor": 0
      },
      "text/plain": [
       "Drawing 10000 posterior samples:   0%|          | 0/10000 [00:00<?, ?it/s]"
      ]
     },
     "metadata": {},
     "output_type": "display_data"
    },
    {
     "data": {
      "application/vnd.jupyter.widget-view+json": {
       "model_id": "0295a6c796b34704abe2fc80de7052f8",
       "version_major": 2,
       "version_minor": 0
      },
      "text/plain": [
       "Drawing 10000 posterior samples:   0%|          | 0/10000 [00:00<?, ?it/s]"
      ]
     },
     "metadata": {},
     "output_type": "display_data"
    },
    {
     "data": {
      "application/vnd.jupyter.widget-view+json": {
       "model_id": "a37c057e8fe44285a30844a3c175595c",
       "version_major": 2,
       "version_minor": 0
      },
      "text/plain": [
       "Drawing 10000 posterior samples:   0%|          | 0/10000 [00:00<?, ?it/s]"
      ]
     },
     "metadata": {},
     "output_type": "display_data"
    },
    {
     "data": {
      "application/vnd.jupyter.widget-view+json": {
       "model_id": "80f5c719ae5348f2970eca0ff6eeda51",
       "version_major": 2,
       "version_minor": 0
      },
      "text/plain": [
       "Drawing 10000 posterior samples:   0%|          | 0/10000 [00:00<?, ?it/s]"
      ]
     },
     "metadata": {},
     "output_type": "display_data"
    },
    {
     "data": {
      "application/vnd.jupyter.widget-view+json": {
       "model_id": "9b7299e6920d4e03b9b37867371d8cdf",
       "version_major": 2,
       "version_minor": 0
      },
      "text/plain": [
       "Drawing 10000 posterior samples:   0%|          | 0/10000 [00:00<?, ?it/s]"
      ]
     },
     "metadata": {},
     "output_type": "display_data"
    },
    {
     "data": {
      "application/vnd.jupyter.widget-view+json": {
       "model_id": "5bfec79eb43e4b3d8013853fd5de05de",
       "version_major": 2,
       "version_minor": 0
      },
      "text/plain": [
       "Drawing 10000 posterior samples:   0%|          | 0/10000 [00:00<?, ?it/s]"
      ]
     },
     "metadata": {},
     "output_type": "display_data"
    },
    {
     "data": {
      "application/vnd.jupyter.widget-view+json": {
       "model_id": "84938749405a4d06a3d5d42f0a2d73dc",
       "version_major": 2,
       "version_minor": 0
      },
      "text/plain": [
       "Drawing 10000 posterior samples:   0%|          | 0/10000 [00:00<?, ?it/s]"
      ]
     },
     "metadata": {},
     "output_type": "display_data"
    },
    {
     "data": {
      "application/vnd.jupyter.widget-view+json": {
       "model_id": "20d8c6621fa34599bb4a83658e5f3d3e",
       "version_major": 2,
       "version_minor": 0
      },
      "text/plain": [
       "Drawing 10000 posterior samples:   0%|          | 0/10000 [00:00<?, ?it/s]"
      ]
     },
     "metadata": {},
     "output_type": "display_data"
    },
    {
     "data": {
      "application/vnd.jupyter.widget-view+json": {
       "model_id": "4ceb67791ed14ba9adc6a8010bf3ac29",
       "version_major": 2,
       "version_minor": 0
      },
      "text/plain": [
       "Drawing 10000 posterior samples:   0%|          | 0/10000 [00:00<?, ?it/s]"
      ]
     },
     "metadata": {},
     "output_type": "display_data"
    },
    {
     "data": {
      "application/vnd.jupyter.widget-view+json": {
       "model_id": "c0a80638864c46ae84dc0879bac2d434",
       "version_major": 2,
       "version_minor": 0
      },
      "text/plain": [
       "Drawing 10000 posterior samples:   0%|          | 0/10000 [00:00<?, ?it/s]"
      ]
     },
     "metadata": {},
     "output_type": "display_data"
    },
    {
     "data": {
      "application/vnd.jupyter.widget-view+json": {
       "model_id": "234d2bd6356b46e3abcbd5d4d88f1672",
       "version_major": 2,
       "version_minor": 0
      },
      "text/plain": [
       "Drawing 10000 posterior samples:   0%|          | 0/10000 [00:00<?, ?it/s]"
      ]
     },
     "metadata": {},
     "output_type": "display_data"
    },
    {
     "data": {
      "application/vnd.jupyter.widget-view+json": {
       "model_id": "febecd70901849c3a59de3440a2fbf56",
       "version_major": 2,
       "version_minor": 0
      },
      "text/plain": [
       "Drawing 10000 posterior samples:   0%|          | 0/10000 [00:00<?, ?it/s]"
      ]
     },
     "metadata": {},
     "output_type": "display_data"
    },
    {
     "data": {
      "application/vnd.jupyter.widget-view+json": {
       "model_id": "8b688ed6e8d44678880b715cb8730eb5",
       "version_major": 2,
       "version_minor": 0
      },
      "text/plain": [
       "Drawing 10000 posterior samples:   0%|          | 0/10000 [00:00<?, ?it/s]"
      ]
     },
     "metadata": {},
     "output_type": "display_data"
    },
    {
     "data": {
      "application/vnd.jupyter.widget-view+json": {
       "model_id": "86332b8f21c94179a587c7c3ac6e136d",
       "version_major": 2,
       "version_minor": 0
      },
      "text/plain": [
       "Drawing 10000 posterior samples:   0%|          | 0/10000 [00:00<?, ?it/s]"
      ]
     },
     "metadata": {},
     "output_type": "display_data"
    },
    {
     "data": {
      "application/vnd.jupyter.widget-view+json": {
       "model_id": "8e10dc67c0ae46bbb1b468f8f00b9df1",
       "version_major": 2,
       "version_minor": 0
      },
      "text/plain": [
       "Drawing 10000 posterior samples:   0%|          | 0/10000 [00:00<?, ?it/s]"
      ]
     },
     "metadata": {},
     "output_type": "display_data"
    },
    {
     "data": {
      "application/vnd.jupyter.widget-view+json": {
       "model_id": "dc27a09135b844c9b4c74bb5d33347b8",
       "version_major": 2,
       "version_minor": 0
      },
      "text/plain": [
       "Drawing 10000 posterior samples:   0%|          | 0/10000 [00:00<?, ?it/s]"
      ]
     },
     "metadata": {},
     "output_type": "display_data"
    },
    {
     "data": {
      "application/vnd.jupyter.widget-view+json": {
       "model_id": "221c75019fd942cfbb250d3bca9849d7",
       "version_major": 2,
       "version_minor": 0
      },
      "text/plain": [
       "Drawing 10000 posterior samples:   0%|          | 0/10000 [00:00<?, ?it/s]"
      ]
     },
     "metadata": {},
     "output_type": "display_data"
    },
    {
     "data": {
      "application/vnd.jupyter.widget-view+json": {
       "model_id": "c9d6aac2fed84dcbb330007cf546b493",
       "version_major": 2,
       "version_minor": 0
      },
      "text/plain": [
       "Drawing 10000 posterior samples:   0%|          | 0/10000 [00:00<?, ?it/s]"
      ]
     },
     "metadata": {},
     "output_type": "display_data"
    },
    {
     "data": {
      "application/vnd.jupyter.widget-view+json": {
       "model_id": "3e4175ec589249ddb009f786a25cf1d1",
       "version_major": 2,
       "version_minor": 0
      },
      "text/plain": [
       "Drawing 10000 posterior samples:   0%|          | 0/10000 [00:00<?, ?it/s]"
      ]
     },
     "metadata": {},
     "output_type": "display_data"
    },
    {
     "data": {
      "application/vnd.jupyter.widget-view+json": {
       "model_id": "25962be2aa1c4b739c75b37071450f5c",
       "version_major": 2,
       "version_minor": 0
      },
      "text/plain": [
       "Drawing 10000 posterior samples:   0%|          | 0/10000 [00:00<?, ?it/s]"
      ]
     },
     "metadata": {},
     "output_type": "display_data"
    },
    {
     "data": {
      "application/vnd.jupyter.widget-view+json": {
       "model_id": "f5c0e5311986437c9df4d81f45e69516",
       "version_major": 2,
       "version_minor": 0
      },
      "text/plain": [
       "Drawing 10000 posterior samples:   0%|          | 0/10000 [00:00<?, ?it/s]"
      ]
     },
     "metadata": {},
     "output_type": "display_data"
    },
    {
     "data": {
      "application/vnd.jupyter.widget-view+json": {
       "model_id": "4f807c738c564621b34bd4159df7c086",
       "version_major": 2,
       "version_minor": 0
      },
      "text/plain": [
       "Drawing 10000 posterior samples:   0%|          | 0/10000 [00:00<?, ?it/s]"
      ]
     },
     "metadata": {},
     "output_type": "display_data"
    },
    {
     "data": {
      "application/vnd.jupyter.widget-view+json": {
       "model_id": "3f67d30ff8834f538d3794f830a20e6c",
       "version_major": 2,
       "version_minor": 0
      },
      "text/plain": [
       "Drawing 10000 posterior samples:   0%|          | 0/10000 [00:00<?, ?it/s]"
      ]
     },
     "metadata": {},
     "output_type": "display_data"
    },
    {
     "data": {
      "application/vnd.jupyter.widget-view+json": {
       "model_id": "af49f1cd90e2441d8d6463d14c1d7f9f",
       "version_major": 2,
       "version_minor": 0
      },
      "text/plain": [
       "Drawing 10000 posterior samples:   0%|          | 0/10000 [00:00<?, ?it/s]"
      ]
     },
     "metadata": {},
     "output_type": "display_data"
    },
    {
     "data": {
      "application/vnd.jupyter.widget-view+json": {
       "model_id": "5ffa50d49b47489b92b738814a0f02c5",
       "version_major": 2,
       "version_minor": 0
      },
      "text/plain": [
       "Drawing 10000 posterior samples:   0%|          | 0/10000 [00:00<?, ?it/s]"
      ]
     },
     "metadata": {},
     "output_type": "display_data"
    },
    {
     "data": {
      "application/vnd.jupyter.widget-view+json": {
       "model_id": "4e2d3321ff7f44aeb0fb07584119514d",
       "version_major": 2,
       "version_minor": 0
      },
      "text/plain": [
       "Drawing 10000 posterior samples:   0%|          | 0/10000 [00:00<?, ?it/s]"
      ]
     },
     "metadata": {},
     "output_type": "display_data"
    },
    {
     "data": {
      "application/vnd.jupyter.widget-view+json": {
       "model_id": "9b53bfd99ef74f9aae2a8c2f6a3aaa70",
       "version_major": 2,
       "version_minor": 0
      },
      "text/plain": [
       "Drawing 10000 posterior samples:   0%|          | 0/10000 [00:00<?, ?it/s]"
      ]
     },
     "metadata": {},
     "output_type": "display_data"
    },
    {
     "data": {
      "application/vnd.jupyter.widget-view+json": {
       "model_id": "54edee69bbb04c5db062e117b3ae8330",
       "version_major": 2,
       "version_minor": 0
      },
      "text/plain": [
       "Drawing 10000 posterior samples:   0%|          | 0/10000 [00:00<?, ?it/s]"
      ]
     },
     "metadata": {},
     "output_type": "display_data"
    },
    {
     "data": {
      "application/vnd.jupyter.widget-view+json": {
       "model_id": "79cc3b111dd9428c9a65022a953e85c6",
       "version_major": 2,
       "version_minor": 0
      },
      "text/plain": [
       "Drawing 10000 posterior samples:   0%|          | 0/10000 [00:00<?, ?it/s]"
      ]
     },
     "metadata": {},
     "output_type": "display_data"
    },
    {
     "data": {
      "application/vnd.jupyter.widget-view+json": {
       "model_id": "0aec164a84c6440ebc836a2b0c31c657",
       "version_major": 2,
       "version_minor": 0
      },
      "text/plain": [
       "Drawing 10000 posterior samples:   0%|          | 0/10000 [00:00<?, ?it/s]"
      ]
     },
     "metadata": {},
     "output_type": "display_data"
    },
    {
     "data": {
      "application/vnd.jupyter.widget-view+json": {
       "model_id": "e3f68e5f47e94a88adefad6c882705a3",
       "version_major": 2,
       "version_minor": 0
      },
      "text/plain": [
       "Drawing 10000 posterior samples:   0%|          | 0/10000 [00:00<?, ?it/s]"
      ]
     },
     "metadata": {},
     "output_type": "display_data"
    },
    {
     "data": {
      "application/vnd.jupyter.widget-view+json": {
       "model_id": "d529f50719734d74b5e4d4fdb4b1ce3c",
       "version_major": 2,
       "version_minor": 0
      },
      "text/plain": [
       "Drawing 10000 posterior samples:   0%|          | 0/10000 [00:00<?, ?it/s]"
      ]
     },
     "metadata": {},
     "output_type": "display_data"
    },
    {
     "data": {
      "application/vnd.jupyter.widget-view+json": {
       "model_id": "3e09ffa1f77c4a36a5f16b7316daf6aa",
       "version_major": 2,
       "version_minor": 0
      },
      "text/plain": [
       "Drawing 10000 posterior samples:   0%|          | 0/10000 [00:00<?, ?it/s]"
      ]
     },
     "metadata": {},
     "output_type": "display_data"
    },
    {
     "data": {
      "application/vnd.jupyter.widget-view+json": {
       "model_id": "f23656802ffb494295d438db7095a569",
       "version_major": 2,
       "version_minor": 0
      },
      "text/plain": [
       "Drawing 10000 posterior samples:   0%|          | 0/10000 [00:00<?, ?it/s]"
      ]
     },
     "metadata": {},
     "output_type": "display_data"
    },
    {
     "data": {
      "application/vnd.jupyter.widget-view+json": {
       "model_id": "6bd21bd3d7e84bde8d82149daab143cd",
       "version_major": 2,
       "version_minor": 0
      },
      "text/plain": [
       "Drawing 10000 posterior samples:   0%|          | 0/10000 [00:00<?, ?it/s]"
      ]
     },
     "metadata": {},
     "output_type": "display_data"
    },
    {
     "data": {
      "application/vnd.jupyter.widget-view+json": {
       "model_id": "fcfc79640250447683495f23829b8a7e",
       "version_major": 2,
       "version_minor": 0
      },
      "text/plain": [
       "Drawing 10000 posterior samples:   0%|          | 0/10000 [00:00<?, ?it/s]"
      ]
     },
     "metadata": {},
     "output_type": "display_data"
    },
    {
     "data": {
      "application/vnd.jupyter.widget-view+json": {
       "model_id": "61c47a61b501428489c7e154b5c7b80c",
       "version_major": 2,
       "version_minor": 0
      },
      "text/plain": [
       "Drawing 10000 posterior samples:   0%|          | 0/10000 [00:00<?, ?it/s]"
      ]
     },
     "metadata": {},
     "output_type": "display_data"
    },
    {
     "data": {
      "application/vnd.jupyter.widget-view+json": {
       "model_id": "2f553caccaf44716a2be3cce3ba9754f",
       "version_major": 2,
       "version_minor": 0
      },
      "text/plain": [
       "Drawing 10000 posterior samples:   0%|          | 0/10000 [00:00<?, ?it/s]"
      ]
     },
     "metadata": {},
     "output_type": "display_data"
    },
    {
     "data": {
      "application/vnd.jupyter.widget-view+json": {
       "model_id": "a9296fd2031d46d8ab92962d383daeee",
       "version_major": 2,
       "version_minor": 0
      },
      "text/plain": [
       "Drawing 10000 posterior samples:   0%|          | 0/10000 [00:00<?, ?it/s]"
      ]
     },
     "metadata": {},
     "output_type": "display_data"
    },
    {
     "data": {
      "application/vnd.jupyter.widget-view+json": {
       "model_id": "502ad8ede68e4b2e9aba0c741842c7ca",
       "version_major": 2,
       "version_minor": 0
      },
      "text/plain": [
       "Drawing 10000 posterior samples:   0%|          | 0/10000 [00:00<?, ?it/s]"
      ]
     },
     "metadata": {},
     "output_type": "display_data"
    },
    {
     "data": {
      "application/vnd.jupyter.widget-view+json": {
       "model_id": "ae8e1f340f934b1e829eed0c2fbbbe89",
       "version_major": 2,
       "version_minor": 0
      },
      "text/plain": [
       "Drawing 10000 posterior samples:   0%|          | 0/10000 [00:00<?, ?it/s]"
      ]
     },
     "metadata": {},
     "output_type": "display_data"
    },
    {
     "data": {
      "application/vnd.jupyter.widget-view+json": {
       "model_id": "317374e26d214e79a0c71f04b14715dd",
       "version_major": 2,
       "version_minor": 0
      },
      "text/plain": [
       "Drawing 10000 posterior samples:   0%|          | 0/10000 [00:00<?, ?it/s]"
      ]
     },
     "metadata": {},
     "output_type": "display_data"
    },
    {
     "data": {
      "application/vnd.jupyter.widget-view+json": {
       "model_id": "fa5c454acdc648b2bc4815fb4071a9bb",
       "version_major": 2,
       "version_minor": 0
      },
      "text/plain": [
       "Drawing 10000 posterior samples:   0%|          | 0/10000 [00:00<?, ?it/s]"
      ]
     },
     "metadata": {},
     "output_type": "display_data"
    },
    {
     "data": {
      "application/vnd.jupyter.widget-view+json": {
       "model_id": "713db9b764f14cb49b16a99b352ad46a",
       "version_major": 2,
       "version_minor": 0
      },
      "text/plain": [
       "Drawing 10000 posterior samples:   0%|          | 0/10000 [00:00<?, ?it/s]"
      ]
     },
     "metadata": {},
     "output_type": "display_data"
    },
    {
     "data": {
      "application/vnd.jupyter.widget-view+json": {
       "model_id": "1bcfcb0609c142ceac7f68f8fc741f3a",
       "version_major": 2,
       "version_minor": 0
      },
      "text/plain": [
       "Drawing 10000 posterior samples:   0%|          | 0/10000 [00:00<?, ?it/s]"
      ]
     },
     "metadata": {},
     "output_type": "display_data"
    },
    {
     "data": {
      "application/vnd.jupyter.widget-view+json": {
       "model_id": "27e69baa4b9545ddab847045e6982200",
       "version_major": 2,
       "version_minor": 0
      },
      "text/plain": [
       "Drawing 10000 posterior samples:   0%|          | 0/10000 [00:00<?, ?it/s]"
      ]
     },
     "metadata": {},
     "output_type": "display_data"
    },
    {
     "data": {
      "application/vnd.jupyter.widget-view+json": {
       "model_id": "2abe947703ad4955811ce4d2d2f9b1f3",
       "version_major": 2,
       "version_minor": 0
      },
      "text/plain": [
       "Drawing 10000 posterior samples:   0%|          | 0/10000 [00:00<?, ?it/s]"
      ]
     },
     "metadata": {},
     "output_type": "display_data"
    },
    {
     "data": {
      "application/vnd.jupyter.widget-view+json": {
       "model_id": "9982f814b7aa40f58c96632d9e718b8e",
       "version_major": 2,
       "version_minor": 0
      },
      "text/plain": [
       "Drawing 10000 posterior samples:   0%|          | 0/10000 [00:00<?, ?it/s]"
      ]
     },
     "metadata": {},
     "output_type": "display_data"
    }
   ],
   "source": [
    "ext=[]\n",
    "for i in range(len(data_test)//32):\n",
    "    observation = data_test[i,1:]\n",
    "    samples = posterior.sample((10000,), x=observation)\n",
    "    ext.append(samples.mean())\n"
   ]
  },
  {
   "cell_type": "code",
   "execution_count": null,
   "metadata": {},
   "outputs": [],
   "source": []
  },
  {
   "cell_type": "code",
   "execution_count": 348,
   "metadata": {},
   "outputs": [],
   "source": [
    "#data_test=data_test[:len(data_test)//32]\n",
    "#idx=idx[:len(idx)//32]\n",
    "ra=pd.read_csv(test_file)['ra'].values\n",
    "dec=pd.read_csv(test_file)['dec'].values\n",
    "\n",
    "#ra=ra[:len(ra)//32]\n",
    "galactic_coord = SkyCoord(ra=ra*u.degree, dec=dec*u.degree, frame='icrs')\n",
    "galactic_coord = galactic_coord.transform_to('galactic')\n",
    "l=galactic_coord.l.value\n",
    "b=galactic_coord.b.value\n"
   ]
  },
  {
   "cell_type": "code",
   "execution_count": 349,
   "metadata": {},
   "outputs": [],
   "source": [
    "tens=[]\n",
    "for a in np.arange(-1,1,0.01):\n",
    "    tens.append(nf.nfm.log_prob(torch.tensor(data_test[:,1:])-a*extinction_vector[None,1:]))"
   ]
  },
  {
   "cell_type": "code",
   "execution_count": 20,
   "metadata": {},
   "outputs": [
    {
     "data": {
      "text/plain": [
       "<matplotlib.collections.PathCollection at 0x13c2ff520>"
      ]
     },
     "execution_count": 20,
     "metadata": {},
     "output_type": "execute_result"
    },
    {
     "data": {
      "image/png": "[encoded data removed]",
      "text/plain": [
       "<Figure size 640x480 with 1 Axes>"
      ]
     },
     "metadata": {},
     "output_type": "display_data"
    }
   ],
   "source": [
    "distance=10**((data_test[:len(data_test)//32,0]+5)/5)\n",
    "ebv=np.array(ext)\n",
    "plt.scatter(distance,ebv)"
   ]
  },
  {
   "cell_type": "code",
   "execution_count": null,
   "metadata": {},
   "outputs": [],
   "source": []
  },
  {
   "cell_type": "code",
   "execution_count": null,
   "metadata": {},
   "outputs": [],
   "source": [
    "ds=[]\n",
    "es=[]\n",
    "ls=[]\n",
    "bs=[]\n",
    "errs=[]\n",
    "for i in range(len(distance)//32):\n",
    "    ds.append(distance[i::len(distance)//32])\n",
    "    es.append(ebv[i::len(ebv)//32])\n",
    "    ls.append(l[i::len(l)//32])\n",
    "    bs.append(b[i::len(b)//32])\n",
    "    errs.append(errors[i::len(errors)//32])\n"
   ]
  },
  {
   "cell_type": "code",
   "execution_count": 341,
   "metadata": {},
   "outputs": [],
   "source": [
    "distance=np.stack(ds)[idx[:len(distance)//32]]\n",
    "ebv=np.stack(es)[idx[:len(ebv)//32]]\n",
    "l=np.stack(ls)[idx[:len(l)//32]]\n",
    "b=np.stack(bs)[idx[:len(b)//32]]"
   ]
  },
  {
   "cell_type": "code",
   "execution_count": 342,
   "metadata": {},
   "outputs": [],
   "source": [
    "errors=np.stack(errs)[idx[:len(errors)//32]]"
   ]
  },
  {
   "cell_type": "code",
   "execution_count": 343,
   "metadata": {},
   "outputs": [
    {
     "data": {
      "text/plain": [
       "(32, 32)"
      ]
     },
     "execution_count": 343,
     "metadata": {},
     "output_type": "execute_result"
    }
   ],
   "source": [
    "errors.shape"
   ]
  },
  {
   "cell_type": "code",
   "execution_count": 344,
   "metadata": {},
   "outputs": [
    {
     "data": {
      "text/plain": [
       "(32, 32)"
      ]
     },
     "execution_count": 344,
     "metadata": {},
     "output_type": "execute_result"
    }
   ],
   "source": [
    "distance.shape"
   ]
  },
  {
   "cell_type": "code",
   "execution_count": 345,
   "metadata": {},
   "outputs": [
    {
     "data": {
      "text/plain": [
       "array([0.05833188, 0.00624082, 0.00195787, 0.02758871, 0.01151642,\n",
       "       0.05056434, 0.02317234, 0.04091986, 0.00871161, 0.00781305,\n",
       "       0.0429328 , 0.01807992, 0.02063575, 0.00787418, 0.00917529,\n",
       "       0.00947135, 0.00644819, 0.00864478, 0.00649867, 0.00566955,\n",
       "       0.0041001 , 0.01891399, 0.04349659, 0.03583836, 0.02524262,\n",
       "       0.00300035, 0.0226131 , 0.00632698, 0.02568317, 0.04102709,\n",
       "       0.05261707, 0.00575978])"
      ]
     },
     "execution_count": 345,
     "metadata": {},
     "output_type": "execute_result"
    }
   ],
   "source": [
    "np.mean(errors,1)"
   ]
  },
  {
   "cell_type": "code",
   "execution_count": 346,
   "metadata": {},
   "outputs": [
    {
     "data": {
      "image/png": "[encoded data removed]",
      "text/plain": [
       "<Figure size 640x480 with 1 Axes>"
      ]
     },
     "metadata": {},
     "output_type": "display_data"
    }
   ],
   "source": [
    "distance_mean = np.mean(distance, axis=1)\n",
    "distance_std = np.std(distance, axis=1)\n",
    "\n",
    "ebv_mean = np.mean(ebv, axis=1)\n",
    "ebv_std = np.sqrt(np.std(ebv, axis=1)**2+np.mean(errors,1))\n",
    "\n",
    "# Create scatter plot\n",
    "plt.errorbar(distance_mean, ebv_mean, xerr=distance_std, yerr=ebv_std, fmt='o', markersize=3, capsize=3)\n",
    "plt.xlabel('Distance Mean')\n",
    "plt.xlim(0,2000)\n",
    "#plt.ylim(0,0.3)\n",
    "plt.ylabel('EBV Mean')\n",
    "plt.title('Scatter plot with error bars')\n",
    "plt.grid(True)\n",
    "plt.show()"
   ]
  },
  {
   "cell_type": "code",
   "execution_count": 104,
   "metadata": {},
   "outputs": [
    {
     "ename": "AxisError",
     "evalue": "axis 1 is out of bounds for array of dimension 1",
     "output_type": "error",
     "traceback": [
      "\u001b[0;31m---------------------------------------------------------------------------\u001b[0m",
      "\u001b[0;31mAxisError\u001b[0m                                 Traceback (most recent call last)",
      "Cell \u001b[0;32mIn[104], line 9\u001b[0m\n\u001b[1;32m      7\u001b[0m \u001b[38;5;66;03m# Create scatter plot with colorbar based on 'ra'\u001b[39;00m\n\u001b[1;32m      8\u001b[0m plt\u001b[38;5;241m.\u001b[39mfigure(figsize\u001b[38;5;241m=\u001b[39m(\u001b[38;5;241m8\u001b[39m, \u001b[38;5;241m6\u001b[39m))\n\u001b[0;32m----> 9\u001b[0m sc \u001b[38;5;241m=\u001b[39m plt\u001b[38;5;241m.\u001b[39mscatter(distance_mean, ebv_mean, c\u001b[38;5;241m=\u001b[39m\u001b[43mra\u001b[49m\u001b[38;5;241;43m.\u001b[39;49m\u001b[43mmean\u001b[49m\u001b[43m(\u001b[49m\u001b[43maxis\u001b[49m\u001b[38;5;241;43m=\u001b[39;49m\u001b[38;5;241;43m1\u001b[39;49m\u001b[43m)\u001b[49m, cmap\u001b[38;5;241m=\u001b[39m\u001b[38;5;124m'\u001b[39m\u001b[38;5;124mviridis\u001b[39m\u001b[38;5;124m'\u001b[39m, \n\u001b[1;32m     10\u001b[0m                  edgecolor\u001b[38;5;241m=\u001b[39m\u001b[38;5;124m'\u001b[39m\u001b[38;5;124mnone\u001b[39m\u001b[38;5;124m'\u001b[39m, s\u001b[38;5;241m=\u001b[39m\u001b[38;5;241m50\u001b[39m, alpha\u001b[38;5;241m=\u001b[39m\u001b[38;5;241m1\u001b[39m)\n\u001b[1;32m     11\u001b[0m plt\u001b[38;5;241m.\u001b[39mcolorbar(sc, label\u001b[38;5;241m=\u001b[39m\u001b[38;5;124m'\u001b[39m\u001b[38;5;124mRA\u001b[39m\u001b[38;5;124m'\u001b[39m)\n\u001b[1;32m     12\u001b[0m plt\u001b[38;5;241m.\u001b[39merrorbar(distance_mean, ebv_mean, \n\u001b[1;32m     13\u001b[0m              xerr\u001b[38;5;241m=\u001b[39mdistance_std, yerr\u001b[38;5;241m=\u001b[39mebv_std, \n\u001b[1;32m     14\u001b[0m              fmt\u001b[38;5;241m=\u001b[39m\u001b[38;5;124m'\u001b[39m\u001b[38;5;124mo\u001b[39m\u001b[38;5;124m'\u001b[39m, markersize\u001b[38;5;241m=\u001b[39m\u001b[38;5;241m3\u001b[39m, capsize\u001b[38;5;241m=\u001b[39m\u001b[38;5;241m3\u001b[39m, \n\u001b[1;32m     15\u001b[0m              color\u001b[38;5;241m=\u001b[39m\u001b[38;5;124m'\u001b[39m\u001b[38;5;124mblack\u001b[39m\u001b[38;5;124m'\u001b[39m, alpha\u001b[38;5;241m=\u001b[39m\u001b[38;5;241m0.6\u001b[39m)\n",
      "File \u001b[0;32m/opt/homebrew/Caskroom/miniforge/base/envs/astro/lib/python3.8/site-packages/numpy/core/_methods.py:167\u001b[0m, in \u001b[0;36m_mean\u001b[0;34m(a, axis, dtype, out, keepdims, where)\u001b[0m\n\u001b[1;32m    <a href='file:///opt/homebrew/Caskroom/miniforge/base/envs/astro/lib/python3.8/site-packages/numpy/core/_methods.py?line=162'>163</a>\u001b[0m arr \u001b[39m=\u001b[39m asanyarray(a)\n\u001b[1;32m    <a href='file:///opt/homebrew/Caskroom/miniforge/base/envs/astro/lib/python3.8/site-packages/numpy/core/_methods.py?line=164'>165</a>\u001b[0m is_float16_result \u001b[39m=\u001b[39m \u001b[39mFalse\u001b[39;00m\n\u001b[0;32m--> <a href='file:///opt/homebrew/Caskroom/miniforge/base/envs/astro/lib/python3.8/site-packages/numpy/core/_methods.py?line=166'>167</a>\u001b[0m rcount \u001b[39m=\u001b[39m _count_reduce_items(arr, axis, keepdims\u001b[39m=\u001b[39;49mkeepdims, where\u001b[39m=\u001b[39;49mwhere)\n\u001b[1;32m    <a href='file:///opt/homebrew/Caskroom/miniforge/base/envs/astro/lib/python3.8/site-packages/numpy/core/_methods.py?line=167'>168</a>\u001b[0m \u001b[39mif\u001b[39;00m rcount \u001b[39m==\u001b[39m \u001b[39m0\u001b[39m \u001b[39mif\u001b[39;00m where \u001b[39mis\u001b[39;00m \u001b[39mTrue\u001b[39;00m \u001b[39melse\u001b[39;00m umr_any(rcount \u001b[39m==\u001b[39m \u001b[39m0\u001b[39m, axis\u001b[39m=\u001b[39m\u001b[39mNone\u001b[39;00m):\n\u001b[1;32m    <a href='file:///opt/homebrew/Caskroom/miniforge/base/envs/astro/lib/python3.8/site-packages/numpy/core/_methods.py?line=168'>169</a>\u001b[0m     warnings\u001b[39m.\u001b[39mwarn(\u001b[39m\"\u001b[39m\u001b[39mMean of empty slice.\u001b[39m\u001b[39m\"\u001b[39m, \u001b[39mRuntimeWarning\u001b[39;00m, stacklevel\u001b[39m=\u001b[39m\u001b[39m2\u001b[39m)\n",
      "File \u001b[0;32m/opt/homebrew/Caskroom/miniforge/base/envs/astro/lib/python3.8/site-packages/numpy/core/_methods.py:76\u001b[0m, in \u001b[0;36m_count_reduce_items\u001b[0;34m(arr, axis, keepdims, where)\u001b[0m\n\u001b[1;32m     <a href='file:///opt/homebrew/Caskroom/miniforge/base/envs/astro/lib/python3.8/site-packages/numpy/core/_methods.py?line=73'>74</a>\u001b[0m     items \u001b[39m=\u001b[39m nt\u001b[39m.\u001b[39mintp(\u001b[39m1\u001b[39m)\n\u001b[1;32m     <a href='file:///opt/homebrew/Caskroom/miniforge/base/envs/astro/lib/python3.8/site-packages/numpy/core/_methods.py?line=74'>75</a>\u001b[0m     \u001b[39mfor\u001b[39;00m ax \u001b[39min\u001b[39;00m axis:\n\u001b[0;32m---> <a href='file:///opt/homebrew/Caskroom/miniforge/base/envs/astro/lib/python3.8/site-packages/numpy/core/_methods.py?line=75'>76</a>\u001b[0m         items \u001b[39m*\u001b[39m\u001b[39m=\u001b[39m arr\u001b[39m.\u001b[39mshape[mu\u001b[39m.\u001b[39;49mnormalize_axis_index(ax, arr\u001b[39m.\u001b[39;49mndim)]\n\u001b[1;32m     <a href='file:///opt/homebrew/Caskroom/miniforge/base/envs/astro/lib/python3.8/site-packages/numpy/core/_methods.py?line=76'>77</a>\u001b[0m \u001b[39melse\u001b[39;00m:\n\u001b[1;32m     <a href='file:///opt/homebrew/Caskroom/miniforge/base/envs/astro/lib/python3.8/site-packages/numpy/core/_methods.py?line=77'>78</a>\u001b[0m     \u001b[39m# TODO: Optimize case when `where` is broadcast along a non-reduction\u001b[39;00m\n\u001b[1;32m     <a href='file:///opt/homebrew/Caskroom/miniforge/base/envs/astro/lib/python3.8/site-packages/numpy/core/_methods.py?line=78'>79</a>\u001b[0m     \u001b[39m# axis and full sum is more excessive than needed.\u001b[39;00m\n\u001b[1;32m     <a href='file:///opt/homebrew/Caskroom/miniforge/base/envs/astro/lib/python3.8/site-packages/numpy/core/_methods.py?line=79'>80</a>\u001b[0m \n\u001b[1;32m     <a href='file:///opt/homebrew/Caskroom/miniforge/base/envs/astro/lib/python3.8/site-packages/numpy/core/_methods.py?line=80'>81</a>\u001b[0m     \u001b[39m# guarded to protect circular imports\u001b[39;00m\n\u001b[1;32m     <a href='file:///opt/homebrew/Caskroom/miniforge/base/envs/astro/lib/python3.8/site-packages/numpy/core/_methods.py?line=81'>82</a>\u001b[0m     \u001b[39mfrom\u001b[39;00m \u001b[39mnumpy\u001b[39;00m\u001b[39m.\u001b[39;00m\u001b[39mlib\u001b[39;00m\u001b[39m.\u001b[39;00m\u001b[39mstride_tricks\u001b[39;00m \u001b[39mimport\u001b[39;00m broadcast_to\n",
      "\u001b[0;31mAxisError\u001b[0m: axis 1 is out of bounds for array of dimension 1"
     ]
    },
    {
     "data": {
      "text/plain": [
       "<Figure size 800x600 with 0 Axes>"
      ]
     },
     "metadata": {},
     "output_type": "display_data"
    }
   ],
   "source": [
    "distance_mean = np.mean(distance, axis=1)\n",
    "distance_std = np.std(distance, axis=1)\n",
    "\n",
    "ebv_mean = np.mean(ebv, axis=1)\n",
    "ebv_std = np.std(ebv, axis=1)\n",
    "\n",
    "# Create scatter plot with colorbar based on 'ra'\n",
    "plt.figure(figsize=(8, 6))\n",
    "sc = plt.scatter(distance_mean, ebv_mean, c=ra.mean(axis=1), cmap='viridis', \n",
    "                 edgecolor='none', s=50, alpha=1)\n",
    "plt.colorbar(sc, label='RA')\n",
    "plt.errorbar(distance_mean, ebv_mean, \n",
    "             xerr=distance_std, yerr=ebv_std, \n",
    "             fmt='o', markersize=3, capsize=3, \n",
    "             color='black', alpha=0.6)\n",
    "\n",
    "plt.xlabel('Distance Mean')\n",
    "plt.xlim(0, 2000)\n",
    "plt.ylabel('EBV Mean')\n",
    "plt.title('Scatter plot with error bars')\n",
    "plt.grid(True)\n",
    "plt.show()\n"
   ]
  },
  {
   "cell_type": "code",
   "execution_count": 107,
   "metadata": {},
   "outputs": [
    {
     "data": {
      "image/png": "[encoded data removed]",
      "text/plain": [
       "<Figure size 800x600 with 2 Axes>"
      ]
     },
     "metadata": {},
     "output_type": "display_data"
    }
   ],
   "source": [
    "distance_mean = np.mean(distance, axis=1)\n",
    "distance_std = np.std(distance, axis=1)\n",
    "\n",
    "ebv_mean = np.mean(ebv, axis=1)\n",
    "ebv_std = np.std(ebv, axis=1)\n",
    "\n",
    "# Create scatter plot with colorbar based on 'ra'\n",
    "plt.figure(figsize=(8, 6))\n",
    "sc = plt.scatter(b.mean(1), l.mean(1), c=ebv_mean, cmap='viridis', \n",
    "                 edgecolor='none', s=50, alpha=1)\n",
    "plt.colorbar(sc, label='RA')\n",
    "\n",
    "\n",
    "plt.xlabel('Distance Mean')\n",
    "#plt.xlim(0, 2000)\n",
    "plt.ylabel('EBV Mean')\n",
    "plt.title('Scatter plot with error bars')\n",
    "plt.grid(True)\n",
    "plt.show()\n"
   ]
  },
  {
   "cell_type": "code",
   "execution_count": 62,
   "metadata": {},
   "outputs": [
    {
     "data": {
      "image/png": "[encoded data removed]",
      "text/plain": [
       "<Figure size 640x480 with 1 Axes>"
      ]
     },
     "metadata": {},
     "output_type": "display_data"
    }
   ],
   "source": [
    "distance_mean = np.mean(distance, axis=1)\n",
    "distance_std = np.std(distance, axis=1)\n",
    "\n",
    "ebv_mean = np.mean(ebv, axis=1)\n",
    "ebv_std = np.std(ebv, axis=1)\n",
    "\n",
    "# Create scatter plot\n",
    "plt.errorbar(distance_mean, ebv_mean, xerr=distance_std, yerr=ebv_std, fmt='o', markersize=3, capsize=3)\n",
    "plt.xlabel('Distance Mean')\n",
    "plt.xlim(0,2000)\n",
    "#plt.ylim(0,0.3)\n",
    "plt.ylabel('EBV Mean')\n",
    "plt.title('Scatter plot with error bars')\n",
    "plt.grid(True)\n",
    "plt.show()"
   ]
  },
  {
   "cell_type": "code",
   "execution_count": null,
   "metadata": {},
   "outputs": [],
   "source": [
    "break"
   ]
  },
  {
   "cell_type": "code",
   "execution_count": null,
   "metadata": {},
   "outputs": [
    {
     "data": {
      "image/png": "[encoded data removed]",
      "text/plain": [
       "<Figure size 1200x1500 with 40 Axes>"
      ]
     },
     "metadata": {},
     "output_type": "display_data"
    }
   ],
   "source": [
    "import matplotlib.pyplot as plt\n",
    "import numpy as np\n",
    "\n",
    "# Assuming layers is a list containing arrays of shape (N, M) where N and M are the dimensions of the array\n",
    "\n",
    "fig, axes = plt.subplots(5, 4, figsize=(12, 15))  # Create a 5x4 grid of subplots\n",
    "for i, ax in enumerate(axes.flat):\n",
    "    if i < len(layers):\n",
    "        im = ax.imshow(layers[i].detach(), cmap='viridis')  # Display the ith layer\n",
    "        fig.colorbar(im, ax=ax)  # Add color bar for the ith layer\n",
    "    else:\n",
    "        ax.axis('off')  # Hide empty subplots if there are fewer layers than subplots\n",
    "\n",
    "plt.tight_layout()  # Adjust layout to prevent overlap\n",
    "plt.show()\n"
   ]
  },
  {
   "cell_type": "code",
   "execution_count": null,
   "metadata": {},
   "outputs": [],
   "source": []
  },
  {
   "cell_type": "code",
   "execution_count": null,
   "metadata": {},
   "outputs": [],
   "source": [
    "lon=np.meshgrid(ls,bs)[0].flatten()\n",
    "lat=np.meshgrid(ls,bs)[1].flatten()\n",
    "l_c=104.08\n",
    "b_c=22.31\n",
    "idex=np.argwhere((np.meshgrid(ls,bs)[0]-l_c)**2+(np.meshgrid(ls,bs)[1]-b_c)<=0.16**2)\n",
    "\n",
    "#data=data[(data['l']-l_c)**2+(data['b']-b_c)**2<0.16**2]\n",
    "a=[layers[_].detach().numpy().mean() for _ in range(len(layers))]\n",
    "\n",
    "l_c=103.90\n",
    "b_c=21.97\n",
    "idex=np.argwhere((np.meshgrid(ls,bs)[0]-l_c)**2+(np.meshgrid(ls,bs)[1]-b_c)<=0.16**2)\n",
    "b=[layers[_].detach().numpy()[idex].mean() for _ in range(len(layers))]\n"
   ]
  },
  {
   "cell_type": "code",
   "execution_count": null,
   "metadata": {},
   "outputs": [],
   "source": []
  },
  {
   "cell_type": "code",
   "execution_count": null,
   "metadata": {},
   "outputs": [
    {
     "data": {
      "text/plain": [
       "tensor(-0.0143)"
      ]
     },
     "execution_count": 190,
     "metadata": {},
     "output_type": "execute_result"
    }
   ],
   "source": [
    "grads[1].min()"
   ]
  },
  {
   "cell_type": "code",
   "execution_count": null,
   "metadata": {},
   "outputs": [
    {
     "data": {
      "text/plain": [
       "[<matplotlib.lines.Line2D at 0x1501a2ca0>]"
      ]
     },
     "execution_count": 191,
     "metadata": {},
     "output_type": "execute_result"
    },
    {
     "data": {
      "image/png": "[encoded data removed]",
      "text/plain": [
       "<Figure size 640x480 with 1 Axes>"
      ]
     },
     "metadata": {},
     "output_type": "display_data"
    }
   ],
   "source": [
    "plt.plot(ds[:len(a)],a)\n",
    "plt.plot(ds[:len(a)],b)"
   ]
  },
  {
   "cell_type": "code",
   "execution_count": null,
   "metadata": {},
   "outputs": [
    {
     "data": {
      "text/plain": [
       "(array([  5.,  69., 742.,  46.,  17.,  12.,   2.,   3.,   1.,   3.]),\n",
       " array([-2.59876717e-04, -1.30657514e-04, -1.43831130e-06,  1.27780891e-04,\n",
       "         2.57000094e-04,  3.86219297e-04,  5.15438500e-04,  6.44657703e-04,\n",
       "         7.73876905e-04,  9.03096108e-04,  1.03231531e-03]),\n",
       " <BarContainer object of 10 artists>)"
      ]
     },
     "execution_count": 105,
     "metadata": {},
     "output_type": "execute_result"
    },
    {
     "data": {
      "image/png": "[encoded data removed]",
      "text/plain": [
       "<Figure size 640x480 with 1 Axes>"
      ]
     },
     "metadata": {},
     "output_type": "display_data"
    }
   ],
   "source": [
    "plt.hist(parameters.detach().numpy()[:,:,None].flatten())"
   ]
  },
  {
   "cell_type": "code",
   "execution_count": null,
   "metadata": {},
   "outputs": [
    {
     "data": {
      "text/plain": [
       "(29768, 1)"
      ]
     },
     "execution_count": 19,
     "metadata": {},
     "output_type": "execute_result"
    }
   ],
   "source": [
    "idx1.shape"
   ]
  },
  {
   "cell_type": "code",
   "execution_count": null,
   "metadata": {},
   "outputs": [],
   "source": [
    "import matplotlib.pyplot as plt"
   ]
  },
  {
   "cell_type": "code",
   "execution_count": null,
   "metadata": {},
   "outputs": [
    {
     "data": {
      "text/plain": [
       "<matplotlib.collections.PathCollection at 0x2a1ec95b0>"
      ]
     },
     "execution_count": 27,
     "metadata": {},
     "output_type": "execute_result"
    },
    {
     "data": {
      "image/png": "[encoded data removed]",
      "text/plain": [
       "<Figure size 640x480 with 1 Axes>"
      ]
     },
     "metadata": {},
     "output_type": "display_data"
    }
   ],
   "source": [
    "plt.scatter(distance[np.argwhere(idx1[:,0]==True)],np.stack(samp))"
   ]
  },
  {
   "cell_type": "code",
   "execution_count": null,
   "metadata": {},
   "outputs": [],
   "source": []
  },
  {
   "cell_type": "code",
   "execution_count": null,
   "metadata": {},
   "outputs": [],
   "source": [
    "from cgi import test\n",
    "from tokenize import Double\n",
    "from src import Normalising_Flow\n",
    "from dustmaps.lenz2017 import Lenz2017Query\n",
    "import dustmaps\n",
    "from astropy.coordinates import SkyCoord,Galactic\n",
    "from dustmaps.sfd import SFDQuery\n",
    "import numpy as np\n",
    "import pandas as pd\n",
    "import torch\n",
    "import seaborn as sn\n",
    "import matplotlib.pyplot as plt\n",
    "from dustmaps.bayestar import BayestarQuery\n",
    "from functorch import jacfwd\n",
    "from itertools import combinations\n",
    "from src.Extinction_map import Extinction_Trainer,Extinction_Map,BNN_Extinction\n",
    "from astropy.coordinates import SkyCoord\n",
    "from dustmaps.planck import PlanckQuery\n",
    "\n",
    "from dustmaps.bayestar import BayestarQuery\n",
    "from dustmaps.lenz2017 import Lenz2017Query\n",
    "from tqdm.auto import trange\n",
    "from src.Normalising_Flow import Normalising_Flow_Trainer\n",
    "\n",
    "from astropy.coordinates import SkyCoord\n",
    "import astropy.units as u\n",
    "import pyro\n",
    "import pyro.distributions as dist\n",
    "from pyro.nn import PyroModule, PyroSample\n",
    "import torch.nn as nn\n",
    "import torchbnn as bnn"
   ]
  },
  {
   "cell_type": "markdown",
   "metadata": {},
   "source": []
  },
  {
   "cell_type": "code",
   "execution_count": null,
   "metadata": {},
   "outputs": [],
   "source": [
    "\n",
    "map_ext=Extinction_Trainer()\n",
    "\n",
    "d=np.arange(1,5000,10)\n",
    "d=2.5*np.log10(d**2/100)-map_ext.mean[0]\n",
    "d=torch.tensor(d)\n",
    "distance=d.repeat(len(map_ext.data_test)//32,1).double()"
   ]
  },
  {
   "cell_type": "code",
   "execution_count": null,
   "metadata": {},
   "outputs": [],
   "source": [
    "\n",
    "\n",
    "\n",
    "from pyro.infer.autoguide import AutoDiagonalNormal, AutoMultivariateNormal\n",
    "\n",
    "\n",
    "\n",
    "\n",
    "from pyro.infer import MCMC, NUTS\n",
    "\n",
    "model = BNN_Extinction(in_dim=distance.shape[1],out_dim=distance.shape[1])\n",
    "guide = AutoDiagonalNormal(model)  \n",
    "model=model.double()\n",
    "\n",
    "from pyro.infer import SVI, Trace_ELBO\n",
    "\n",
    "\n",
    "adam = pyro.optim.Adam({\"lr\": 0.01})\n",
    "svi = SVI(model, guide, adam, loss=Trace_ELBO())\n",
    "# Set Pyro random seed\n",
    "pyro.set_rng_seed(42)\n",
    "\n",
    "# Define Hamiltonian Monte Carlo (HMC) kernel\n",
    "# NUTS = \"No-U-Turn Sampler\" (https://arxiv.org/abs/1111.4246), gives HMC an adaptive step size\n",
    "nuts_kernel = NUTS(model, jit_compile=True)  # jit_compile=True is faster but requires PyTorch 1.6+\n",
    "\n",
    "# Define MCMC sampler, get 50 posterior samples\n",
    "mcmc = MCMC(nuts_kernel, num_samples=1000)\n",
    "\n",
    "\n",
    "\n",
    "# Convert data to PyTorch tensors\n",
    "x_train = torch.tensor(map_ext.data_test,dtype=torch.double,requires_grad=False)\n",
    "\n",
    "#mcmc.run(x_train[:len(x_train)//32],distance)\n",
    "pyro.clear_param_store()\n",
    "\n",
    "\n"
   ]
  },
  {
   "cell_type": "code",
   "execution_count": null,
   "metadata": {},
   "outputs": [
    {
     "data": {
      "application/vnd.jupyter.widget-view+json": {
       "model_id": "0e2c0d916a1a45f1ae6ae0d351b9e017",
       "version_major": 2,
       "version_minor": 0
      },
      "text/plain": [
       "  0%|          | 0/1000 [00:00<?, ?it/s]"
      ]
     },
     "metadata": {},
     "output_type": "display_data"
    },
    {
     "ename": "KeyboardInterrupt",
     "evalue": "",
     "output_type": "error",
     "traceback": [
      "\u001b[0;31m---------------------------------------------------------------------------\u001b[0m",
      "\u001b[0;31mKeyboardInterrupt\u001b[0m                         Traceback (most recent call last)",
      "Cell \u001b[0;32mIn[4], line 5\u001b[0m\n\u001b[1;32m      2\u001b[0m progress_bar \u001b[38;5;241m=\u001b[39m trange(num_epochs)\n\u001b[1;32m      4\u001b[0m \u001b[38;5;28;01mfor\u001b[39;00m epoch \u001b[38;5;129;01min\u001b[39;00m progress_bar:\n\u001b[0;32m----> 5\u001b[0m     loss \u001b[38;5;241m=\u001b[39m \u001b[43msvi\u001b[49m\u001b[38;5;241;43m.\u001b[39;49m\u001b[43mstep\u001b[49m\u001b[43m(\u001b[49m\u001b[43mx_train\u001b[49m\u001b[43m[\u001b[49m\u001b[43m:\u001b[49m\u001b[38;5;28;43mlen\u001b[39;49m\u001b[43m(\u001b[49m\u001b[43mx_train\u001b[49m\u001b[43m)\u001b[49m\u001b[38;5;241;43m/\u001b[39;49m\u001b[38;5;241;43m/\u001b[39;49m\u001b[38;5;241;43m32\u001b[39;49m\u001b[43m]\u001b[49m\u001b[43m,\u001b[49m\u001b[43mdistance\u001b[49m\u001b[43m)\u001b[49m\n\u001b[1;32m      6\u001b[0m     progress_bar\u001b[38;5;241m.\u001b[39mset_postfix(loss\u001b[38;5;241m=\u001b[39m\u001b[38;5;124mf\u001b[39m\u001b[38;5;124m\"\u001b[39m\u001b[38;5;132;01m{\u001b[39;00mloss\u001b[38;5;250m \u001b[39m\u001b[38;5;241m/\u001b[39m\u001b[38;5;250m \u001b[39mx_train\u001b[38;5;241m.\u001b[39mshape[\u001b[38;5;241m0\u001b[39m]\u001b[38;5;132;01m:\u001b[39;00m\u001b[38;5;124m.3f\u001b[39m\u001b[38;5;132;01m}\u001b[39;00m\u001b[38;5;124m\"\u001b[39m)\n\u001b[1;32m      7\u001b[0m \u001b[38;5;28;01mfrom\u001b[39;00m \u001b[38;5;21;01mpyro\u001b[39;00m\u001b[38;5;21;01m.\u001b[39;00m\u001b[38;5;21;01minfer\u001b[39;00m \u001b[38;5;28;01mimport\u001b[39;00m Predictive\n",
      "File \u001b[0;32m/opt/homebrew/Caskroom/miniforge/base/envs/astro/lib/python3.8/site-packages/pyro/infer/svi.py:145\u001b[0m, in \u001b[0;36mSVI.step\u001b[0;34m(self, *args, **kwargs)\u001b[0m\n\u001b[1;32m    <a href='file:///opt/homebrew/Caskroom/miniforge/base/envs/astro/lib/python3.8/site-packages/pyro/infer/svi.py?line=142'>143</a>\u001b[0m \u001b[39m# get loss and compute gradients\u001b[39;00m\n\u001b[1;32m    <a href='file:///opt/homebrew/Caskroom/miniforge/base/envs/astro/lib/python3.8/site-packages/pyro/infer/svi.py?line=143'>144</a>\u001b[0m \u001b[39mwith\u001b[39;00m poutine\u001b[39m.\u001b[39mtrace(param_only\u001b[39m=\u001b[39m\u001b[39mTrue\u001b[39;00m) \u001b[39mas\u001b[39;00m param_capture:\n\u001b[0;32m--> <a href='file:///opt/homebrew/Caskroom/miniforge/base/envs/astro/lib/python3.8/site-packages/pyro/infer/svi.py?line=144'>145</a>\u001b[0m     loss \u001b[39m=\u001b[39m \u001b[39mself\u001b[39;49m\u001b[39m.\u001b[39;49mloss_and_grads(\u001b[39mself\u001b[39;49m\u001b[39m.\u001b[39;49mmodel, \u001b[39mself\u001b[39;49m\u001b[39m.\u001b[39;49mguide, \u001b[39m*\u001b[39;49margs, \u001b[39m*\u001b[39;49m\u001b[39m*\u001b[39;49mkwargs)\n\u001b[1;32m    <a href='file:///opt/homebrew/Caskroom/miniforge/base/envs/astro/lib/python3.8/site-packages/pyro/infer/svi.py?line=146'>147</a>\u001b[0m params \u001b[39m=\u001b[39m \u001b[39mset\u001b[39m(\n\u001b[1;32m    <a href='file:///opt/homebrew/Caskroom/miniforge/base/envs/astro/lib/python3.8/site-packages/pyro/infer/svi.py?line=147'>148</a>\u001b[0m     site[\u001b[39m\"\u001b[39m\u001b[39mvalue\u001b[39m\u001b[39m\"\u001b[39m]\u001b[39m.\u001b[39munconstrained() \u001b[39mfor\u001b[39;00m site \u001b[39min\u001b[39;00m param_capture\u001b[39m.\u001b[39mtrace\u001b[39m.\u001b[39mnodes\u001b[39m.\u001b[39mvalues()\n\u001b[1;32m    <a href='file:///opt/homebrew/Caskroom/miniforge/base/envs/astro/lib/python3.8/site-packages/pyro/infer/svi.py?line=148'>149</a>\u001b[0m )\n\u001b[1;32m    <a href='file:///opt/homebrew/Caskroom/miniforge/base/envs/astro/lib/python3.8/site-packages/pyro/infer/svi.py?line=150'>151</a>\u001b[0m \u001b[39m# actually perform gradient steps\u001b[39;00m\n\u001b[1;32m    <a href='file:///opt/homebrew/Caskroom/miniforge/base/envs/astro/lib/python3.8/site-packages/pyro/infer/svi.py?line=151'>152</a>\u001b[0m \u001b[39m# torch.optim objects gets instantiated for any params that haven't been seen yet\u001b[39;00m\n",
      "File \u001b[0;32m/opt/homebrew/Caskroom/miniforge/base/envs/astro/lib/python3.8/site-packages/pyro/infer/trace_elbo.py:140\u001b[0m, in \u001b[0;36mTrace_ELBO.loss_and_grads\u001b[0;34m(self, model, guide, *args, **kwargs)\u001b[0m\n\u001b[1;32m    <a href='file:///opt/homebrew/Caskroom/miniforge/base/envs/astro/lib/python3.8/site-packages/pyro/infer/trace_elbo.py?line=137'>138</a>\u001b[0m loss \u001b[39m=\u001b[39m \u001b[39m0.0\u001b[39m\n\u001b[1;32m    <a href='file:///opt/homebrew/Caskroom/miniforge/base/envs/astro/lib/python3.8/site-packages/pyro/infer/trace_elbo.py?line=138'>139</a>\u001b[0m \u001b[39m# grab a trace from the generator\u001b[39;00m\n\u001b[0;32m--> <a href='file:///opt/homebrew/Caskroom/miniforge/base/envs/astro/lib/python3.8/site-packages/pyro/infer/trace_elbo.py?line=139'>140</a>\u001b[0m \u001b[39mfor\u001b[39;00m model_trace, guide_trace \u001b[39min\u001b[39;00m \u001b[39mself\u001b[39m\u001b[39m.\u001b[39m_get_traces(model, guide, args, kwargs):\n\u001b[1;32m    <a href='file:///opt/homebrew/Caskroom/miniforge/base/envs/astro/lib/python3.8/site-packages/pyro/infer/trace_elbo.py?line=140'>141</a>\u001b[0m     loss_particle, surrogate_loss_particle \u001b[39m=\u001b[39m \u001b[39mself\u001b[39m\u001b[39m.\u001b[39m_differentiable_loss_particle(\n\u001b[1;32m    <a href='file:///opt/homebrew/Caskroom/miniforge/base/envs/astro/lib/python3.8/site-packages/pyro/infer/trace_elbo.py?line=141'>142</a>\u001b[0m         model_trace, guide_trace\n\u001b[1;32m    <a href='file:///opt/homebrew/Caskroom/miniforge/base/envs/astro/lib/python3.8/site-packages/pyro/infer/trace_elbo.py?line=142'>143</a>\u001b[0m     )\n\u001b[1;32m    <a href='file:///opt/homebrew/Caskroom/miniforge/base/envs/astro/lib/python3.8/site-packages/pyro/infer/trace_elbo.py?line=143'>144</a>\u001b[0m     loss \u001b[39m+\u001b[39m\u001b[39m=\u001b[39m loss_particle \u001b[39m/\u001b[39m \u001b[39mself\u001b[39m\u001b[39m.\u001b[39mnum_particles\n",
      "File \u001b[0;32m/opt/homebrew/Caskroom/miniforge/base/envs/astro/lib/python3.8/site-packages/pyro/infer/elbo.py:236\u001b[0m, in \u001b[0;36mELBO._get_traces\u001b[0;34m(self, model, guide, args, kwargs)\u001b[0m\n\u001b[1;32m    <a href='file:///opt/homebrew/Caskroom/miniforge/base/envs/astro/lib/python3.8/site-packages/pyro/infer/elbo.py?line=233'>234</a>\u001b[0m \u001b[39melse\u001b[39;00m:\n\u001b[1;32m    <a href='file:///opt/homebrew/Caskroom/miniforge/base/envs/astro/lib/python3.8/site-packages/pyro/infer/elbo.py?line=234'>235</a>\u001b[0m     \u001b[39mfor\u001b[39;00m i \u001b[39min\u001b[39;00m \u001b[39mrange\u001b[39m(\u001b[39mself\u001b[39m\u001b[39m.\u001b[39mnum_particles):\n\u001b[0;32m--> <a href='file:///opt/homebrew/Caskroom/miniforge/base/envs/astro/lib/python3.8/site-packages/pyro/infer/elbo.py?line=235'>236</a>\u001b[0m         \u001b[39myield\u001b[39;00m \u001b[39mself\u001b[39;49m\u001b[39m.\u001b[39;49m_get_trace(model, guide, args, kwargs)\n",
      "File \u001b[0;32m/opt/homebrew/Caskroom/miniforge/base/envs/astro/lib/python3.8/site-packages/pyro/infer/trace_elbo.py:57\u001b[0m, in \u001b[0;36mTrace_ELBO._get_trace\u001b[0;34m(self, model, guide, args, kwargs)\u001b[0m\n\u001b[1;32m     <a href='file:///opt/homebrew/Caskroom/miniforge/base/envs/astro/lib/python3.8/site-packages/pyro/infer/trace_elbo.py?line=51'>52</a>\u001b[0m \u001b[39mdef\u001b[39;00m \u001b[39m_get_trace\u001b[39m(\u001b[39mself\u001b[39m, model, guide, args, kwargs):\n\u001b[1;32m     <a href='file:///opt/homebrew/Caskroom/miniforge/base/envs/astro/lib/python3.8/site-packages/pyro/infer/trace_elbo.py?line=52'>53</a>\u001b[0m \u001b[39m    \u001b[39m\u001b[39m\"\"\"\u001b[39;00m\n\u001b[1;32m     <a href='file:///opt/homebrew/Caskroom/miniforge/base/envs/astro/lib/python3.8/site-packages/pyro/infer/trace_elbo.py?line=53'>54</a>\u001b[0m \u001b[39m    Returns a single trace from the guide, and the model that is run\u001b[39;00m\n\u001b[1;32m     <a href='file:///opt/homebrew/Caskroom/miniforge/base/envs/astro/lib/python3.8/site-packages/pyro/infer/trace_elbo.py?line=54'>55</a>\u001b[0m \u001b[39m    against it.\u001b[39;00m\n\u001b[1;32m     <a href='file:///opt/homebrew/Caskroom/miniforge/base/envs/astro/lib/python3.8/site-packages/pyro/infer/trace_elbo.py?line=55'>56</a>\u001b[0m \u001b[39m    \"\"\"\u001b[39;00m\n\u001b[0;32m---> <a href='file:///opt/homebrew/Caskroom/miniforge/base/envs/astro/lib/python3.8/site-packages/pyro/infer/trace_elbo.py?line=56'>57</a>\u001b[0m     model_trace, guide_trace \u001b[39m=\u001b[39m get_importance_trace(\n\u001b[1;32m     <a href='file:///opt/homebrew/Caskroom/miniforge/base/envs/astro/lib/python3.8/site-packages/pyro/infer/trace_elbo.py?line=57'>58</a>\u001b[0m         \u001b[39m\"\u001b[39;49m\u001b[39mflat\u001b[39;49m\u001b[39m\"\u001b[39;49m, \u001b[39mself\u001b[39;49m\u001b[39m.\u001b[39;49mmax_plate_nesting, model, guide, args, kwargs\n\u001b[1;32m     <a href='file:///opt/homebrew/Caskroom/miniforge/base/envs/astro/lib/python3.8/site-packages/pyro/infer/trace_elbo.py?line=58'>59</a>\u001b[0m     )\n\u001b[1;32m     <a href='file:///opt/homebrew/Caskroom/miniforge/base/envs/astro/lib/python3.8/site-packages/pyro/infer/trace_elbo.py?line=59'>60</a>\u001b[0m     \u001b[39mif\u001b[39;00m is_validation_enabled():\n\u001b[1;32m     <a href='file:///opt/homebrew/Caskroom/miniforge/base/envs/astro/lib/python3.8/site-packages/pyro/infer/trace_elbo.py?line=60'>61</a>\u001b[0m         check_if_enumerated(guide_trace)\n",
      "File \u001b[0;32m/opt/homebrew/Caskroom/miniforge/base/envs/astro/lib/python3.8/site-packages/pyro/infer/enum.py:65\u001b[0m, in \u001b[0;36mget_importance_trace\u001b[0;34m(graph_type, max_plate_nesting, model, guide, args, kwargs, detach)\u001b[0m\n\u001b[1;32m     <a href='file:///opt/homebrew/Caskroom/miniforge/base/envs/astro/lib/python3.8/site-packages/pyro/infer/enum.py?line=62'>63</a>\u001b[0m     \u001b[39mif\u001b[39;00m detach:\n\u001b[1;32m     <a href='file:///opt/homebrew/Caskroom/miniforge/base/envs/astro/lib/python3.8/site-packages/pyro/infer/enum.py?line=63'>64</a>\u001b[0m         guide_trace\u001b[39m.\u001b[39mdetach_()\n\u001b[0;32m---> <a href='file:///opt/homebrew/Caskroom/miniforge/base/envs/astro/lib/python3.8/site-packages/pyro/infer/enum.py?line=64'>65</a>\u001b[0m     model_trace \u001b[39m=\u001b[39m poutine\u001b[39m.\u001b[39;49mtrace(\n\u001b[1;32m     <a href='file:///opt/homebrew/Caskroom/miniforge/base/envs/astro/lib/python3.8/site-packages/pyro/infer/enum.py?line=65'>66</a>\u001b[0m         poutine\u001b[39m.\u001b[39;49mreplay(model, trace\u001b[39m=\u001b[39;49mguide_trace), graph_type\u001b[39m=\u001b[39;49mgraph_type\n\u001b[1;32m     <a href='file:///opt/homebrew/Caskroom/miniforge/base/envs/astro/lib/python3.8/site-packages/pyro/infer/enum.py?line=66'>67</a>\u001b[0m     )\u001b[39m.\u001b[39;49mget_trace(\u001b[39m*\u001b[39;49margs, \u001b[39m*\u001b[39;49m\u001b[39m*\u001b[39;49mkwargs)\n\u001b[1;32m     <a href='file:///opt/homebrew/Caskroom/miniforge/base/envs/astro/lib/python3.8/site-packages/pyro/infer/enum.py?line=68'>69</a>\u001b[0m \u001b[39mif\u001b[39;00m is_validation_enabled():\n\u001b[1;32m     <a href='file:///opt/homebrew/Caskroom/miniforge/base/envs/astro/lib/python3.8/site-packages/pyro/infer/enum.py?line=69'>70</a>\u001b[0m     check_model_guide_match(model_trace, guide_trace, max_plate_nesting)\n",
      "File \u001b[0;32m/opt/homebrew/Caskroom/miniforge/base/envs/astro/lib/python3.8/site-packages/pyro/poutine/trace_messenger.py:198\u001b[0m, in \u001b[0;36mTraceHandler.get_trace\u001b[0;34m(self, *args, **kwargs)\u001b[0m\n\u001b[1;32m    <a href='file:///opt/homebrew/Caskroom/miniforge/base/envs/astro/lib/python3.8/site-packages/pyro/poutine/trace_messenger.py?line=189'>190</a>\u001b[0m \u001b[39mdef\u001b[39;00m \u001b[39mget_trace\u001b[39m(\u001b[39mself\u001b[39m, \u001b[39m*\u001b[39margs, \u001b[39m*\u001b[39m\u001b[39m*\u001b[39mkwargs):\n\u001b[1;32m    <a href='file:///opt/homebrew/Caskroom/miniforge/base/envs/astro/lib/python3.8/site-packages/pyro/poutine/trace_messenger.py?line=190'>191</a>\u001b[0m \u001b[39m    \u001b[39m\u001b[39m\"\"\"\u001b[39;00m\n\u001b[1;32m    <a href='file:///opt/homebrew/Caskroom/miniforge/base/envs/astro/lib/python3.8/site-packages/pyro/poutine/trace_messenger.py?line=191'>192</a>\u001b[0m \u001b[39m    :returns: data structure\u001b[39;00m\n\u001b[1;32m    <a href='file:///opt/homebrew/Caskroom/miniforge/base/envs/astro/lib/python3.8/site-packages/pyro/poutine/trace_messenger.py?line=192'>193</a>\u001b[0m \u001b[39m    :rtype: pyro.poutine.Trace\u001b[39;00m\n\u001b[0;32m   (...)\u001b[0m\n\u001b[1;32m    <a href='file:///opt/homebrew/Caskroom/miniforge/base/envs/astro/lib/python3.8/site-packages/pyro/poutine/trace_messenger.py?line=195'>196</a>\u001b[0m \u001b[39m    Calls this poutine and returns its trace instead of the function's return value.\u001b[39;00m\n\u001b[1;32m    <a href='file:///opt/homebrew/Caskroom/miniforge/base/envs/astro/lib/python3.8/site-packages/pyro/poutine/trace_messenger.py?line=196'>197</a>\u001b[0m \u001b[39m    \"\"\"\u001b[39;00m\n\u001b[0;32m--> <a href='file:///opt/homebrew/Caskroom/miniforge/base/envs/astro/lib/python3.8/site-packages/pyro/poutine/trace_messenger.py?line=197'>198</a>\u001b[0m     \u001b[39mself\u001b[39;49m(\u001b[39m*\u001b[39;49margs, \u001b[39m*\u001b[39;49m\u001b[39m*\u001b[39;49mkwargs)\n\u001b[1;32m    <a href='file:///opt/homebrew/Caskroom/miniforge/base/envs/astro/lib/python3.8/site-packages/pyro/poutine/trace_messenger.py?line=198'>199</a>\u001b[0m     \u001b[39mreturn\u001b[39;00m \u001b[39mself\u001b[39m\u001b[39m.\u001b[39mmsngr\u001b[39m.\u001b[39mget_trace()\n",
      "File \u001b[0;32m/opt/homebrew/Caskroom/miniforge/base/envs/astro/lib/python3.8/site-packages/pyro/poutine/trace_messenger.py:174\u001b[0m, in \u001b[0;36mTraceHandler.__call__\u001b[0;34m(self, *args, **kwargs)\u001b[0m\n\u001b[1;32m    <a href='file:///opt/homebrew/Caskroom/miniforge/base/envs/astro/lib/python3.8/site-packages/pyro/poutine/trace_messenger.py?line=169'>170</a>\u001b[0m \u001b[39mself\u001b[39m\u001b[39m.\u001b[39mmsngr\u001b[39m.\u001b[39mtrace\u001b[39m.\u001b[39madd_node(\n\u001b[1;32m    <a href='file:///opt/homebrew/Caskroom/miniforge/base/envs/astro/lib/python3.8/site-packages/pyro/poutine/trace_messenger.py?line=170'>171</a>\u001b[0m     \u001b[39m\"\u001b[39m\u001b[39m_INPUT\u001b[39m\u001b[39m\"\u001b[39m, name\u001b[39m=\u001b[39m\u001b[39m\"\u001b[39m\u001b[39m_INPUT\u001b[39m\u001b[39m\"\u001b[39m, \u001b[39mtype\u001b[39m\u001b[39m=\u001b[39m\u001b[39m\"\u001b[39m\u001b[39margs\u001b[39m\u001b[39m\"\u001b[39m, args\u001b[39m=\u001b[39margs, kwargs\u001b[39m=\u001b[39mkwargs\n\u001b[1;32m    <a href='file:///opt/homebrew/Caskroom/miniforge/base/envs/astro/lib/python3.8/site-packages/pyro/poutine/trace_messenger.py?line=171'>172</a>\u001b[0m )\n\u001b[1;32m    <a href='file:///opt/homebrew/Caskroom/miniforge/base/envs/astro/lib/python3.8/site-packages/pyro/poutine/trace_messenger.py?line=172'>173</a>\u001b[0m \u001b[39mtry\u001b[39;00m:\n\u001b[0;32m--> <a href='file:///opt/homebrew/Caskroom/miniforge/base/envs/astro/lib/python3.8/site-packages/pyro/poutine/trace_messenger.py?line=173'>174</a>\u001b[0m     ret \u001b[39m=\u001b[39m \u001b[39mself\u001b[39;49m\u001b[39m.\u001b[39;49mfn(\u001b[39m*\u001b[39;49margs, \u001b[39m*\u001b[39;49m\u001b[39m*\u001b[39;49mkwargs)\n\u001b[1;32m    <a href='file:///opt/homebrew/Caskroom/miniforge/base/envs/astro/lib/python3.8/site-packages/pyro/poutine/trace_messenger.py?line=174'>175</a>\u001b[0m \u001b[39mexcept\u001b[39;00m (\u001b[39mValueError\u001b[39;00m, \u001b[39mRuntimeError\u001b[39;00m) \u001b[39mas\u001b[39;00m e:\n\u001b[1;32m    <a href='file:///opt/homebrew/Caskroom/miniforge/base/envs/astro/lib/python3.8/site-packages/pyro/poutine/trace_messenger.py?line=175'>176</a>\u001b[0m     exc_type, exc_value, traceback \u001b[39m=\u001b[39m sys\u001b[39m.\u001b[39mexc_info()\n",
      "File \u001b[0;32m/opt/homebrew/Caskroom/miniforge/base/envs/astro/lib/python3.8/site-packages/pyro/poutine/messenger.py:12\u001b[0m, in \u001b[0;36m_context_wrap\u001b[0;34m(context, fn, *args, **kwargs)\u001b[0m\n\u001b[1;32m     <a href='file:///opt/homebrew/Caskroom/miniforge/base/envs/astro/lib/python3.8/site-packages/pyro/poutine/messenger.py?line=9'>10</a>\u001b[0m \u001b[39mdef\u001b[39;00m \u001b[39m_context_wrap\u001b[39m(context, fn, \u001b[39m*\u001b[39margs, \u001b[39m*\u001b[39m\u001b[39m*\u001b[39mkwargs):\n\u001b[1;32m     <a href='file:///opt/homebrew/Caskroom/miniforge/base/envs/astro/lib/python3.8/site-packages/pyro/poutine/messenger.py?line=10'>11</a>\u001b[0m     \u001b[39mwith\u001b[39;00m context:\n\u001b[0;32m---> <a href='file:///opt/homebrew/Caskroom/miniforge/base/envs/astro/lib/python3.8/site-packages/pyro/poutine/messenger.py?line=11'>12</a>\u001b[0m         \u001b[39mreturn\u001b[39;00m fn(\u001b[39m*\u001b[39;49margs, \u001b[39m*\u001b[39;49m\u001b[39m*\u001b[39;49mkwargs)\n",
      "File \u001b[0;32m/opt/homebrew/Caskroom/miniforge/base/envs/astro/lib/python3.8/site-packages/pyro/nn/module.py:448\u001b[0m, in \u001b[0;36mPyroModule.__call__\u001b[0;34m(self, *args, **kwargs)\u001b[0m\n\u001b[1;32m    <a href='file:///opt/homebrew/Caskroom/miniforge/base/envs/astro/lib/python3.8/site-packages/pyro/nn/module.py?line=445'>446</a>\u001b[0m \u001b[39mdef\u001b[39;00m \u001b[39m__call__\u001b[39m(\u001b[39mself\u001b[39m, \u001b[39m*\u001b[39margs, \u001b[39m*\u001b[39m\u001b[39m*\u001b[39mkwargs):\n\u001b[1;32m    <a href='file:///opt/homebrew/Caskroom/miniforge/base/envs/astro/lib/python3.8/site-packages/pyro/nn/module.py?line=446'>447</a>\u001b[0m     \u001b[39mwith\u001b[39;00m \u001b[39mself\u001b[39m\u001b[39m.\u001b[39m_pyro_context:\n\u001b[0;32m--> <a href='file:///opt/homebrew/Caskroom/miniforge/base/envs/astro/lib/python3.8/site-packages/pyro/nn/module.py?line=447'>448</a>\u001b[0m         result \u001b[39m=\u001b[39m \u001b[39msuper\u001b[39;49m()\u001b[39m.\u001b[39;49m\u001b[39m__call__\u001b[39;49m(\u001b[39m*\u001b[39;49margs, \u001b[39m*\u001b[39;49m\u001b[39m*\u001b[39;49mkwargs)\n\u001b[1;32m    <a href='file:///opt/homebrew/Caskroom/miniforge/base/envs/astro/lib/python3.8/site-packages/pyro/nn/module.py?line=448'>449</a>\u001b[0m     \u001b[39mif\u001b[39;00m (\n\u001b[1;32m    <a href='file:///opt/homebrew/Caskroom/miniforge/base/envs/astro/lib/python3.8/site-packages/pyro/nn/module.py?line=449'>450</a>\u001b[0m         pyro\u001b[39m.\u001b[39msettings\u001b[39m.\u001b[39mget(\u001b[39m\"\u001b[39m\u001b[39mvalidate_poutine\u001b[39m\u001b[39m\"\u001b[39m)\n\u001b[1;32m    <a href='file:///opt/homebrew/Caskroom/miniforge/base/envs/astro/lib/python3.8/site-packages/pyro/nn/module.py?line=450'>451</a>\u001b[0m         \u001b[39mand\u001b[39;00m \u001b[39mnot\u001b[39;00m \u001b[39mself\u001b[39m\u001b[39m.\u001b[39m_pyro_context\u001b[39m.\u001b[39mactive\n\u001b[1;32m    <a href='file:///opt/homebrew/Caskroom/miniforge/base/envs/astro/lib/python3.8/site-packages/pyro/nn/module.py?line=451'>452</a>\u001b[0m         \u001b[39mand\u001b[39;00m _is_module_local_param_enabled()\n\u001b[1;32m    <a href='file:///opt/homebrew/Caskroom/miniforge/base/envs/astro/lib/python3.8/site-packages/pyro/nn/module.py?line=452'>453</a>\u001b[0m     ):\n\u001b[1;32m    <a href='file:///opt/homebrew/Caskroom/miniforge/base/envs/astro/lib/python3.8/site-packages/pyro/nn/module.py?line=453'>454</a>\u001b[0m         \u001b[39mself\u001b[39m\u001b[39m.\u001b[39m_check_module_local_param_usage()\n",
      "File \u001b[0;32m/opt/homebrew/Caskroom/miniforge/base/envs/astro/lib/python3.8/site-packages/torch/nn/modules/module.py:1357\u001b[0m, in \u001b[0;36mModule._call_impl\u001b[0;34m(self, *input, **kwargs)\u001b[0m\n\u001b[1;32m   <a href='file:///opt/homebrew/Caskroom/miniforge/base/envs/astro/lib/python3.8/site-packages/torch/nn/modules/module.py?line=1351'>1352</a>\u001b[0m \u001b[39m# If we don't have any hooks, we want to skip the rest of the logic in\u001b[39;00m\n\u001b[1;32m   <a href='file:///opt/homebrew/Caskroom/miniforge/base/envs/astro/lib/python3.8/site-packages/torch/nn/modules/module.py?line=1352'>1353</a>\u001b[0m \u001b[39m# this function, and just call forward.\u001b[39;00m\n\u001b[1;32m   <a href='file:///opt/homebrew/Caskroom/miniforge/base/envs/astro/lib/python3.8/site-packages/torch/nn/modules/module.py?line=1353'>1354</a>\u001b[0m \u001b[39mif\u001b[39;00m \u001b[39mnot\u001b[39;00m (\u001b[39mself\u001b[39m\u001b[39m.\u001b[39m_backward_hooks \u001b[39mor\u001b[39;00m \u001b[39mself\u001b[39m\u001b[39m.\u001b[39m_backward_pre_hooks \u001b[39mor\u001b[39;00m \u001b[39mself\u001b[39m\u001b[39m.\u001b[39m_forward_hooks \u001b[39mor\u001b[39;00m \u001b[39mself\u001b[39m\u001b[39m.\u001b[39m_forward_pre_hooks\n\u001b[1;32m   <a href='file:///opt/homebrew/Caskroom/miniforge/base/envs/astro/lib/python3.8/site-packages/torch/nn/modules/module.py?line=1354'>1355</a>\u001b[0m         \u001b[39mor\u001b[39;00m _global_backward_pre_hooks \u001b[39mor\u001b[39;00m _global_backward_hooks\n\u001b[1;32m   <a href='file:///opt/homebrew/Caskroom/miniforge/base/envs/astro/lib/python3.8/site-packages/torch/nn/modules/module.py?line=1355'>1356</a>\u001b[0m         \u001b[39mor\u001b[39;00m _global_forward_hooks \u001b[39mor\u001b[39;00m _global_forward_pre_hooks):\n\u001b[0;32m-> <a href='file:///opt/homebrew/Caskroom/miniforge/base/envs/astro/lib/python3.8/site-packages/torch/nn/modules/module.py?line=1356'>1357</a>\u001b[0m     \u001b[39mreturn\u001b[39;00m forward_call(\u001b[39m*\u001b[39;49m\u001b[39minput\u001b[39;49m, \u001b[39m*\u001b[39;49m\u001b[39m*\u001b[39;49mkwargs)\n\u001b[1;32m   <a href='file:///opt/homebrew/Caskroom/miniforge/base/envs/astro/lib/python3.8/site-packages/torch/nn/modules/module.py?line=1357'>1358</a>\u001b[0m \u001b[39m# Do not call functions when jit is used\u001b[39;00m\n\u001b[1;32m   <a href='file:///opt/homebrew/Caskroom/miniforge/base/envs/astro/lib/python3.8/site-packages/torch/nn/modules/module.py?line=1358'>1359</a>\u001b[0m full_backward_hooks, non_full_backward_hooks \u001b[39m=\u001b[39m [], []\n",
      "File \u001b[0;32m~/XPNorm/src/Extinction_map.py:260\u001b[0m, in \u001b[0;36mBNN_Extinction.forward\u001b[0;34m(self, x, distance)\u001b[0m\n\u001b[1;32m    <a href='file:///Users/mattocallaghan/XPNorm/src/Extinction_map.py?line=257'>258</a>\u001b[0m \u001b[39mwith\u001b[39;00m pyro\u001b[39m.\u001b[39mplate(\u001b[39m\"\u001b[39m\u001b[39mdata\u001b[39m\u001b[39m\"\u001b[39m, (x\u001b[39m.\u001b[39mshape[\u001b[39m0\u001b[39m])):\n\u001b[1;32m    <a href='file:///Users/mattocallaghan/XPNorm/src/Extinction_map.py?line=258'>259</a>\u001b[0m     extinction\u001b[39m=\u001b[39m \u001b[39mself\u001b[39m\u001b[39m.\u001b[39mnormalising_flow\u001b[39m.\u001b[39mextinction_vector[\u001b[39mNone\u001b[39;00m,:]\u001b[39m*\u001b[39mebv\n\u001b[0;32m--> <a href='file:///Users/mattocallaghan/XPNorm/src/Extinction_map.py?line=259'>260</a>\u001b[0m     obs \u001b[39m=\u001b[39m pyro\u001b[39m.\u001b[39msample(\u001b[39m\"\u001b[39m\u001b[39mobs\u001b[39m\u001b[39m\"\u001b[39m, dist\u001b[39m.\u001b[39;49mMultivariateNormal(z\u001b[39m+\u001b[39;49mextinction, (\u001b[39m0.05\u001b[39;49m\u001b[39m*\u001b[39;49m\u001b[39m*\u001b[39;49m\u001b[39m2\u001b[39;49m)\u001b[39m*\u001b[39;49mtorch\u001b[39m.\u001b[39;49mdiag(torch\u001b[39m.\u001b[39;49mones(\u001b[39m7\u001b[39;49m))), obs\u001b[39m=\u001b[39mx)\n\u001b[1;32m    <a href='file:///Users/mattocallaghan/XPNorm/src/Extinction_map.py?line=260'>261</a>\u001b[0m     pyro\u001b[39m.\u001b[39mfactor(\u001b[39m\"\u001b[39m\u001b[39mfinal_log_prob\u001b[39m\u001b[39m\"\u001b[39m, \u001b[39m-\u001b[39mlog_det)\n\u001b[1;32m    <a href='file:///Users/mattocallaghan/XPNorm/src/Extinction_map.py?line=261'>262</a>\u001b[0m \u001b[39mreturn\u001b[39;00m ebv\n",
      "File \u001b[0;32m/opt/homebrew/Caskroom/miniforge/base/envs/astro/lib/python3.8/site-packages/pyro/distributions/distribution.py:24\u001b[0m, in \u001b[0;36mDistributionMeta.__call__\u001b[0;34m(cls, *args, **kwargs)\u001b[0m\n\u001b[1;32m     <a href='file:///opt/homebrew/Caskroom/miniforge/base/envs/astro/lib/python3.8/site-packages/pyro/distributions/distribution.py?line=21'>22</a>\u001b[0m     \u001b[39mif\u001b[39;00m result \u001b[39mis\u001b[39;00m \u001b[39mnot\u001b[39;00m \u001b[39mNone\u001b[39;00m:\n\u001b[1;32m     <a href='file:///opt/homebrew/Caskroom/miniforge/base/envs/astro/lib/python3.8/site-packages/pyro/distributions/distribution.py?line=22'>23</a>\u001b[0m         \u001b[39mreturn\u001b[39;00m result\n\u001b[0;32m---> <a href='file:///opt/homebrew/Caskroom/miniforge/base/envs/astro/lib/python3.8/site-packages/pyro/distributions/distribution.py?line=23'>24</a>\u001b[0m \u001b[39mreturn\u001b[39;00m \u001b[39msuper\u001b[39;49m()\u001b[39m.\u001b[39;49m\u001b[39m__call__\u001b[39;49m(\u001b[39m*\u001b[39;49margs, \u001b[39m*\u001b[39;49m\u001b[39m*\u001b[39;49mkwargs)\n",
      "File \u001b[0;32m/opt/homebrew/Caskroom/miniforge/base/envs/astro/lib/python3.8/site-packages/torch/distributions/multivariate_normal.py:150\u001b[0m, in \u001b[0;36mMultivariateNormal.__init__\u001b[0;34m(self, loc, covariance_matrix, precision_matrix, scale_tril, validate_args)\u001b[0m\n\u001b[1;32m    <a href='file:///opt/homebrew/Caskroom/miniforge/base/envs/astro/lib/python3.8/site-packages/torch/distributions/multivariate_normal.py?line=146'>147</a>\u001b[0m \u001b[39mself\u001b[39m\u001b[39m.\u001b[39mloc \u001b[39m=\u001b[39m loc\u001b[39m.\u001b[39mexpand(batch_shape \u001b[39m+\u001b[39m (\u001b[39m-\u001b[39m\u001b[39m1\u001b[39m,))\n\u001b[1;32m    <a href='file:///opt/homebrew/Caskroom/miniforge/base/envs/astro/lib/python3.8/site-packages/torch/distributions/multivariate_normal.py?line=148'>149</a>\u001b[0m event_shape \u001b[39m=\u001b[39m \u001b[39mself\u001b[39m\u001b[39m.\u001b[39mloc\u001b[39m.\u001b[39mshape[\u001b[39m-\u001b[39m\u001b[39m1\u001b[39m:]\n\u001b[0;32m--> <a href='file:///opt/homebrew/Caskroom/miniforge/base/envs/astro/lib/python3.8/site-packages/torch/distributions/multivariate_normal.py?line=149'>150</a>\u001b[0m \u001b[39msuper\u001b[39;49m(MultivariateNormal, \u001b[39mself\u001b[39;49m)\u001b[39m.\u001b[39;49m\u001b[39m__init__\u001b[39;49m(batch_shape, event_shape, validate_args\u001b[39m=\u001b[39;49mvalidate_args)\n\u001b[1;32m    <a href='file:///opt/homebrew/Caskroom/miniforge/base/envs/astro/lib/python3.8/site-packages/torch/distributions/multivariate_normal.py?line=151'>152</a>\u001b[0m \u001b[39mif\u001b[39;00m scale_tril \u001b[39mis\u001b[39;00m \u001b[39mnot\u001b[39;00m \u001b[39mNone\u001b[39;00m:\n\u001b[1;32m    <a href='file:///opt/homebrew/Caskroom/miniforge/base/envs/astro/lib/python3.8/site-packages/torch/distributions/multivariate_normal.py?line=152'>153</a>\u001b[0m     \u001b[39mself\u001b[39m\u001b[39m.\u001b[39m_unbroadcasted_scale_tril \u001b[39m=\u001b[39m scale_tril\n",
      "File \u001b[0;32m/opt/homebrew/Caskroom/miniforge/base/envs/astro/lib/python3.8/site-packages/torch/distributions/distribution.py:54\u001b[0m, in \u001b[0;36mDistribution.__init__\u001b[0;34m(self, batch_shape, event_shape, validate_args)\u001b[0m\n\u001b[1;32m     <a href='file:///opt/homebrew/Caskroom/miniforge/base/envs/astro/lib/python3.8/site-packages/torch/distributions/distribution.py?line=51'>52</a>\u001b[0m     \u001b[39mcontinue\u001b[39;00m  \u001b[39m# skip checking lazily-constructed args\u001b[39;00m\n\u001b[1;32m     <a href='file:///opt/homebrew/Caskroom/miniforge/base/envs/astro/lib/python3.8/site-packages/torch/distributions/distribution.py?line=52'>53</a>\u001b[0m value \u001b[39m=\u001b[39m \u001b[39mgetattr\u001b[39m(\u001b[39mself\u001b[39m, param)\n\u001b[0;32m---> <a href='file:///opt/homebrew/Caskroom/miniforge/base/envs/astro/lib/python3.8/site-packages/torch/distributions/distribution.py?line=53'>54</a>\u001b[0m valid \u001b[39m=\u001b[39m constraint\u001b[39m.\u001b[39;49mcheck(value)\n\u001b[1;32m     <a href='file:///opt/homebrew/Caskroom/miniforge/base/envs/astro/lib/python3.8/site-packages/torch/distributions/distribution.py?line=54'>55</a>\u001b[0m \u001b[39mif\u001b[39;00m \u001b[39mnot\u001b[39;00m valid\u001b[39m.\u001b[39mall():\n\u001b[1;32m     <a href='file:///opt/homebrew/Caskroom/miniforge/base/envs/astro/lib/python3.8/site-packages/torch/distributions/distribution.py?line=55'>56</a>\u001b[0m     \u001b[39mraise\u001b[39;00m \u001b[39mValueError\u001b[39;00m(\n\u001b[1;32m     <a href='file:///opt/homebrew/Caskroom/miniforge/base/envs/astro/lib/python3.8/site-packages/torch/distributions/distribution.py?line=56'>57</a>\u001b[0m         \u001b[39mf\u001b[39m\u001b[39m\"\u001b[39m\u001b[39mExpected parameter \u001b[39m\u001b[39m{\u001b[39;00mparam\u001b[39m}\u001b[39;00m\u001b[39m \u001b[39m\u001b[39m\"\u001b[39m\n\u001b[1;32m     <a href='file:///opt/homebrew/Caskroom/miniforge/base/envs/astro/lib/python3.8/site-packages/torch/distributions/distribution.py?line=57'>58</a>\u001b[0m         \u001b[39mf\u001b[39m\u001b[39m\"\u001b[39m\u001b[39m(\u001b[39m\u001b[39m{\u001b[39;00m\u001b[39mtype\u001b[39m(value)\u001b[39m.\u001b[39m\u001b[39m__name__\u001b[39m\u001b[39m}\u001b[39;00m\u001b[39m of shape \u001b[39m\u001b[39m{\u001b[39;00m\u001b[39mtuple\u001b[39m(value\u001b[39m.\u001b[39mshape)\u001b[39m}\u001b[39;00m\u001b[39m) \u001b[39m\u001b[39m\"\u001b[39m\n\u001b[0;32m   (...)\u001b[0m\n\u001b[1;32m     <a href='file:///opt/homebrew/Caskroom/miniforge/base/envs/astro/lib/python3.8/site-packages/torch/distributions/distribution.py?line=60'>61</a>\u001b[0m         \u001b[39mf\u001b[39m\u001b[39m\"\u001b[39m\u001b[39mbut found invalid values:\u001b[39m\u001b[39m\\n\u001b[39;00m\u001b[39m{\u001b[39;00mvalue\u001b[39m}\u001b[39;00m\u001b[39m\"\u001b[39m\n\u001b[1;32m     <a href='file:///opt/homebrew/Caskroom/miniforge/base/envs/astro/lib/python3.8/site-packages/torch/distributions/distribution.py?line=61'>62</a>\u001b[0m     )\n",
      "File \u001b[0;32m/opt/homebrew/Caskroom/miniforge/base/envs/astro/lib/python3.8/site-packages/pyro/distributions/torch_patch.py:81\u001b[0m, in \u001b[0;36m_PositiveDefinite_check\u001b[0;34m(self, value)\u001b[0m\n\u001b[1;32m     <a href='file:///opt/homebrew/Caskroom/miniforge/base/envs/astro/lib/python3.8/site-packages/pyro/distributions/torch_patch.py?line=77'>78</a>\u001b[0m batch_shape \u001b[39m=\u001b[39m value\u001b[39m.\u001b[39mshape[:\u001b[39m-\u001b[39m\u001b[39m2\u001b[39m]\n\u001b[1;32m     <a href='file:///opt/homebrew/Caskroom/miniforge/base/envs/astro/lib/python3.8/site-packages/pyro/distributions/torch_patch.py?line=78'>79</a>\u001b[0m flattened_value \u001b[39m=\u001b[39m value\u001b[39m.\u001b[39mreshape((\u001b[39m-\u001b[39m\u001b[39m1\u001b[39m,) \u001b[39m+\u001b[39m matrix_shape)\n\u001b[1;32m     <a href='file:///opt/homebrew/Caskroom/miniforge/base/envs/astro/lib/python3.8/site-packages/pyro/distributions/torch_patch.py?line=79'>80</a>\u001b[0m \u001b[39mreturn\u001b[39;00m torch\u001b[39m.\u001b[39mstack(\n\u001b[0;32m---> <a href='file:///opt/homebrew/Caskroom/miniforge/base/envs/astro/lib/python3.8/site-packages/pyro/distributions/torch_patch.py?line=80'>81</a>\u001b[0m     [torch\u001b[39m.\u001b[39mlinalg\u001b[39m.\u001b[39meigvalsh(v)[:\u001b[39m1\u001b[39m] \u001b[39m>\u001b[39m \u001b[39m0.0\u001b[39m \u001b[39mfor\u001b[39;00m v \u001b[39min\u001b[39;00m flattened_value]\n\u001b[1;32m     <a href='file:///opt/homebrew/Caskroom/miniforge/base/envs/astro/lib/python3.8/site-packages/pyro/distributions/torch_patch.py?line=81'>82</a>\u001b[0m )\u001b[39m.\u001b[39mview(batch_shape)\n",
      "File \u001b[0;32m/opt/homebrew/Caskroom/miniforge/base/envs/astro/lib/python3.8/site-packages/pyro/distributions/torch_patch.py:81\u001b[0m, in \u001b[0;36m<listcomp>\u001b[0;34m(.0)\u001b[0m\n\u001b[1;32m     <a href='file:///opt/homebrew/Caskroom/miniforge/base/envs/astro/lib/python3.8/site-packages/pyro/distributions/torch_patch.py?line=77'>78</a>\u001b[0m batch_shape \u001b[39m=\u001b[39m value\u001b[39m.\u001b[39mshape[:\u001b[39m-\u001b[39m\u001b[39m2\u001b[39m]\n\u001b[1;32m     <a href='file:///opt/homebrew/Caskroom/miniforge/base/envs/astro/lib/python3.8/site-packages/pyro/distributions/torch_patch.py?line=78'>79</a>\u001b[0m flattened_value \u001b[39m=\u001b[39m value\u001b[39m.\u001b[39mreshape((\u001b[39m-\u001b[39m\u001b[39m1\u001b[39m,) \u001b[39m+\u001b[39m matrix_shape)\n\u001b[1;32m     <a href='file:///opt/homebrew/Caskroom/miniforge/base/envs/astro/lib/python3.8/site-packages/pyro/distributions/torch_patch.py?line=79'>80</a>\u001b[0m \u001b[39mreturn\u001b[39;00m torch\u001b[39m.\u001b[39mstack(\n\u001b[0;32m---> <a href='file:///opt/homebrew/Caskroom/miniforge/base/envs/astro/lib/python3.8/site-packages/pyro/distributions/torch_patch.py?line=80'>81</a>\u001b[0m     [torch\u001b[39m.\u001b[39;49mlinalg\u001b[39m.\u001b[39;49meigvalsh(v)[:\u001b[39m1\u001b[39m] \u001b[39m>\u001b[39m \u001b[39m0.0\u001b[39m \u001b[39mfor\u001b[39;00m v \u001b[39min\u001b[39;00m flattened_value]\n\u001b[1;32m     <a href='file:///opt/homebrew/Caskroom/miniforge/base/envs/astro/lib/python3.8/site-packages/pyro/distributions/torch_patch.py?line=81'>82</a>\u001b[0m )\u001b[39m.\u001b[39mview(batch_shape)\n",
      "\u001b[0;31mKeyboardInterrupt\u001b[0m: "
     ]
    }
   ],
   "source": [
    "num_epochs = 1000\n",
    "progress_bar = trange(num_epochs)\n",
    "\n",
    "for epoch in progress_bar:\n",
    "    loss = svi.step(x_train[:len(x_train)//32],distance)\n",
    "    progress_bar.set_postfix(loss=f\"{loss / x_train.shape[0]:.3f}\")\n",
    "from pyro.infer import Predictive\n"
   ]
  },
  {
   "cell_type": "code",
   "execution_count": null,
   "metadata": {},
   "outputs": [],
   "source": [
    "from pyro.infer import Predictive\n",
    "predictive = Predictive(model, guide=guide, num_samples=100)\n",
    "preds = predictive(x_train[:len(x_train)//32])\n",
    "\n"
   ]
  },
  {
   "cell_type": "code",
   "execution_count": null,
   "metadata": {},
   "outputs": [
    {
     "data": {
      "text/plain": [
       "{'z_i': tensor([[[-0.4696,  1.4320,  1.2444,  ...,  0.3677, -0.3690, -1.7492],\n",
       "          [ 0.3357,  2.0717,  1.7312,  ...,  2.1322,  0.3115,  0.0289],\n",
       "          [ 0.2292,  0.9529, -1.0369,  ..., -1.1500,  0.7352,  0.4897],\n",
       "          ...,\n",
       "          [ 0.3620,  1.9300,  0.9089,  ...,  0.5852, -0.3159, -2.1450],\n",
       "          [ 0.2218,  1.7264, -0.8943,  ..., -0.8671,  0.3147, -0.5987],\n",
       "          [-0.0838,  1.7295,  0.7203,  ..., -0.1560, -1.0325, -1.3253]],\n",
       " \n",
       "         [[-0.4823,  1.2499,  1.2739,  ...,  0.9450,  0.1103, -1.9742],\n",
       "          [ 0.3315,  2.0164,  1.7161,  ...,  1.8733, -0.4139,  0.0912],\n",
       "          [ 0.2069,  0.4757, -0.9712,  ..., -0.5323,  0.4915,  0.4292],\n",
       "          ...,\n",
       "          [ 0.3732,  2.1701,  0.8858,  ...,  0.7954, -0.8534, -2.3451],\n",
       "          [ 0.1716,  0.7536, -0.9195,  ..., -1.2212, -0.1657, -0.5880],\n",
       "          [-0.0755,  1.2762,  0.6788,  ...,  0.0370, -0.5712, -1.4031]],\n",
       " \n",
       "         [[-0.5028,  1.7592,  1.2221,  ...,  0.3417, -0.2635, -1.9053],\n",
       "          [ 0.3040,  2.3625,  1.8676,  ...,  1.8483,  0.5638,  0.0313],\n",
       "          [ 0.1742,  0.4469, -0.8499,  ..., -1.3096,  0.3110,  0.4321],\n",
       "          ...,\n",
       "          [ 0.3891,  1.9766,  0.9664,  ...,  0.9185, -0.4659, -1.9807],\n",
       "          [ 0.2403,  0.7218, -0.8712,  ..., -0.7447,  0.4247, -0.6245],\n",
       "          [-0.1579,  1.4608,  0.6455,  ...,  0.1546, -0.1301, -1.7028]],\n",
       " \n",
       "         ...,\n",
       " \n",
       "         [[-0.4428,  1.7932,  1.1572,  ...,  0.6772, -1.4429, -1.8284],\n",
       "          [ 0.4084,  1.9555,  1.7852,  ...,  2.0245,  0.3200, -0.0651],\n",
       "          [ 0.2197,  0.3265, -0.8322,  ..., -0.7062,  0.7462,  0.3893],\n",
       "          ...,\n",
       "          [ 0.2168,  1.6822,  0.9757,  ...,  0.5378, -0.4160, -1.9043],\n",
       "          [ 0.2213,  0.6989, -0.9002,  ..., -1.0258,  0.0974, -0.5996],\n",
       "          [-0.0354,  1.6723,  0.6750,  ...,  0.3253, -0.4608, -1.5831]],\n",
       " \n",
       "         [[-0.5516,  1.5300,  1.2336,  ...,  0.4345,  0.2247, -1.9205],\n",
       "          [ 0.2964,  1.9650,  1.9364,  ...,  1.9305,  0.0488, -0.0963],\n",
       "          [ 0.1306, -0.1958, -0.8834,  ..., -0.9857,  1.0219,  0.4103],\n",
       "          ...,\n",
       "          [ 0.3118,  1.7424,  0.9183,  ...,  0.6984, -0.9597, -1.8317],\n",
       "          [ 0.2464,  0.4343, -0.8787,  ..., -1.3499,  0.3044, -0.4769],\n",
       "          [-0.0986,  1.7725,  0.6859,  ...,  0.3842, -0.7804, -1.5119]],\n",
       " \n",
       "         [[-0.4642,  1.5371,  1.2314,  ...,  0.5726, -0.4153, -2.0651],\n",
       "          [ 0.3885,  2.3225,  1.9780,  ...,  2.0660, -0.3071, -0.2492],\n",
       "          [ 0.1301,  0.1830, -0.9783,  ..., -1.0787,  0.6871,  0.3844],\n",
       "          ...,\n",
       "          [ 0.2561,  1.5731,  0.9910,  ...,  0.6217,  0.9903, -2.2194],\n",
       "          [ 0.1844,  0.8541, -0.8541,  ..., -1.3527, -0.1665, -0.6803],\n",
       "          [-0.1933,  1.8233,  0.7831,  ...,  0.8443, -0.6035, -1.6781]]]),\n",
       " 'av': tensor([[[[0.9361],\n",
       "           [0.1507],\n",
       "           [0.5641],\n",
       "           ...,\n",
       "           [0.9711],\n",
       "           [0.9557],\n",
       "           [1.7469]]],\n",
       " \n",
       " \n",
       "         [[[0.8360],\n",
       "           [0.1993],\n",
       "           [0.5822],\n",
       "           ...,\n",
       "           [0.8682],\n",
       "           [0.9377],\n",
       "           [1.8315]]],\n",
       " \n",
       " \n",
       "         [[[0.8837],\n",
       "           [0.0927],\n",
       "           [0.6094],\n",
       "           ...,\n",
       "           [0.8826],\n",
       "           [0.9213],\n",
       "           [1.7941]]],\n",
       " \n",
       " \n",
       "         ...,\n",
       " \n",
       " \n",
       "         [[[0.9490],\n",
       "           [0.1487],\n",
       "           [0.6446],\n",
       "           ...,\n",
       "           [1.0349],\n",
       "           [0.9488],\n",
       "           [1.7829]]],\n",
       " \n",
       " \n",
       "         [[[0.8746],\n",
       "           [0.0620],\n",
       "           [0.5862],\n",
       "           ...,\n",
       "           [1.0277],\n",
       "           [0.8997],\n",
       "           [1.7123]]],\n",
       " \n",
       " \n",
       "         [[[0.8794],\n",
       "           [0.0044],\n",
       "           [0.5933],\n",
       "           ...,\n",
       "           [0.9377],\n",
       "           [0.9710],\n",
       "           [1.5141]]]], dtype=torch.float64),\n",
       " 'obs': tensor([[[-2.0119,  2.9619, -0.5077,  ...,  0.8372,  0.9800,  1.0984],\n",
       "          [-3.4177,  3.4855, -0.6667,  ...,  1.0691,  1.1488,  1.3192],\n",
       "          [ 1.2190, -1.0004,  0.1873,  ..., -0.3261, -0.4644, -0.5750],\n",
       "          ...,\n",
       "          [-1.8750,  3.9021, -0.6355,  ...,  1.0623,  1.0411,  1.3745],\n",
       "          [ 0.7605,  0.0999,  0.0687,  ..., -0.0593, -0.1086, -0.1922],\n",
       "          [-1.1655,  3.4161, -0.8391,  ...,  1.1628,  1.3706,  1.5030]],\n",
       " \n",
       "         [[-2.0119,  2.9619, -0.5077,  ...,  0.8372,  0.9800,  1.0984],\n",
       "          [-3.4177,  3.4855, -0.6667,  ...,  1.0691,  1.1488,  1.3192],\n",
       "          [ 1.2190, -1.0004,  0.1873,  ..., -0.3261, -0.4644, -0.5750],\n",
       "          ...,\n",
       "          [-1.8750,  3.9021, -0.6355,  ...,  1.0623,  1.0411,  1.3745],\n",
       "          [ 0.7605,  0.0999,  0.0687,  ..., -0.0593, -0.1086, -0.1922],\n",
       "          [-1.1655,  3.4161, -0.8391,  ...,  1.1628,  1.3706,  1.5030]],\n",
       " \n",
       "         [[-2.0119,  2.9619, -0.5077,  ...,  0.8372,  0.9800,  1.0984],\n",
       "          [-3.4177,  3.4855, -0.6667,  ...,  1.0691,  1.1488,  1.3192],\n",
       "          [ 1.2190, -1.0004,  0.1873,  ..., -0.3261, -0.4644, -0.5750],\n",
       "          ...,\n",
       "          [-1.8750,  3.9021, -0.6355,  ...,  1.0623,  1.0411,  1.3745],\n",
       "          [ 0.7605,  0.0999,  0.0687,  ..., -0.0593, -0.1086, -0.1922],\n",
       "          [-1.1655,  3.4161, -0.8391,  ...,  1.1628,  1.3706,  1.5030]],\n",
       " \n",
       "         ...,\n",
       " \n",
       "         [[-2.0119,  2.9619, -0.5077,  ...,  0.8372,  0.9800,  1.0984],\n",
       "          [-3.4177,  3.4855, -0.6667,  ...,  1.0691,  1.1488,  1.3192],\n",
       "          [ 1.2190, -1.0004,  0.1873,  ..., -0.3261, -0.4644, -0.5750],\n",
       "          ...,\n",
       "          [-1.8750,  3.9021, -0.6355,  ...,  1.0623,  1.0411,  1.3745],\n",
       "          [ 0.7605,  0.0999,  0.0687,  ..., -0.0593, -0.1086, -0.1922],\n",
       "          [-1.1655,  3.4161, -0.8391,  ...,  1.1628,  1.3706,  1.5030]],\n",
       " \n",
       "         [[-2.0119,  2.9619, -0.5077,  ...,  0.8372,  0.9800,  1.0984],\n",
       "          [-3.4177,  3.4855, -0.6667,  ...,  1.0691,  1.1488,  1.3192],\n",
       "          [ 1.2190, -1.0004,  0.1873,  ..., -0.3261, -0.4644, -0.5750],\n",
       "          ...,\n",
       "          [-1.8750,  3.9021, -0.6355,  ...,  1.0623,  1.0411,  1.3745],\n",
       "          [ 0.7605,  0.0999,  0.0687,  ..., -0.0593, -0.1086, -0.1922],\n",
       "          [-1.1655,  3.4161, -0.8391,  ...,  1.1628,  1.3706,  1.5030]],\n",
       " \n",
       "         [[-2.0119,  2.9619, -0.5077,  ...,  0.8372,  0.9800,  1.0984],\n",
       "          [-3.4177,  3.4855, -0.6667,  ...,  1.0691,  1.1488,  1.3192],\n",
       "          [ 1.2190, -1.0004,  0.1873,  ..., -0.3261, -0.4644, -0.5750],\n",
       "          ...,\n",
       "          [-1.8750,  3.9021, -0.6355,  ...,  1.0623,  1.0411,  1.3745],\n",
       "          [ 0.7605,  0.0999,  0.0687,  ..., -0.0593, -0.1086, -0.1922],\n",
       "          [-1.1655,  3.4161, -0.8391,  ...,  1.1628,  1.3706,  1.5030]]],\n",
       "        dtype=torch.float64),\n",
       " 'final_log_prob': tensor([], size=(100, 2484, 0))}"
      ]
     },
     "execution_count": 29,
     "metadata": {},
     "output_type": "execute_result"
    }
   ],
   "source": [
    "preds"
   ]
  },
  {
   "cell_type": "code",
   "execution_count": null,
   "metadata": {},
   "outputs": [],
   "source": [
    "z=preds['z_i'].double()\n"
   ]
  },
  {
   "cell_type": "code",
   "execution_count": null,
   "metadata": {},
   "outputs": [
    {
     "data": {
      "text/plain": [
       "tensor([[[-0.4696,  1.4320,  1.2444,  ...,  0.3677, -0.3690, -1.7492],\n",
       "         [ 0.3357,  2.0717,  1.7312,  ...,  2.1322,  0.3115,  0.0289],\n",
       "         [ 0.2292,  0.9529, -1.0369,  ..., -1.1500,  0.7352,  0.4897],\n",
       "         ...,\n",
       "         [ 0.3620,  1.9300,  0.9089,  ...,  0.5852, -0.3159, -2.1450],\n",
       "         [ 0.2218,  1.7264, -0.8943,  ..., -0.8671,  0.3147, -0.5987],\n",
       "         [-0.0838,  1.7295,  0.7203,  ..., -0.1560, -1.0325, -1.3253]],\n",
       "\n",
       "        [[-0.4823,  1.2499,  1.2739,  ...,  0.9450,  0.1103, -1.9742],\n",
       "         [ 0.3315,  2.0164,  1.7161,  ...,  1.8733, -0.4139,  0.0912],\n",
       "         [ 0.2069,  0.4757, -0.9712,  ..., -0.5323,  0.4915,  0.4292],\n",
       "         ...,\n",
       "         [ 0.3732,  2.1701,  0.8858,  ...,  0.7954, -0.8534, -2.3451],\n",
       "         [ 0.1716,  0.7536, -0.9195,  ..., -1.2212, -0.1657, -0.5880],\n",
       "         [-0.0755,  1.2762,  0.6788,  ...,  0.0370, -0.5712, -1.4031]],\n",
       "\n",
       "        [[-0.5028,  1.7592,  1.2221,  ...,  0.3417, -0.2635, -1.9053],\n",
       "         [ 0.3040,  2.3625,  1.8676,  ...,  1.8483,  0.5638,  0.0313],\n",
       "         [ 0.1742,  0.4469, -0.8499,  ..., -1.3096,  0.3110,  0.4321],\n",
       "         ...,\n",
       "         [ 0.3891,  1.9766,  0.9664,  ...,  0.9185, -0.4659, -1.9807],\n",
       "         [ 0.2403,  0.7218, -0.8712,  ..., -0.7447,  0.4247, -0.6245],\n",
       "         [-0.1579,  1.4608,  0.6455,  ...,  0.1546, -0.1301, -1.7028]],\n",
       "\n",
       "        ...,\n",
       "\n",
       "        [[-0.4428,  1.7932,  1.1572,  ...,  0.6772, -1.4429, -1.8284],\n",
       "         [ 0.4084,  1.9555,  1.7852,  ...,  2.0245,  0.3200, -0.0651],\n",
       "         [ 0.2197,  0.3265, -0.8322,  ..., -0.7062,  0.7462,  0.3893],\n",
       "         ...,\n",
       "         [ 0.2168,  1.6822,  0.9757,  ...,  0.5378, -0.4160, -1.9043],\n",
       "         [ 0.2213,  0.6989, -0.9002,  ..., -1.0258,  0.0974, -0.5996],\n",
       "         [-0.0354,  1.6723,  0.6750,  ...,  0.3253, -0.4608, -1.5831]],\n",
       "\n",
       "        [[-0.5516,  1.5300,  1.2336,  ...,  0.4345,  0.2247, -1.9205],\n",
       "         [ 0.2964,  1.9650,  1.9364,  ...,  1.9305,  0.0488, -0.0963],\n",
       "         [ 0.1306, -0.1958, -0.8834,  ..., -0.9857,  1.0219,  0.4103],\n",
       "         ...,\n",
       "         [ 0.3118,  1.7424,  0.9183,  ...,  0.6984, -0.9597, -1.8317],\n",
       "         [ 0.2464,  0.4343, -0.8787,  ..., -1.3499,  0.3044, -0.4769],\n",
       "         [-0.0986,  1.7725,  0.6859,  ...,  0.3842, -0.7804, -1.5119]],\n",
       "\n",
       "        [[-0.4642,  1.5371,  1.2314,  ...,  0.5726, -0.4153, -2.0651],\n",
       "         [ 0.3885,  2.3225,  1.9780,  ...,  2.0660, -0.3071, -0.2492],\n",
       "         [ 0.1301,  0.1830, -0.9783,  ..., -1.0787,  0.6871,  0.3844],\n",
       "         ...,\n",
       "         [ 0.2561,  1.5731,  0.9910,  ...,  0.6217,  0.9903, -2.2194],\n",
       "         [ 0.1844,  0.8541, -0.8541,  ..., -1.3527, -0.1665, -0.6803],\n",
       "         [-0.1933,  1.8233,  0.7831,  ...,  0.8443, -0.6035, -1.6781]]],\n",
       "       dtype=torch.float64)"
      ]
     },
     "execution_count": 31,
     "metadata": {},
     "output_type": "execute_result"
    }
   ],
   "source": [
    "z"
   ]
  },
  {
   "cell_type": "code",
   "execution_count": null,
   "metadata": {},
   "outputs": [],
   "source": [
    "z=z.mean(0)\n",
    "#z=mcmc.get_samples()['z_i'].double().mean(0)#torch.distributions.MultivariateNormal(torch.zeros(7),torch.diag(torch.ones(7))).sample(torch.tensor([10000])).double()\n",
    "for flow in model.normalising_flow.flows:\n",
    "    z,det=flow(z)"
   ]
  },
  {
   "cell_type": "code",
   "execution_count": null,
   "metadata": {},
   "outputs": [
    {
     "data": {
      "text/plain": [
       "torch.Size([2484, 7])"
      ]
     },
     "execution_count": 34,
     "metadata": {},
     "output_type": "execute_result"
    }
   ],
   "source": [
    "z.shape"
   ]
  },
  {
   "cell_type": "code",
   "execution_count": null,
   "metadata": {},
   "outputs": [],
   "source": [
    "d = z[:,0:1]\n",
    "ebv = torch.relu(model.layers[0](d))  # input --> hidden\n",
    "ebv = torch.relu(model.layers[1](ebv))\n",
    "ebv=torch.relu(model.layers[2](ebv))"
   ]
  },
  {
   "cell_type": "code",
   "execution_count": null,
   "metadata": {},
   "outputs": [
    {
     "data": {
      "text/plain": [
       "tensor(2392.1978, dtype=torch.float64)"
      ]
     },
     "execution_count": 36,
     "metadata": {},
     "output_type": "execute_result"
    }
   ],
   "source": [
    "ebv.sum()"
   ]
  },
  {
   "cell_type": "code",
   "execution_count": null,
   "metadata": {},
   "outputs": [
    {
     "data": {
      "text/plain": [
       "torch.Size([2484, 1])"
      ]
     },
     "execution_count": 37,
     "metadata": {},
     "output_type": "execute_result"
    }
   ],
   "source": [
    "ebv.shape"
   ]
  },
  {
   "cell_type": "code",
   "execution_count": null,
   "metadata": {},
   "outputs": [
    {
     "data": {
      "text/plain": [
       "tensor([[0.8711],\n",
       "        [0.0806],\n",
       "        [0.5949],\n",
       "        ...,\n",
       "        [0.9332],\n",
       "        [0.9492],\n",
       "        [1.6909]], dtype=torch.float64)"
      ]
     },
     "execution_count": 38,
     "metadata": {},
     "output_type": "execute_result"
    }
   ],
   "source": [
    "ebv"
   ]
  },
  {
   "cell_type": "code",
   "execution_count": null,
   "metadata": {},
   "outputs": [
    {
     "data": {
      "text/plain": [
       "tensor([ 0.0000,  0.8250, -0.3000,  0.2050,  0.5927,  0.6766,  0.7121],\n",
       "       dtype=torch.float64)"
      ]
     },
     "execution_count": 39,
     "metadata": {},
     "output_type": "execute_result"
    }
   ],
   "source": [
    "model.normalising_flow.extinction_vector"
   ]
  },
  {
   "cell_type": "code",
   "execution_count": null,
   "metadata": {},
   "outputs": [
    {
     "ename": "IndexError",
     "evalue": "too many indices for tensor of dimension 1",
     "output_type": "error",
     "traceback": [
      "\u001b[0;31m---------------------------------------------------------------------------\u001b[0m",
      "\u001b[0;31mIndexError\u001b[0m                                Traceback (most recent call last)",
      "Cell \u001b[0;32mIn[40], line 2\u001b[0m\n\u001b[1;32m      1\u001b[0m out\u001b[38;5;241m=\u001b[39mz\u001b[38;5;241m.\u001b[39mmean(\u001b[38;5;241m0\u001b[39m)\u001b[38;5;66;03m#+model.normalising_flow.mean\u001b[39;00m\n\u001b[0;32m----> 2\u001b[0m plt\u001b[38;5;241m.\u001b[39mscatter(\u001b[43mout\u001b[49m\u001b[43m[\u001b[49m\u001b[43m:\u001b[49m\u001b[43m,\u001b[49m\u001b[38;5;241;43m1\u001b[39;49m\u001b[43m]\u001b[49m,out[:,\u001b[38;5;241m4\u001b[39m],s\u001b[38;5;241m=\u001b[39m\u001b[38;5;241m1\u001b[39m)\n\u001b[1;32m      3\u001b[0m plt\u001b[38;5;241m.\u001b[39mscatter(x_train[:\u001b[38;5;28mlen\u001b[39m(x_train)\u001b[38;5;241m/\u001b[39m\u001b[38;5;241m/\u001b[39m\u001b[38;5;241m32\u001b[39m][:,\u001b[38;5;241m1\u001b[39m]\u001b[38;5;241m.\u001b[39mdetach()\u001b[38;5;241m.\u001b[39mnumpy(),x_train[:\u001b[38;5;28mlen\u001b[39m(x_train)\u001b[38;5;241m/\u001b[39m\u001b[38;5;241m/\u001b[39m\u001b[38;5;241m32\u001b[39m][:,\u001b[38;5;241m4\u001b[39m]\u001b[38;5;241m.\u001b[39mdetach(),s\u001b[38;5;241m=\u001b[39m\u001b[38;5;241m1\u001b[39m)\n",
      "\u001b[0;31mIndexError\u001b[0m: too many indices for tensor of dimension 1"
     ]
    }
   ],
   "source": [
    "out=z.mean(0)#+model.normalising_flow.mean\n",
    "plt.scatter(out[:,1],out[:,4],s=1)\n",
    "plt.scatter(x_train[:len(x_train)//32][:,1].detach().numpy(),x_train[:len(x_train)//32][:,4].detach(),s=1)"
   ]
  },
  {
   "cell_type": "code",
   "execution_count": null,
   "metadata": {},
   "outputs": [
    {
     "data": {
      "text/plain": [
       "tensor([[-1.6874,  3.0798, -0.5001,  ...,  0.7930,  0.9719,  1.0119],\n",
       "        [-2.1423,  3.4557, -0.5792,  ...,  0.8952,  1.0582,  1.0813],\n",
       "        [ 1.2274, -1.0088,  0.2344,  ..., -0.3776, -0.5059, -0.5071],\n",
       "        ...,\n",
       "        [-1.7542,  3.4175, -0.5704,  ...,  0.8729,  1.0529,  1.1051],\n",
       "        [ 0.7542,  0.0877,  0.1214,  ..., -0.1248, -0.1225, -0.1348],\n",
       "        [-1.4325,  3.2233, -0.5373,  ...,  0.8455,  1.0441,  1.1448]],\n",
       "       dtype=torch.float64)"
      ]
     },
     "execution_count": 10,
     "metadata": {},
     "output_type": "execute_result"
    }
   ],
   "source": []
  },
  {
   "cell_type": "code",
   "execution_count": null,
   "metadata": {},
   "outputs": [],
   "source": [
    "a=preds['av'].mean(0)"
   ]
  },
  {
   "cell_type": "code",
   "execution_count": null,
   "metadata": {},
   "outputs": [
    {
     "data": {
      "text/plain": [
       "tensor([[[0.3006],\n",
       "         [0.3528],\n",
       "         [0.2479],\n",
       "         ...,\n",
       "         [0.3037],\n",
       "         [0.2306],\n",
       "         [0.2446]]], dtype=torch.float64)"
      ]
     },
     "execution_count": 26,
     "metadata": {},
     "output_type": "execute_result"
    }
   ],
   "source": [
    "a/3.1"
   ]
  },
  {
   "cell_type": "code",
   "execution_count": null,
   "metadata": {},
   "outputs": [
    {
     "data": {
      "text/plain": [
       "tensor([-1.5880, -2.5738,  0.7114,  ..., -1.6270,  0.6542, -1.2357],\n",
       "       dtype=torch.float64)"
      ]
     },
     "execution_count": 27,
     "metadata": {},
     "output_type": "execute_result"
    }
   ],
   "source": [
    "z[:,0]"
   ]
  },
  {
   "cell_type": "code",
   "execution_count": null,
   "metadata": {},
   "outputs": [
    {
     "data": {
      "text/plain": [
       "torch.Size([2484, 1])"
      ]
     },
     "execution_count": 42,
     "metadata": {},
     "output_type": "execute_result"
    }
   ],
   "source": [
    "ebv.shape"
   ]
  },
  {
   "cell_type": "code",
   "execution_count": null,
   "metadata": {},
   "outputs": [
    {
     "data": {
      "text/plain": [
       "<matplotlib.collections.PathCollection at 0x2d6a4c790>"
      ]
     },
     "execution_count": 41,
     "metadata": {},
     "output_type": "execute_result"
    },
    {
     "data": {
      "image/png": "[encoded data removed]",
      "text/plain": [
       "<Figure size 640x480 with 1 Axes>"
      ]
     },
     "metadata": {},
     "output_type": "display_data"
    }
   ],
   "source": [
    "plt.scatter( x_train[:len(x_train)//32][:,0].detach(),ebv)"
   ]
  },
  {
   "cell_type": "code",
   "execution_count": null,
   "metadata": {},
   "outputs": [
    {
     "data": {
      "text/plain": [
       "tensor([[[-2.0812,  3.0549, -0.5175,  ...,  0.8486,  0.9950,  1.1160],\n",
       "         [-3.4870,  3.5785, -0.6765,  ...,  1.0805,  1.1638,  1.3368],\n",
       "         [ 1.1497, -0.9074,  0.1776,  ..., -0.3147, -0.4494, -0.5574],\n",
       "         ...,\n",
       "         [-1.9443,  3.9951, -0.6452,  ...,  1.0738,  1.0561,  1.3921],\n",
       "         [ 0.6913,  0.1929,  0.0589,  ..., -0.0479, -0.0936, -0.1746],\n",
       "         [-1.2348,  3.5090, -0.8488,  ...,  1.1742,  1.3856,  1.5206]],\n",
       "\n",
       "        [[-2.0812,  3.0549, -0.5175,  ...,  0.8486,  0.9950,  1.1160],\n",
       "         [-3.4870,  3.5785, -0.6765,  ...,  1.0805,  1.1638,  1.3368],\n",
       "         [ 1.1497, -0.9074,  0.1776,  ..., -0.3147, -0.4494, -0.5574],\n",
       "         ...,\n",
       "         [-1.9443,  3.9951, -0.6452,  ...,  1.0738,  1.0561,  1.3921],\n",
       "         [ 0.6913,  0.1929,  0.0589,  ..., -0.0479, -0.0936, -0.1746],\n",
       "         [-1.2348,  3.5090, -0.8488,  ...,  1.1742,  1.3856,  1.5206]],\n",
       "\n",
       "        [[-2.0812,  3.0549, -0.5175,  ...,  0.8486,  0.9950,  1.1160],\n",
       "         [-3.4870,  3.5785, -0.6765,  ...,  1.0805,  1.1638,  1.3368],\n",
       "         [ 1.1497, -0.9074,  0.1776,  ..., -0.3147, -0.4494, -0.5574],\n",
       "         ...,\n",
       "         [-1.9443,  3.9951, -0.6452,  ...,  1.0738,  1.0561,  1.3921],\n",
       "         [ 0.6913,  0.1929,  0.0589,  ..., -0.0479, -0.0936, -0.1746],\n",
       "         [-1.2348,  3.5090, -0.8488,  ...,  1.1742,  1.3856,  1.5206]],\n",
       "\n",
       "        ...,\n",
       "\n",
       "        [[-2.0812,  3.0549, -0.5175,  ...,  0.8486,  0.9950,  1.1160],\n",
       "         [-3.4870,  3.5785, -0.6765,  ...,  1.0805,  1.1638,  1.3368],\n",
       "         [ 1.1497, -0.9074,  0.1776,  ..., -0.3147, -0.4494, -0.5574],\n",
       "         ...,\n",
       "         [-1.9443,  3.9951, -0.6452,  ...,  1.0738,  1.0561,  1.3921],\n",
       "         [ 0.6913,  0.1929,  0.0589,  ..., -0.0479, -0.0936, -0.1746],\n",
       "         [-1.2348,  3.5090, -0.8488,  ...,  1.1742,  1.3856,  1.5206]],\n",
       "\n",
       "        [[-2.0812,  3.0549, -0.5175,  ...,  0.8486,  0.9950,  1.1160],\n",
       "         [-3.4870,  3.5785, -0.6765,  ...,  1.0805,  1.1638,  1.3368],\n",
       "         [ 1.1497, -0.9074,  0.1776,  ..., -0.3147, -0.4494, -0.5574],\n",
       "         ...,\n",
       "         [-1.9443,  3.9951, -0.6452,  ...,  1.0738,  1.0561,  1.3921],\n",
       "         [ 0.6913,  0.1929,  0.0589,  ..., -0.0479, -0.0936, -0.1746],\n",
       "         [-1.2348,  3.5090, -0.8488,  ...,  1.1742,  1.3856,  1.5206]],\n",
       "\n",
       "        [[-2.0812,  3.0549, -0.5175,  ...,  0.8486,  0.9950,  1.1160],\n",
       "         [-3.4870,  3.5785, -0.6765,  ...,  1.0805,  1.1638,  1.3368],\n",
       "         [ 1.1497, -0.9074,  0.1776,  ..., -0.3147, -0.4494, -0.5574],\n",
       "         ...,\n",
       "         [-1.9443,  3.9951, -0.6452,  ...,  1.0738,  1.0561,  1.3921],\n",
       "         [ 0.6913,  0.1929,  0.0589,  ..., -0.0479, -0.0936, -0.1746],\n",
       "         [-1.2348,  3.5090, -0.8488,  ...,  1.1742,  1.3856,  1.5206]]],\n",
       "       dtype=torch.float64)"
      ]
     },
     "execution_count": 7,
     "metadata": {},
     "output_type": "execute_result"
    }
   ],
   "source": [
    "preds['obs']"
   ]
  },
  {
   "cell_type": "code",
   "execution_count": null,
   "metadata": {},
   "outputs": [
    {
     "data": {
      "text/plain": [
       "tensor([0.4823, 0.4928, 0.5015,  ..., 0.4706, 0.4943, 0.4935],\n",
       "       dtype=torch.float64)"
      ]
     },
     "execution_count": 5,
     "metadata": {},
     "output_type": "execute_result"
    }
   ],
   "source": [
    "preds['av'].mean(0)"
   ]
  },
  {
   "cell_type": "code",
   "execution_count": null,
   "metadata": {},
   "outputs": [
    {
     "data": {
      "text/plain": [
       "{'av': tensor([[[0.1551],\n",
       "          [0.1503],\n",
       "          [0.1436],\n",
       "          [0.0353],\n",
       "          [0.0356],\n",
       "          [0.0369],\n",
       "          [0.0360],\n",
       "          [0.0385],\n",
       "          [0.0444],\n",
       "          [0.0398]]], dtype=torch.float64),\n",
       " 'z_i': tensor([[[[ 1.4816,  0.3191, -0.7898,  1.2229,  0.3047,  1.6183,  0.2542]],\n",
       " \n",
       "          [[ 1.4904,  0.3370, -0.7787,  1.2259,  0.2963,  1.6236,  0.2498]],\n",
       " \n",
       "          [[ 1.5040,  0.3378, -0.7528,  1.2170,  0.2921,  1.6210,  0.2496]],\n",
       " \n",
       "          [[ 3.7348,  0.3643,  4.0672,  1.8866,  0.7426,  1.6123, -1.0444]],\n",
       " \n",
       "          [[ 3.6374,  0.3709,  3.9319,  1.9150,  0.7627,  1.5960, -1.0401]],\n",
       " \n",
       "          [[ 3.5938,  0.3814,  3.8139,  1.8956,  0.7984,  1.5669, -0.9774]],\n",
       " \n",
       "          [[ 3.5483,  0.3626,  3.7483,  1.9244,  0.8154,  1.5629, -0.9462]],\n",
       " \n",
       "          [[ 3.3760,  0.3731,  3.1795,  1.8963,  0.9996,  1.5364, -0.8319]],\n",
       " \n",
       "          [[ 2.8581,  0.2602,  2.7097,  1.6312,  0.9218,  1.4735, -1.0540]],\n",
       " \n",
       "          [[ 2.4446,  0.1872,  2.0751,  1.7357,  1.0495,  1.2417, -1.5780]]]],\n",
       "        dtype=torch.float64)}"
      ]
     },
     "execution_count": 3,
     "metadata": {},
     "output_type": "execute_result"
    }
   ],
   "source": [
    "mcmc._samples"
   ]
  },
  {
   "cell_type": "code",
   "execution_count": null,
   "metadata": {},
   "outputs": [],
   "source": [
    "model = nn.Sequential(\n",
    "    bnn.BayesLinear(prior_mu=0, prior_sigma=0.1, in_features=1, out_features=10),\n",
    "    nn.ReLU(),\n",
    "    bnn.BayesLinear(prior_mu=0, prior_sigma=0.1, in_features=10, out_features=10),\n",
    "    nn.ReLU(),\n",
    "    bnn.BayesLinear(prior_mu=0, prior_sigma=0.1, in_features=10, out_features=1),\n",
    "    nn.Sigmoid()\n",
    "\n",
    ")"
   ]
  },
  {
   "cell_type": "code",
   "execution_count": null,
   "metadata": {},
   "outputs": [],
   "source": [
    "nf=Normalising_Flow_Trainer()\n",
    "nf.load()\n",
    "nf.nfm.eval()\n",
    "for param in nf.nfm.parameters():\n",
    "    param.requires_grad = False\n"
   ]
  },
  {
   "cell_type": "code",
   "execution_count": null,
   "metadata": {},
   "outputs": [],
   "source": [
    "def loss(ebv,x):\n",
    "    x=x-nf.extinction_vector[None,:]*ebv\n",
    "\n",
    "    log_q = torch.zeros(len(x), device=x.device)\n",
    "    z = x\n",
    "    for i in range(len(nf.flows) - 1, -1, -1):\n",
    "        z, log_det = nf.flows[i].inverse(z)\n",
    "        log_q += log_det\n",
    "\n",
    "\n",
    "    log_q += nf.q0.log_prob(z)\n",
    "    return -torch.mean(log_q)"
   ]
  },
  {
   "cell_type": "code",
   "execution_count": null,
   "metadata": {},
   "outputs": [],
   "source": [
    "mse_loss = nn.MSELoss()\n",
    "kl_loss = bnn.BKLLoss(reduction='mean', last_layer_only=False)\n",
    "kl_weight = 0.01\n",
    "import torch.optim as optim\n",
    "\n",
    "optimizer = optim.Adam(model.parameters(), lr=0.01)\n"
   ]
  },
  {
   "cell_type": "code",
   "execution_count": null,
   "metadata": {},
   "outputs": [],
   "source": [
    "map_ext=Extinction_Trainer()\n"
   ]
  },
  {
   "cell_type": "code",
   "execution_count": null,
   "metadata": {},
   "outputs": [],
   "source": [
    "x_train = torch.tensor(map_ext.data_test,dtype=torch.float,requires_grad=False)\n"
   ]
  },
  {
   "cell_type": "code",
   "execution_count": null,
   "metadata": {},
   "outputs": [],
   "source": [
    "from torch.utils.data import DataLoader, TensorDataset\n"
   ]
  },
  {
   "cell_type": "code",
   "execution_count": null,
   "metadata": {},
   "outputs": [
    {
     "data": {
      "text/plain": [
       "(60000,)"
      ]
     },
     "execution_count": 6,
     "metadata": {},
     "output_type": "execute_result"
    }
   ],
   "source": [
    "np.arange(0,6000,0.1).shape"
   ]
  },
  {
   "cell_type": "code",
   "execution_count": null,
   "metadata": {},
   "outputs": [
    {
     "name": "stdout",
     "output_type": "stream",
     "text": [
      "Step 0 - Avg MSE : -2.30, Avg KL : 3.24\n",
      "Step 1 - Avg MSE : -1.07, Avg KL : 2.98\n",
      "Step 2 - Avg MSE : -2.34, Avg KL : 2.77\n",
      "Step 3 - Avg MSE : -2.57, Avg KL : 2.94\n",
      "Step 4 - Avg MSE : -0.71, Avg KL : 3.13\n",
      "Step 5 - Avg MSE : -3.30, Avg KL : 2.98\n",
      "Step 6 - Avg MSE : -1.20, Avg KL : 2.78\n",
      "Step 7 - Avg MSE : -3.59, Avg KL : 2.77\n",
      "Step 8 - Avg MSE : -2.73, Avg KL : 2.81\n"
     ]
    },
    {
     "ename": "KeyboardInterrupt",
     "evalue": "",
     "output_type": "error",
     "traceback": [
      "\u001b[0;31m---------------------------------------------------------------------------\u001b[0m",
      "\u001b[0;31mKeyboardInterrupt\u001b[0m                         Traceback (most recent call last)",
      "Cell \u001b[0;32mIn[32], line 14\u001b[0m\n\u001b[1;32m     11\u001b[0m     cost \u001b[38;5;241m=\u001b[39m mse \u001b[38;5;241m+\u001b[39m kl_weight \u001b[38;5;241m*\u001b[39m kl\n\u001b[1;32m     13\u001b[0m     optimizer\u001b[38;5;241m.\u001b[39mzero_grad()\n\u001b[0;32m---> 14\u001b[0m     \u001b[43mcost\u001b[49m\u001b[38;5;241;43m.\u001b[39;49m\u001b[43mbackward\u001b[49m\u001b[43m(\u001b[49m\u001b[43m)\u001b[49m\n\u001b[1;32m     15\u001b[0m     optimizer\u001b[38;5;241m.\u001b[39mstep()\n\u001b[1;32m     16\u001b[0m \u001b[38;5;28mprint\u001b[39m(\u001b[38;5;124m'\u001b[39m\u001b[38;5;124mStep \u001b[39m\u001b[38;5;132;01m%d\u001b[39;00m\u001b[38;5;124m - Avg MSE : \u001b[39m\u001b[38;5;132;01m%2.2f\u001b[39;00m\u001b[38;5;124m, Avg KL : \u001b[39m\u001b[38;5;132;01m%2.2f\u001b[39;00m\u001b[38;5;124m'\u001b[39m \u001b[38;5;241m%\u001b[39m (step, mse\u001b[38;5;241m.\u001b[39mitem(), kl\u001b[38;5;241m.\u001b[39mitem()))\n",
      "File \u001b[0;32m/opt/homebrew/Caskroom/miniforge/base/envs/astro/lib/python3.8/site-packages/torch/_tensor.py:488\u001b[0m, in \u001b[0;36mTensor.backward\u001b[0;34m(self, gradient, retain_graph, create_graph, inputs)\u001b[0m\n\u001b[1;32m    <a href='file:///opt/homebrew/Caskroom/miniforge/base/envs/astro/lib/python3.8/site-packages/torch/_tensor.py?line=477'>478</a>\u001b[0m \u001b[39mif\u001b[39;00m has_torch_function_unary(\u001b[39mself\u001b[39m):\n\u001b[1;32m    <a href='file:///opt/homebrew/Caskroom/miniforge/base/envs/astro/lib/python3.8/site-packages/torch/_tensor.py?line=478'>479</a>\u001b[0m     \u001b[39mreturn\u001b[39;00m handle_torch_function(\n\u001b[1;32m    <a href='file:///opt/homebrew/Caskroom/miniforge/base/envs/astro/lib/python3.8/site-packages/torch/_tensor.py?line=479'>480</a>\u001b[0m         Tensor\u001b[39m.\u001b[39mbackward,\n\u001b[1;32m    <a href='file:///opt/homebrew/Caskroom/miniforge/base/envs/astro/lib/python3.8/site-packages/torch/_tensor.py?line=480'>481</a>\u001b[0m         (\u001b[39mself\u001b[39m,),\n\u001b[0;32m   (...)\u001b[0m\n\u001b[1;32m    <a href='file:///opt/homebrew/Caskroom/miniforge/base/envs/astro/lib/python3.8/site-packages/torch/_tensor.py?line=485'>486</a>\u001b[0m         inputs\u001b[39m=\u001b[39minputs,\n\u001b[1;32m    <a href='file:///opt/homebrew/Caskroom/miniforge/base/envs/astro/lib/python3.8/site-packages/torch/_tensor.py?line=486'>487</a>\u001b[0m     )\n\u001b[0;32m--> <a href='file:///opt/homebrew/Caskroom/miniforge/base/envs/astro/lib/python3.8/site-packages/torch/_tensor.py?line=487'>488</a>\u001b[0m torch\u001b[39m.\u001b[39;49mautograd\u001b[39m.\u001b[39;49mbackward(\n\u001b[1;32m    <a href='file:///opt/homebrew/Caskroom/miniforge/base/envs/astro/lib/python3.8/site-packages/torch/_tensor.py?line=488'>489</a>\u001b[0m     \u001b[39mself\u001b[39;49m, gradient, retain_graph, create_graph, inputs\u001b[39m=\u001b[39;49minputs\n\u001b[1;32m    <a href='file:///opt/homebrew/Caskroom/miniforge/base/envs/astro/lib/python3.8/site-packages/torch/_tensor.py?line=489'>490</a>\u001b[0m )\n",
      "File \u001b[0;32m/opt/homebrew/Caskroom/miniforge/base/envs/astro/lib/python3.8/site-packages/torch/autograd/__init__.py:197\u001b[0m, in \u001b[0;36mbackward\u001b[0;34m(tensors, grad_tensors, retain_graph, create_graph, grad_variables, inputs)\u001b[0m\n\u001b[1;32m    <a href='file:///opt/homebrew/Caskroom/miniforge/base/envs/astro/lib/python3.8/site-packages/torch/autograd/__init__.py?line=191'>192</a>\u001b[0m     retain_graph \u001b[39m=\u001b[39m create_graph\n\u001b[1;32m    <a href='file:///opt/homebrew/Caskroom/miniforge/base/envs/astro/lib/python3.8/site-packages/torch/autograd/__init__.py?line=193'>194</a>\u001b[0m \u001b[39m# The reason we repeat same the comment below is that\u001b[39;00m\n\u001b[1;32m    <a href='file:///opt/homebrew/Caskroom/miniforge/base/envs/astro/lib/python3.8/site-packages/torch/autograd/__init__.py?line=194'>195</a>\u001b[0m \u001b[39m# some Python versions print out the first line of a multi-line function\u001b[39;00m\n\u001b[1;32m    <a href='file:///opt/homebrew/Caskroom/miniforge/base/envs/astro/lib/python3.8/site-packages/torch/autograd/__init__.py?line=195'>196</a>\u001b[0m \u001b[39m# calls in the traceback and some print out the last line\u001b[39;00m\n\u001b[0;32m--> <a href='file:///opt/homebrew/Caskroom/miniforge/base/envs/astro/lib/python3.8/site-packages/torch/autograd/__init__.py?line=196'>197</a>\u001b[0m Variable\u001b[39m.\u001b[39;49m_execution_engine\u001b[39m.\u001b[39;49mrun_backward(  \u001b[39m# Calls into the C++ engine to run the backward pass\u001b[39;49;00m\n\u001b[1;32m    <a href='file:///opt/homebrew/Caskroom/miniforge/base/envs/astro/lib/python3.8/site-packages/torch/autograd/__init__.py?line=197'>198</a>\u001b[0m     tensors, grad_tensors_, retain_graph, create_graph, inputs,\n\u001b[1;32m    <a href='file:///opt/homebrew/Caskroom/miniforge/base/envs/astro/lib/python3.8/site-packages/torch/autograd/__init__.py?line=198'>199</a>\u001b[0m     allow_unreachable\u001b[39m=\u001b[39;49m\u001b[39mTrue\u001b[39;49;00m, accumulate_grad\u001b[39m=\u001b[39;49m\u001b[39mTrue\u001b[39;49;00m)\n",
      "\u001b[0;31mKeyboardInterrupt\u001b[0m: "
     ]
    }
   ],
   "source": [
    "dataset = TensorDataset(x_train)\n",
    "data_loader = DataLoader(dataset, batch_size=2**8, shuffle=True)\n",
    "\n",
    "for step in range(15):\n",
    "    for batch in data_loader:\n",
    "        x_batch = batch[0]  # Extract the input batch from the DataLoader output\n",
    "        \n",
    "        pre = model(x_batch[:, 0:1])\n",
    "        mse = loss(pre, x_batch)\n",
    "        kl = kl_loss(model)\n",
    "        cost = mse + kl_weight * kl\n",
    "\n",
    "        optimizer.zero_grad()\n",
    "        cost.backward()\n",
    "        optimizer.step()\n",
    "    print('Step %d - Avg log_likelihood : %2.2f, Avg KL : %2.2f' % (step, mse.item(), kl.item()))\n",
    "\n",
    "    \n"
   ]
  },
  {
   "cell_type": "code",
   "execution_count": null,
   "metadata": {},
   "outputs": [
    {
     "data": {
      "text/plain": [
       "(79500, 1)"
      ]
     },
     "execution_count": 40,
     "metadata": {},
     "output_type": "execute_result"
    }
   ],
   "source": [
    "ebv.shape"
   ]
  },
  {
   "cell_type": "code",
   "execution_count": null,
   "metadata": {},
   "outputs": [
    {
     "data": {
      "image/png": "[encoded data removed]",
      "text/plain": [
       "<Figure size 640x480 with 1 Axes>"
      ]
     },
     "metadata": {},
     "output_type": "display_data"
    }
   ],
   "source": [
    "\n"
   ]
  },
  {
   "cell_type": "code",
   "execution_count": null,
   "metadata": {},
   "outputs": [
    {
     "name": "stderr",
     "output_type": "stream",
     "text": [
      "Warmup:   0%|          | 0/100 [00:00, ?it/s]/Users/mattocallaghan/XPNorm/src/Extinction_map.py:243: TracerWarning: Using len to get tensor shape might cause the trace to be incorrect. Recommended usage would be tensor.shape[0]. Passing a tensor of different shape might lead to errors or silently give incorrect results.\n",
      "  log_det = torch.zeros(len(z), device=z.device)\n",
      "/opt/homebrew/Caskroom/miniforge/base/envs/astro/lib/python3.8/site-packages/numpy/core/fromnumeric.py:86: TracerWarning: Converting a tensor to a Python integer might cause the trace to be incorrect. We can't record the data flow of Python values, so this value will be treated as a constant in the future. This means that the trace might not generalize to other inputs!\n",
      "  return ufunc.reduce(obj, axis, dtype, out, **passkwargs)\n",
      "/opt/homebrew/Caskroom/miniforge/base/envs/astro/lib/python3.8/site-packages/normflows/utils/splines.py:115: TracerWarning: Converting a tensor to a Python boolean might cause the trace to be incorrect. We can't record the data flow of Python values, so this value will be treated as a constant in the future. This means that the trace might not generalize to other inputs!\n",
      "  if min_bin_width * num_bins > 1.0:\n",
      "/opt/homebrew/Caskroom/miniforge/base/envs/astro/lib/python3.8/site-packages/normflows/utils/splines.py:117: TracerWarning: Converting a tensor to a Python boolean might cause the trace to be incorrect. We can't record the data flow of Python values, so this value will be treated as a constant in the future. This means that the trace might not generalize to other inputs!\n",
      "  if min_bin_height * num_bins > 1.0:\n",
      "/opt/homebrew/Caskroom/miniforge/base/envs/astro/lib/python3.8/site-packages/normflows/utils/splines.py:175: TracerWarning: Converting a tensor to a Python boolean might cause the trace to be incorrect. We can't record the data flow of Python values, so this value will be treated as a constant in the future. This means that the trace might not generalize to other inputs!\n",
      "  assert (discriminant >= 0).all()\n",
      "/opt/homebrew/Caskroom/miniforge/base/envs/astro/lib/python3.8/site-packages/normflows/flows/mixing.py:232: TracerWarning: Using len to get tensor shape might cause the trace to be incorrect. Recommended usage would be tensor.shape[0]. Passing a tensor of different shape might lead to errors or silently give incorrect results.\n",
      "  if inputs.shape[dim] != len(permutation):\n",
      "/opt/homebrew/Caskroom/miniforge/base/envs/astro/lib/python3.8/site-packages/normflows/flows/mixing.py:232: TracerWarning: Converting a tensor to a Python boolean might cause the trace to be incorrect. We can't record the data flow of Python values, so this value will be treated as a constant in the future. This means that the trace might not generalize to other inputs!\n",
      "  if inputs.shape[dim] != len(permutation):\n",
      "/opt/homebrew/Caskroom/miniforge/base/envs/astro/lib/python3.8/site-packages/pyro/distributions/unit.py:24: TracerWarning: torch.as_tensor results are registered as constants in the trace. You can safely ignore this warning if you use this function to create tensors out of constant variables that would be the same every time you call this function. In any other case, this might cause the trace to be incorrect.\n",
      "  log_factor = torch.as_tensor(log_factor)\n",
      "/opt/homebrew/Caskroom/miniforge/base/envs/astro/lib/python3.8/site-packages/pyro/poutine/subsample_messenger.py:63: TracerWarning: torch.tensor results are registered as constants in the trace. You can safely ignore this warning if you use this function to create tensors out of constant variables that would be the same every time you call this function. In any other case, this might cause the trace to be incorrect.\n",
      "  result = torch.tensor(0.0, device=self.device)\n",
      "/opt/homebrew/Caskroom/miniforge/base/envs/astro/lib/python3.8/site-packages/pyro/distributions/util.py:231: TracerWarning: Converting a tensor to a Python boolean might cause the trace to be incorrect. We can't record the data flow of Python values, so this value will be treated as a constant in the future. This means that the trace might not generalize to other inputs!\n",
      "  elif reversed_shape[i] == 1 and not strict:\n",
      "Warmup:  33%|███▎      | 33/100 [00:18,  1.06s/it, step size=2.80e-03, acc. prob=0.754]"
     ]
    },
    {
     "ename": "KeyboardInterrupt",
     "evalue": "",
     "output_type": "error",
     "traceback": [
      "\u001b[0;31m---------------------------------------------------------------------------\u001b[0m",
      "\u001b[0;31mKeyboardInterrupt\u001b[0m                         Traceback (most recent call last)",
      "Cell \u001b[0;32mIn[9], line 35\u001b[0m\n\u001b[1;32m     32\u001b[0m \u001b[38;5;66;03m# Convert data to PyTorch tensors\u001b[39;00m\n\u001b[1;32m     33\u001b[0m x_train \u001b[38;5;241m=\u001b[39m torch\u001b[38;5;241m.\u001b[39mtensor(map_ext\u001b[38;5;241m.\u001b[39mdata_test,dtype\u001b[38;5;241m=\u001b[39mtorch\u001b[38;5;241m.\u001b[39mdouble,requires_grad\u001b[38;5;241m=\u001b[39m\u001b[38;5;28;01mFalse\u001b[39;00m)\n\u001b[0;32m---> 35\u001b[0m \u001b[43mmcmc\u001b[49m\u001b[38;5;241;43m.\u001b[39;49m\u001b[43mrun\u001b[49m\u001b[43m(\u001b[49m\u001b[43mx_train\u001b[49m\u001b[43m[\u001b[49m\u001b[38;5;241;43m0\u001b[39;49m\u001b[43m:\u001b[49m\u001b[38;5;241;43m1\u001b[39;49m\u001b[43m]\u001b[49m\u001b[43m)\u001b[49m\n\u001b[1;32m     36\u001b[0m pyro\u001b[38;5;241m.\u001b[39mclear_param_store()\n",
      "File \u001b[0;32m/opt/homebrew/Caskroom/miniforge/base/envs/astro/lib/python3.8/site-packages/pyro/poutine/messenger.py:12\u001b[0m, in \u001b[0;36m_context_wrap\u001b[0;34m(context, fn, *args, **kwargs)\u001b[0m\n\u001b[1;32m     <a href='file:///opt/homebrew/Caskroom/miniforge/base/envs/astro/lib/python3.8/site-packages/pyro/poutine/messenger.py?line=9'>10</a>\u001b[0m \u001b[39mdef\u001b[39;00m \u001b[39m_context_wrap\u001b[39m(context, fn, \u001b[39m*\u001b[39margs, \u001b[39m*\u001b[39m\u001b[39m*\u001b[39mkwargs):\n\u001b[1;32m     <a href='file:///opt/homebrew/Caskroom/miniforge/base/envs/astro/lib/python3.8/site-packages/pyro/poutine/messenger.py?line=10'>11</a>\u001b[0m     \u001b[39mwith\u001b[39;00m context:\n\u001b[0;32m---> <a href='file:///opt/homebrew/Caskroom/miniforge/base/envs/astro/lib/python3.8/site-packages/pyro/poutine/messenger.py?line=11'>12</a>\u001b[0m         \u001b[39mreturn\u001b[39;00m fn(\u001b[39m*\u001b[39;49margs, \u001b[39m*\u001b[39;49m\u001b[39m*\u001b[39;49mkwargs)\n",
      "File \u001b[0;32m/opt/homebrew/Caskroom/miniforge/base/envs/astro/lib/python3.8/site-packages/pyro/infer/mcmc/api.py:563\u001b[0m, in \u001b[0;36mMCMC.run\u001b[0;34m(self, *args, **kwargs)\u001b[0m\n\u001b[1;32m    <a href='file:///opt/homebrew/Caskroom/miniforge/base/envs/astro/lib/python3.8/site-packages/pyro/infer/mcmc/api.py?line=553'>554</a>\u001b[0m \u001b[39mwith\u001b[39;00m optional(\n\u001b[1;32m    <a href='file:///opt/homebrew/Caskroom/miniforge/base/envs/astro/lib/python3.8/site-packages/pyro/infer/mcmc/api.py?line=554'>555</a>\u001b[0m     pyro\u001b[39m.\u001b[39mvalidation_enabled(\u001b[39mnot\u001b[39;00m \u001b[39mself\u001b[39m\u001b[39m.\u001b[39mdisable_validation),\n\u001b[1;32m    <a href='file:///opt/homebrew/Caskroom/miniforge/base/envs/astro/lib/python3.8/site-packages/pyro/infer/mcmc/api.py?line=555'>556</a>\u001b[0m     \u001b[39mself\u001b[39m\u001b[39m.\u001b[39mdisable_validation \u001b[39mis\u001b[39;00m \u001b[39mnot\u001b[39;00m \u001b[39mNone\u001b[39;00m,\n\u001b[0;32m   (...)\u001b[0m\n\u001b[1;32m    <a href='file:///opt/homebrew/Caskroom/miniforge/base/envs/astro/lib/python3.8/site-packages/pyro/infer/mcmc/api.py?line=559'>560</a>\u001b[0m     \u001b[39m# This also resolves \"RuntimeError: Cowardly refusing to serialize non-leaf tensor which\u001b[39;00m\n\u001b[1;32m    <a href='file:///opt/homebrew/Caskroom/miniforge/base/envs/astro/lib/python3.8/site-packages/pyro/infer/mcmc/api.py?line=560'>561</a>\u001b[0m     \u001b[39m# requires_grad\", which happens with `jit_compile` under PyTorch 1.7\u001b[39;00m\n\u001b[1;32m    <a href='file:///opt/homebrew/Caskroom/miniforge/base/envs/astro/lib/python3.8/site-packages/pyro/infer/mcmc/api.py?line=561'>562</a>\u001b[0m     args \u001b[39m=\u001b[39m [arg\u001b[39m.\u001b[39mdetach() \u001b[39mif\u001b[39;00m torch\u001b[39m.\u001b[39mis_tensor(arg) \u001b[39melse\u001b[39;00m arg \u001b[39mfor\u001b[39;00m arg \u001b[39min\u001b[39;00m args]\n\u001b[0;32m--> <a href='file:///opt/homebrew/Caskroom/miniforge/base/envs/astro/lib/python3.8/site-packages/pyro/infer/mcmc/api.py?line=562'>563</a>\u001b[0m     \u001b[39mfor\u001b[39;00m x, chain_id \u001b[39min\u001b[39;00m \u001b[39mself\u001b[39m\u001b[39m.\u001b[39msampler\u001b[39m.\u001b[39mrun(\u001b[39m*\u001b[39margs, \u001b[39m*\u001b[39m\u001b[39m*\u001b[39mkwargs):\n\u001b[1;32m    <a href='file:///opt/homebrew/Caskroom/miniforge/base/envs/astro/lib/python3.8/site-packages/pyro/infer/mcmc/api.py?line=563'>564</a>\u001b[0m         \u001b[39mif\u001b[39;00m num_samples[chain_id] \u001b[39m==\u001b[39m \u001b[39m0\u001b[39m:\n\u001b[1;32m    <a href='file:///opt/homebrew/Caskroom/miniforge/base/envs/astro/lib/python3.8/site-packages/pyro/infer/mcmc/api.py?line=564'>565</a>\u001b[0m             num_samples[chain_id] \u001b[39m+\u001b[39m\u001b[39m=\u001b[39m \u001b[39m1\u001b[39m\n",
      "File \u001b[0;32m/opt/homebrew/Caskroom/miniforge/base/envs/astro/lib/python3.8/site-packages/pyro/infer/mcmc/api.py:223\u001b[0m, in \u001b[0;36m_UnarySampler.run\u001b[0;34m(self, *args, **kwargs)\u001b[0m\n\u001b[1;32m    <a href='file:///opt/homebrew/Caskroom/miniforge/base/envs/astro/lib/python3.8/site-packages/pyro/infer/mcmc/api.py?line=220'>221</a>\u001b[0m logger \u001b[39m=\u001b[39m initialize_logger(logger, \u001b[39m\"\u001b[39m\u001b[39m\"\u001b[39m, progress_bar)\n\u001b[1;32m    <a href='file:///opt/homebrew/Caskroom/miniforge/base/envs/astro/lib/python3.8/site-packages/pyro/infer/mcmc/api.py?line=221'>222</a>\u001b[0m hook_w_logging \u001b[39m=\u001b[39m _add_logging_hook(logger, progress_bar, \u001b[39mself\u001b[39m\u001b[39m.\u001b[39mhook)\n\u001b[0;32m--> <a href='file:///opt/homebrew/Caskroom/miniforge/base/envs/astro/lib/python3.8/site-packages/pyro/infer/mcmc/api.py?line=222'>223</a>\u001b[0m \u001b[39mfor\u001b[39;00m sample \u001b[39min\u001b[39;00m _gen_samples(\n\u001b[1;32m    <a href='file:///opt/homebrew/Caskroom/miniforge/base/envs/astro/lib/python3.8/site-packages/pyro/infer/mcmc/api.py?line=223'>224</a>\u001b[0m     \u001b[39mself\u001b[39m\u001b[39m.\u001b[39mkernel,\n\u001b[1;32m    <a href='file:///opt/homebrew/Caskroom/miniforge/base/envs/astro/lib/python3.8/site-packages/pyro/infer/mcmc/api.py?line=224'>225</a>\u001b[0m     \u001b[39mself\u001b[39m\u001b[39m.\u001b[39mwarmup_steps,\n\u001b[1;32m    <a href='file:///opt/homebrew/Caskroom/miniforge/base/envs/astro/lib/python3.8/site-packages/pyro/infer/mcmc/api.py?line=225'>226</a>\u001b[0m     \u001b[39mself\u001b[39m\u001b[39m.\u001b[39mnum_samples,\n\u001b[1;32m    <a href='file:///opt/homebrew/Caskroom/miniforge/base/envs/astro/lib/python3.8/site-packages/pyro/infer/mcmc/api.py?line=226'>227</a>\u001b[0m     hook_w_logging,\n\u001b[1;32m    <a href='file:///opt/homebrew/Caskroom/miniforge/base/envs/astro/lib/python3.8/site-packages/pyro/infer/mcmc/api.py?line=227'>228</a>\u001b[0m     i \u001b[39mif\u001b[39;00m \u001b[39mself\u001b[39m\u001b[39m.\u001b[39mnum_chains \u001b[39m>\u001b[39m \u001b[39m1\u001b[39m \u001b[39melse\u001b[39;00m \u001b[39mNone\u001b[39;00m,\n\u001b[1;32m    <a href='file:///opt/homebrew/Caskroom/miniforge/base/envs/astro/lib/python3.8/site-packages/pyro/infer/mcmc/api.py?line=228'>229</a>\u001b[0m     \u001b[39m*\u001b[39margs,\n\u001b[1;32m    <a href='file:///opt/homebrew/Caskroom/miniforge/base/envs/astro/lib/python3.8/site-packages/pyro/infer/mcmc/api.py?line=229'>230</a>\u001b[0m     \u001b[39m*\u001b[39m\u001b[39m*\u001b[39mkwargs\n\u001b[1;32m    <a href='file:///opt/homebrew/Caskroom/miniforge/base/envs/astro/lib/python3.8/site-packages/pyro/infer/mcmc/api.py?line=230'>231</a>\u001b[0m ):\n\u001b[1;32m    <a href='file:///opt/homebrew/Caskroom/miniforge/base/envs/astro/lib/python3.8/site-packages/pyro/infer/mcmc/api.py?line=231'>232</a>\u001b[0m     \u001b[39myield\u001b[39;00m sample, i  \u001b[39m# sample, chain_id\u001b[39;00m\n\u001b[1;32m    <a href='file:///opt/homebrew/Caskroom/miniforge/base/envs/astro/lib/python3.8/site-packages/pyro/infer/mcmc/api.py?line=232'>233</a>\u001b[0m \u001b[39mself\u001b[39m\u001b[39m.\u001b[39mkernel\u001b[39m.\u001b[39mcleanup()\n",
      "File \u001b[0;32m/opt/homebrew/Caskroom/miniforge/base/envs/astro/lib/python3.8/site-packages/pyro/infer/mcmc/api.py:150\u001b[0m, in \u001b[0;36m_gen_samples\u001b[0;34m(kernel, warmup_steps, num_samples, hook, chain_id, *args, **kwargs)\u001b[0m\n\u001b[1;32m    <a href='file:///opt/homebrew/Caskroom/miniforge/base/envs/astro/lib/python3.8/site-packages/pyro/infer/mcmc/api.py?line=147'>148</a>\u001b[0m \u001b[39myield\u001b[39;00m {name: params[name]\u001b[39m.\u001b[39mshape \u001b[39mfor\u001b[39;00m name \u001b[39min\u001b[39;00m save_params}\n\u001b[1;32m    <a href='file:///opt/homebrew/Caskroom/miniforge/base/envs/astro/lib/python3.8/site-packages/pyro/infer/mcmc/api.py?line=148'>149</a>\u001b[0m \u001b[39mfor\u001b[39;00m i \u001b[39min\u001b[39;00m \u001b[39mrange\u001b[39m(warmup_steps):\n\u001b[0;32m--> <a href='file:///opt/homebrew/Caskroom/miniforge/base/envs/astro/lib/python3.8/site-packages/pyro/infer/mcmc/api.py?line=149'>150</a>\u001b[0m     params \u001b[39m=\u001b[39m kernel\u001b[39m.\u001b[39;49msample(params)\n\u001b[1;32m    <a href='file:///opt/homebrew/Caskroom/miniforge/base/envs/astro/lib/python3.8/site-packages/pyro/infer/mcmc/api.py?line=150'>151</a>\u001b[0m     hook(\n\u001b[1;32m    <a href='file:///opt/homebrew/Caskroom/miniforge/base/envs/astro/lib/python3.8/site-packages/pyro/infer/mcmc/api.py?line=151'>152</a>\u001b[0m         kernel,\n\u001b[1;32m    <a href='file:///opt/homebrew/Caskroom/miniforge/base/envs/astro/lib/python3.8/site-packages/pyro/infer/mcmc/api.py?line=152'>153</a>\u001b[0m         params,\n\u001b[1;32m    <a href='file:///opt/homebrew/Caskroom/miniforge/base/envs/astro/lib/python3.8/site-packages/pyro/infer/mcmc/api.py?line=153'>154</a>\u001b[0m         \u001b[39m\"\u001b[39m\u001b[39mWarmup [\u001b[39m\u001b[39m{}\u001b[39;00m\u001b[39m]\u001b[39m\u001b[39m\"\u001b[39m\u001b[39m.\u001b[39mformat(chain_id) \u001b[39mif\u001b[39;00m chain_id \u001b[39mis\u001b[39;00m \u001b[39mnot\u001b[39;00m \u001b[39mNone\u001b[39;00m \u001b[39melse\u001b[39;00m \u001b[39m\"\u001b[39m\u001b[39mWarmup\u001b[39m\u001b[39m\"\u001b[39m,\n\u001b[1;32m    <a href='file:///opt/homebrew/Caskroom/miniforge/base/envs/astro/lib/python3.8/site-packages/pyro/infer/mcmc/api.py?line=154'>155</a>\u001b[0m         i,\n\u001b[1;32m    <a href='file:///opt/homebrew/Caskroom/miniforge/base/envs/astro/lib/python3.8/site-packages/pyro/infer/mcmc/api.py?line=155'>156</a>\u001b[0m     )\n\u001b[1;32m    <a href='file:///opt/homebrew/Caskroom/miniforge/base/envs/astro/lib/python3.8/site-packages/pyro/infer/mcmc/api.py?line=156'>157</a>\u001b[0m \u001b[39mfor\u001b[39;00m i \u001b[39min\u001b[39;00m \u001b[39mrange\u001b[39m(num_samples):\n",
      "File \u001b[0;32m/opt/homebrew/Caskroom/miniforge/base/envs/astro/lib/python3.8/site-packages/pyro/infer/mcmc/nuts.py:437\u001b[0m, in \u001b[0;36mNUTS.sample\u001b[0;34m(self, params)\u001b[0m\n\u001b[1;32m    <a href='file:///opt/homebrew/Caskroom/miniforge/base/envs/astro/lib/python3.8/site-packages/pyro/infer/mcmc/nuts.py?line=432'>433</a>\u001b[0m direction \u001b[39m=\u001b[39m \u001b[39mint\u001b[39m(direction\u001b[39m.\u001b[39mitem())\n\u001b[1;32m    <a href='file:///opt/homebrew/Caskroom/miniforge/base/envs/astro/lib/python3.8/site-packages/pyro/infer/mcmc/nuts.py?line=433'>434</a>\u001b[0m \u001b[39mif\u001b[39;00m (\n\u001b[1;32m    <a href='file:///opt/homebrew/Caskroom/miniforge/base/envs/astro/lib/python3.8/site-packages/pyro/infer/mcmc/nuts.py?line=434'>435</a>\u001b[0m     direction \u001b[39m==\u001b[39m \u001b[39m1\u001b[39m\n\u001b[1;32m    <a href='file:///opt/homebrew/Caskroom/miniforge/base/envs/astro/lib/python3.8/site-packages/pyro/infer/mcmc/nuts.py?line=435'>436</a>\u001b[0m ):  \u001b[39m# go to the right, start from the right leaf of current tree\u001b[39;00m\n\u001b[0;32m--> <a href='file:///opt/homebrew/Caskroom/miniforge/base/envs/astro/lib/python3.8/site-packages/pyro/infer/mcmc/nuts.py?line=436'>437</a>\u001b[0m     new_tree \u001b[39m=\u001b[39m \u001b[39mself\u001b[39;49m\u001b[39m.\u001b[39;49m_build_tree(\n\u001b[1;32m    <a href='file:///opt/homebrew/Caskroom/miniforge/base/envs/astro/lib/python3.8/site-packages/pyro/infer/mcmc/nuts.py?line=437'>438</a>\u001b[0m         z_right,\n\u001b[1;32m    <a href='file:///opt/homebrew/Caskroom/miniforge/base/envs/astro/lib/python3.8/site-packages/pyro/infer/mcmc/nuts.py?line=438'>439</a>\u001b[0m         r_right,\n\u001b[1;32m    <a href='file:///opt/homebrew/Caskroom/miniforge/base/envs/astro/lib/python3.8/site-packages/pyro/infer/mcmc/nuts.py?line=439'>440</a>\u001b[0m         z_right_grads,\n\u001b[1;32m    <a href='file:///opt/homebrew/Caskroom/miniforge/base/envs/astro/lib/python3.8/site-packages/pyro/infer/mcmc/nuts.py?line=440'>441</a>\u001b[0m         log_slice,\n\u001b[1;32m    <a href='file:///opt/homebrew/Caskroom/miniforge/base/envs/astro/lib/python3.8/site-packages/pyro/infer/mcmc/nuts.py?line=441'>442</a>\u001b[0m         direction,\n\u001b[1;32m    <a href='file:///opt/homebrew/Caskroom/miniforge/base/envs/astro/lib/python3.8/site-packages/pyro/infer/mcmc/nuts.py?line=442'>443</a>\u001b[0m         tree_depth,\n\u001b[1;32m    <a href='file:///opt/homebrew/Caskroom/miniforge/base/envs/astro/lib/python3.8/site-packages/pyro/infer/mcmc/nuts.py?line=443'>444</a>\u001b[0m         energy_current,\n\u001b[1;32m    <a href='file:///opt/homebrew/Caskroom/miniforge/base/envs/astro/lib/python3.8/site-packages/pyro/infer/mcmc/nuts.py?line=444'>445</a>\u001b[0m     )\n\u001b[1;32m    <a href='file:///opt/homebrew/Caskroom/miniforge/base/envs/astro/lib/python3.8/site-packages/pyro/infer/mcmc/nuts.py?line=445'>446</a>\u001b[0m     \u001b[39m# update leaf for the next doubling process\u001b[39;00m\n\u001b[1;32m    <a href='file:///opt/homebrew/Caskroom/miniforge/base/envs/astro/lib/python3.8/site-packages/pyro/infer/mcmc/nuts.py?line=446'>447</a>\u001b[0m     z_right \u001b[39m=\u001b[39m new_tree\u001b[39m.\u001b[39mz_right\n",
      "File \u001b[0;32m/opt/homebrew/Caskroom/miniforge/base/envs/astro/lib/python3.8/site-packages/pyro/infer/mcmc/nuts.py:281\u001b[0m, in \u001b[0;36mNUTS._build_tree\u001b[0;34m(self, z, r, z_grads, log_slice, direction, tree_depth, energy_current)\u001b[0m\n\u001b[1;32m    <a href='file:///opt/homebrew/Caskroom/miniforge/base/envs/astro/lib/python3.8/site-packages/pyro/infer/mcmc/nuts.py?line=278'>279</a>\u001b[0m     r \u001b[39m=\u001b[39m half_tree\u001b[39m.\u001b[39mr_left\n\u001b[1;32m    <a href='file:///opt/homebrew/Caskroom/miniforge/base/envs/astro/lib/python3.8/site-packages/pyro/infer/mcmc/nuts.py?line=279'>280</a>\u001b[0m     z_grads \u001b[39m=\u001b[39m half_tree\u001b[39m.\u001b[39mz_left_grads\n\u001b[0;32m--> <a href='file:///opt/homebrew/Caskroom/miniforge/base/envs/astro/lib/python3.8/site-packages/pyro/infer/mcmc/nuts.py?line=280'>281</a>\u001b[0m other_half_tree \u001b[39m=\u001b[39m \u001b[39mself\u001b[39;49m\u001b[39m.\u001b[39;49m_build_tree(\n\u001b[1;32m    <a href='file:///opt/homebrew/Caskroom/miniforge/base/envs/astro/lib/python3.8/site-packages/pyro/infer/mcmc/nuts.py?line=281'>282</a>\u001b[0m     z, r, z_grads, log_slice, direction, tree_depth \u001b[39m-\u001b[39;49m \u001b[39m1\u001b[39;49m, energy_current\n\u001b[1;32m    <a href='file:///opt/homebrew/Caskroom/miniforge/base/envs/astro/lib/python3.8/site-packages/pyro/infer/mcmc/nuts.py?line=282'>283</a>\u001b[0m )\n\u001b[1;32m    <a href='file:///opt/homebrew/Caskroom/miniforge/base/envs/astro/lib/python3.8/site-packages/pyro/infer/mcmc/nuts.py?line=284'>285</a>\u001b[0m \u001b[39mif\u001b[39;00m \u001b[39mself\u001b[39m\u001b[39m.\u001b[39muse_multinomial_sampling:\n\u001b[1;32m    <a href='file:///opt/homebrew/Caskroom/miniforge/base/envs/astro/lib/python3.8/site-packages/pyro/infer/mcmc/nuts.py?line=285'>286</a>\u001b[0m     tree_weight \u001b[39m=\u001b[39m _logaddexp(half_tree\u001b[39m.\u001b[39mweight, other_half_tree\u001b[39m.\u001b[39mweight)\n",
      "File \u001b[0;32m/opt/homebrew/Caskroom/miniforge/base/envs/astro/lib/python3.8/site-packages/pyro/infer/mcmc/nuts.py:281\u001b[0m, in \u001b[0;36mNUTS._build_tree\u001b[0;34m(self, z, r, z_grads, log_slice, direction, tree_depth, energy_current)\u001b[0m\n\u001b[1;32m    <a href='file:///opt/homebrew/Caskroom/miniforge/base/envs/astro/lib/python3.8/site-packages/pyro/infer/mcmc/nuts.py?line=278'>279</a>\u001b[0m     r \u001b[39m=\u001b[39m half_tree\u001b[39m.\u001b[39mr_left\n\u001b[1;32m    <a href='file:///opt/homebrew/Caskroom/miniforge/base/envs/astro/lib/python3.8/site-packages/pyro/infer/mcmc/nuts.py?line=279'>280</a>\u001b[0m     z_grads \u001b[39m=\u001b[39m half_tree\u001b[39m.\u001b[39mz_left_grads\n\u001b[0;32m--> <a href='file:///opt/homebrew/Caskroom/miniforge/base/envs/astro/lib/python3.8/site-packages/pyro/infer/mcmc/nuts.py?line=280'>281</a>\u001b[0m other_half_tree \u001b[39m=\u001b[39m \u001b[39mself\u001b[39;49m\u001b[39m.\u001b[39;49m_build_tree(\n\u001b[1;32m    <a href='file:///opt/homebrew/Caskroom/miniforge/base/envs/astro/lib/python3.8/site-packages/pyro/infer/mcmc/nuts.py?line=281'>282</a>\u001b[0m     z, r, z_grads, log_slice, direction, tree_depth \u001b[39m-\u001b[39;49m \u001b[39m1\u001b[39;49m, energy_current\n\u001b[1;32m    <a href='file:///opt/homebrew/Caskroom/miniforge/base/envs/astro/lib/python3.8/site-packages/pyro/infer/mcmc/nuts.py?line=282'>283</a>\u001b[0m )\n\u001b[1;32m    <a href='file:///opt/homebrew/Caskroom/miniforge/base/envs/astro/lib/python3.8/site-packages/pyro/infer/mcmc/nuts.py?line=284'>285</a>\u001b[0m \u001b[39mif\u001b[39;00m \u001b[39mself\u001b[39m\u001b[39m.\u001b[39muse_multinomial_sampling:\n\u001b[1;32m    <a href='file:///opt/homebrew/Caskroom/miniforge/base/envs/astro/lib/python3.8/site-packages/pyro/infer/mcmc/nuts.py?line=285'>286</a>\u001b[0m     tree_weight \u001b[39m=\u001b[39m _logaddexp(half_tree\u001b[39m.\u001b[39mweight, other_half_tree\u001b[39m.\u001b[39mweight)\n",
      "    \u001b[0;31m[... skipping similar frames: NUTS._build_tree at line 281 (1 times)]\u001b[0m\n",
      "File \u001b[0;32m/opt/homebrew/Caskroom/miniforge/base/envs/astro/lib/python3.8/site-packages/pyro/infer/mcmc/nuts.py:281\u001b[0m, in \u001b[0;36mNUTS._build_tree\u001b[0;34m(self, z, r, z_grads, log_slice, direction, tree_depth, energy_current)\u001b[0m\n\u001b[1;32m    <a href='file:///opt/homebrew/Caskroom/miniforge/base/envs/astro/lib/python3.8/site-packages/pyro/infer/mcmc/nuts.py?line=278'>279</a>\u001b[0m     r \u001b[39m=\u001b[39m half_tree\u001b[39m.\u001b[39mr_left\n\u001b[1;32m    <a href='file:///opt/homebrew/Caskroom/miniforge/base/envs/astro/lib/python3.8/site-packages/pyro/infer/mcmc/nuts.py?line=279'>280</a>\u001b[0m     z_grads \u001b[39m=\u001b[39m half_tree\u001b[39m.\u001b[39mz_left_grads\n\u001b[0;32m--> <a href='file:///opt/homebrew/Caskroom/miniforge/base/envs/astro/lib/python3.8/site-packages/pyro/infer/mcmc/nuts.py?line=280'>281</a>\u001b[0m other_half_tree \u001b[39m=\u001b[39m \u001b[39mself\u001b[39;49m\u001b[39m.\u001b[39;49m_build_tree(\n\u001b[1;32m    <a href='file:///opt/homebrew/Caskroom/miniforge/base/envs/astro/lib/python3.8/site-packages/pyro/infer/mcmc/nuts.py?line=281'>282</a>\u001b[0m     z, r, z_grads, log_slice, direction, tree_depth \u001b[39m-\u001b[39;49m \u001b[39m1\u001b[39;49m, energy_current\n\u001b[1;32m    <a href='file:///opt/homebrew/Caskroom/miniforge/base/envs/astro/lib/python3.8/site-packages/pyro/infer/mcmc/nuts.py?line=282'>283</a>\u001b[0m )\n\u001b[1;32m    <a href='file:///opt/homebrew/Caskroom/miniforge/base/envs/astro/lib/python3.8/site-packages/pyro/infer/mcmc/nuts.py?line=284'>285</a>\u001b[0m \u001b[39mif\u001b[39;00m \u001b[39mself\u001b[39m\u001b[39m.\u001b[39muse_multinomial_sampling:\n\u001b[1;32m    <a href='file:///opt/homebrew/Caskroom/miniforge/base/envs/astro/lib/python3.8/site-packages/pyro/infer/mcmc/nuts.py?line=285'>286</a>\u001b[0m     tree_weight \u001b[39m=\u001b[39m _logaddexp(half_tree\u001b[39m.\u001b[39mweight, other_half_tree\u001b[39m.\u001b[39mweight)\n",
      "File \u001b[0;32m/opt/homebrew/Caskroom/miniforge/base/envs/astro/lib/python3.8/site-packages/pyro/infer/mcmc/nuts.py:259\u001b[0m, in \u001b[0;36mNUTS._build_tree\u001b[0;34m(self, z, r, z_grads, log_slice, direction, tree_depth, energy_current)\u001b[0m\n\u001b[1;32m    <a href='file:///opt/homebrew/Caskroom/miniforge/base/envs/astro/lib/python3.8/site-packages/pyro/infer/mcmc/nuts.py?line=253'>254</a>\u001b[0m     \u001b[39mreturn\u001b[39;00m \u001b[39mself\u001b[39m\u001b[39m.\u001b[39m_build_basetree(\n\u001b[1;32m    <a href='file:///opt/homebrew/Caskroom/miniforge/base/envs/astro/lib/python3.8/site-packages/pyro/infer/mcmc/nuts.py?line=254'>255</a>\u001b[0m         z, r, z_grads, log_slice, direction, energy_current\n\u001b[1;32m    <a href='file:///opt/homebrew/Caskroom/miniforge/base/envs/astro/lib/python3.8/site-packages/pyro/infer/mcmc/nuts.py?line=255'>256</a>\u001b[0m     )\n\u001b[1;32m    <a href='file:///opt/homebrew/Caskroom/miniforge/base/envs/astro/lib/python3.8/site-packages/pyro/infer/mcmc/nuts.py?line=257'>258</a>\u001b[0m \u001b[39m# build the first half of tree\u001b[39;00m\n\u001b[0;32m--> <a href='file:///opt/homebrew/Caskroom/miniforge/base/envs/astro/lib/python3.8/site-packages/pyro/infer/mcmc/nuts.py?line=258'>259</a>\u001b[0m half_tree \u001b[39m=\u001b[39m \u001b[39mself\u001b[39;49m\u001b[39m.\u001b[39;49m_build_tree(\n\u001b[1;32m    <a href='file:///opt/homebrew/Caskroom/miniforge/base/envs/astro/lib/python3.8/site-packages/pyro/infer/mcmc/nuts.py?line=259'>260</a>\u001b[0m     z, r, z_grads, log_slice, direction, tree_depth \u001b[39m-\u001b[39;49m \u001b[39m1\u001b[39;49m, energy_current\n\u001b[1;32m    <a href='file:///opt/homebrew/Caskroom/miniforge/base/envs/astro/lib/python3.8/site-packages/pyro/infer/mcmc/nuts.py?line=260'>261</a>\u001b[0m )\n\u001b[1;32m    <a href='file:///opt/homebrew/Caskroom/miniforge/base/envs/astro/lib/python3.8/site-packages/pyro/infer/mcmc/nuts.py?line=261'>262</a>\u001b[0m z_proposal \u001b[39m=\u001b[39m half_tree\u001b[39m.\u001b[39mz_proposal\n\u001b[1;32m    <a href='file:///opt/homebrew/Caskroom/miniforge/base/envs/astro/lib/python3.8/site-packages/pyro/infer/mcmc/nuts.py?line=262'>263</a>\u001b[0m z_proposal_pe \u001b[39m=\u001b[39m half_tree\u001b[39m.\u001b[39mz_proposal_pe\n",
      "File \u001b[0;32m/opt/homebrew/Caskroom/miniforge/base/envs/astro/lib/python3.8/site-packages/pyro/infer/mcmc/nuts.py:281\u001b[0m, in \u001b[0;36mNUTS._build_tree\u001b[0;34m(self, z, r, z_grads, log_slice, direction, tree_depth, energy_current)\u001b[0m\n\u001b[1;32m    <a href='file:///opt/homebrew/Caskroom/miniforge/base/envs/astro/lib/python3.8/site-packages/pyro/infer/mcmc/nuts.py?line=278'>279</a>\u001b[0m     r \u001b[39m=\u001b[39m half_tree\u001b[39m.\u001b[39mr_left\n\u001b[1;32m    <a href='file:///opt/homebrew/Caskroom/miniforge/base/envs/astro/lib/python3.8/site-packages/pyro/infer/mcmc/nuts.py?line=279'>280</a>\u001b[0m     z_grads \u001b[39m=\u001b[39m half_tree\u001b[39m.\u001b[39mz_left_grads\n\u001b[0;32m--> <a href='file:///opt/homebrew/Caskroom/miniforge/base/envs/astro/lib/python3.8/site-packages/pyro/infer/mcmc/nuts.py?line=280'>281</a>\u001b[0m other_half_tree \u001b[39m=\u001b[39m \u001b[39mself\u001b[39;49m\u001b[39m.\u001b[39;49m_build_tree(\n\u001b[1;32m    <a href='file:///opt/homebrew/Caskroom/miniforge/base/envs/astro/lib/python3.8/site-packages/pyro/infer/mcmc/nuts.py?line=281'>282</a>\u001b[0m     z, r, z_grads, log_slice, direction, tree_depth \u001b[39m-\u001b[39;49m \u001b[39m1\u001b[39;49m, energy_current\n\u001b[1;32m    <a href='file:///opt/homebrew/Caskroom/miniforge/base/envs/astro/lib/python3.8/site-packages/pyro/infer/mcmc/nuts.py?line=282'>283</a>\u001b[0m )\n\u001b[1;32m    <a href='file:///opt/homebrew/Caskroom/miniforge/base/envs/astro/lib/python3.8/site-packages/pyro/infer/mcmc/nuts.py?line=284'>285</a>\u001b[0m \u001b[39mif\u001b[39;00m \u001b[39mself\u001b[39m\u001b[39m.\u001b[39muse_multinomial_sampling:\n\u001b[1;32m    <a href='file:///opt/homebrew/Caskroom/miniforge/base/envs/astro/lib/python3.8/site-packages/pyro/infer/mcmc/nuts.py?line=285'>286</a>\u001b[0m     tree_weight \u001b[39m=\u001b[39m _logaddexp(half_tree\u001b[39m.\u001b[39mweight, other_half_tree\u001b[39m.\u001b[39mweight)\n",
      "File \u001b[0;32m/opt/homebrew/Caskroom/miniforge/base/envs/astro/lib/python3.8/site-packages/pyro/infer/mcmc/nuts.py:259\u001b[0m, in \u001b[0;36mNUTS._build_tree\u001b[0;34m(self, z, r, z_grads, log_slice, direction, tree_depth, energy_current)\u001b[0m\n\u001b[1;32m    <a href='file:///opt/homebrew/Caskroom/miniforge/base/envs/astro/lib/python3.8/site-packages/pyro/infer/mcmc/nuts.py?line=253'>254</a>\u001b[0m     \u001b[39mreturn\u001b[39;00m \u001b[39mself\u001b[39m\u001b[39m.\u001b[39m_build_basetree(\n\u001b[1;32m    <a href='file:///opt/homebrew/Caskroom/miniforge/base/envs/astro/lib/python3.8/site-packages/pyro/infer/mcmc/nuts.py?line=254'>255</a>\u001b[0m         z, r, z_grads, log_slice, direction, energy_current\n\u001b[1;32m    <a href='file:///opt/homebrew/Caskroom/miniforge/base/envs/astro/lib/python3.8/site-packages/pyro/infer/mcmc/nuts.py?line=255'>256</a>\u001b[0m     )\n\u001b[1;32m    <a href='file:///opt/homebrew/Caskroom/miniforge/base/envs/astro/lib/python3.8/site-packages/pyro/infer/mcmc/nuts.py?line=257'>258</a>\u001b[0m \u001b[39m# build the first half of tree\u001b[39;00m\n\u001b[0;32m--> <a href='file:///opt/homebrew/Caskroom/miniforge/base/envs/astro/lib/python3.8/site-packages/pyro/infer/mcmc/nuts.py?line=258'>259</a>\u001b[0m half_tree \u001b[39m=\u001b[39m \u001b[39mself\u001b[39;49m\u001b[39m.\u001b[39;49m_build_tree(\n\u001b[1;32m    <a href='file:///opt/homebrew/Caskroom/miniforge/base/envs/astro/lib/python3.8/site-packages/pyro/infer/mcmc/nuts.py?line=259'>260</a>\u001b[0m     z, r, z_grads, log_slice, direction, tree_depth \u001b[39m-\u001b[39;49m \u001b[39m1\u001b[39;49m, energy_current\n\u001b[1;32m    <a href='file:///opt/homebrew/Caskroom/miniforge/base/envs/astro/lib/python3.8/site-packages/pyro/infer/mcmc/nuts.py?line=260'>261</a>\u001b[0m )\n\u001b[1;32m    <a href='file:///opt/homebrew/Caskroom/miniforge/base/envs/astro/lib/python3.8/site-packages/pyro/infer/mcmc/nuts.py?line=261'>262</a>\u001b[0m z_proposal \u001b[39m=\u001b[39m half_tree\u001b[39m.\u001b[39mz_proposal\n\u001b[1;32m    <a href='file:///opt/homebrew/Caskroom/miniforge/base/envs/astro/lib/python3.8/site-packages/pyro/infer/mcmc/nuts.py?line=262'>263</a>\u001b[0m z_proposal_pe \u001b[39m=\u001b[39m half_tree\u001b[39m.\u001b[39mz_proposal_pe\n",
      "File \u001b[0;32m/opt/homebrew/Caskroom/miniforge/base/envs/astro/lib/python3.8/site-packages/pyro/infer/mcmc/nuts.py:281\u001b[0m, in \u001b[0;36mNUTS._build_tree\u001b[0;34m(self, z, r, z_grads, log_slice, direction, tree_depth, energy_current)\u001b[0m\n\u001b[1;32m    <a href='file:///opt/homebrew/Caskroom/miniforge/base/envs/astro/lib/python3.8/site-packages/pyro/infer/mcmc/nuts.py?line=278'>279</a>\u001b[0m     r \u001b[39m=\u001b[39m half_tree\u001b[39m.\u001b[39mr_left\n\u001b[1;32m    <a href='file:///opt/homebrew/Caskroom/miniforge/base/envs/astro/lib/python3.8/site-packages/pyro/infer/mcmc/nuts.py?line=279'>280</a>\u001b[0m     z_grads \u001b[39m=\u001b[39m half_tree\u001b[39m.\u001b[39mz_left_grads\n\u001b[0;32m--> <a href='file:///opt/homebrew/Caskroom/miniforge/base/envs/astro/lib/python3.8/site-packages/pyro/infer/mcmc/nuts.py?line=280'>281</a>\u001b[0m other_half_tree \u001b[39m=\u001b[39m \u001b[39mself\u001b[39;49m\u001b[39m.\u001b[39;49m_build_tree(\n\u001b[1;32m    <a href='file:///opt/homebrew/Caskroom/miniforge/base/envs/astro/lib/python3.8/site-packages/pyro/infer/mcmc/nuts.py?line=281'>282</a>\u001b[0m     z, r, z_grads, log_slice, direction, tree_depth \u001b[39m-\u001b[39;49m \u001b[39m1\u001b[39;49m, energy_current\n\u001b[1;32m    <a href='file:///opt/homebrew/Caskroom/miniforge/base/envs/astro/lib/python3.8/site-packages/pyro/infer/mcmc/nuts.py?line=282'>283</a>\u001b[0m )\n\u001b[1;32m    <a href='file:///opt/homebrew/Caskroom/miniforge/base/envs/astro/lib/python3.8/site-packages/pyro/infer/mcmc/nuts.py?line=284'>285</a>\u001b[0m \u001b[39mif\u001b[39;00m \u001b[39mself\u001b[39m\u001b[39m.\u001b[39muse_multinomial_sampling:\n\u001b[1;32m    <a href='file:///opt/homebrew/Caskroom/miniforge/base/envs/astro/lib/python3.8/site-packages/pyro/infer/mcmc/nuts.py?line=285'>286</a>\u001b[0m     tree_weight \u001b[39m=\u001b[39m _logaddexp(half_tree\u001b[39m.\u001b[39mweight, other_half_tree\u001b[39m.\u001b[39mweight)\n",
      "File \u001b[0;32m/opt/homebrew/Caskroom/miniforge/base/envs/astro/lib/python3.8/site-packages/pyro/infer/mcmc/nuts.py:259\u001b[0m, in \u001b[0;36mNUTS._build_tree\u001b[0;34m(self, z, r, z_grads, log_slice, direction, tree_depth, energy_current)\u001b[0m\n\u001b[1;32m    <a href='file:///opt/homebrew/Caskroom/miniforge/base/envs/astro/lib/python3.8/site-packages/pyro/infer/mcmc/nuts.py?line=253'>254</a>\u001b[0m     \u001b[39mreturn\u001b[39;00m \u001b[39mself\u001b[39m\u001b[39m.\u001b[39m_build_basetree(\n\u001b[1;32m    <a href='file:///opt/homebrew/Caskroom/miniforge/base/envs/astro/lib/python3.8/site-packages/pyro/infer/mcmc/nuts.py?line=254'>255</a>\u001b[0m         z, r, z_grads, log_slice, direction, energy_current\n\u001b[1;32m    <a href='file:///opt/homebrew/Caskroom/miniforge/base/envs/astro/lib/python3.8/site-packages/pyro/infer/mcmc/nuts.py?line=255'>256</a>\u001b[0m     )\n\u001b[1;32m    <a href='file:///opt/homebrew/Caskroom/miniforge/base/envs/astro/lib/python3.8/site-packages/pyro/infer/mcmc/nuts.py?line=257'>258</a>\u001b[0m \u001b[39m# build the first half of tree\u001b[39;00m\n\u001b[0;32m--> <a href='file:///opt/homebrew/Caskroom/miniforge/base/envs/astro/lib/python3.8/site-packages/pyro/infer/mcmc/nuts.py?line=258'>259</a>\u001b[0m half_tree \u001b[39m=\u001b[39m \u001b[39mself\u001b[39;49m\u001b[39m.\u001b[39;49m_build_tree(\n\u001b[1;32m    <a href='file:///opt/homebrew/Caskroom/miniforge/base/envs/astro/lib/python3.8/site-packages/pyro/infer/mcmc/nuts.py?line=259'>260</a>\u001b[0m     z, r, z_grads, log_slice, direction, tree_depth \u001b[39m-\u001b[39;49m \u001b[39m1\u001b[39;49m, energy_current\n\u001b[1;32m    <a href='file:///opt/homebrew/Caskroom/miniforge/base/envs/astro/lib/python3.8/site-packages/pyro/infer/mcmc/nuts.py?line=260'>261</a>\u001b[0m )\n\u001b[1;32m    <a href='file:///opt/homebrew/Caskroom/miniforge/base/envs/astro/lib/python3.8/site-packages/pyro/infer/mcmc/nuts.py?line=261'>262</a>\u001b[0m z_proposal \u001b[39m=\u001b[39m half_tree\u001b[39m.\u001b[39mz_proposal\n\u001b[1;32m    <a href='file:///opt/homebrew/Caskroom/miniforge/base/envs/astro/lib/python3.8/site-packages/pyro/infer/mcmc/nuts.py?line=262'>263</a>\u001b[0m z_proposal_pe \u001b[39m=\u001b[39m half_tree\u001b[39m.\u001b[39mz_proposal_pe\n",
      "File \u001b[0;32m/opt/homebrew/Caskroom/miniforge/base/envs/astro/lib/python3.8/site-packages/pyro/infer/mcmc/nuts.py:254\u001b[0m, in \u001b[0;36mNUTS._build_tree\u001b[0;34m(self, z, r, z_grads, log_slice, direction, tree_depth, energy_current)\u001b[0m\n\u001b[1;32m    <a href='file:///opt/homebrew/Caskroom/miniforge/base/envs/astro/lib/python3.8/site-packages/pyro/infer/mcmc/nuts.py?line=249'>250</a>\u001b[0m \u001b[39mdef\u001b[39;00m \u001b[39m_build_tree\u001b[39m(\n\u001b[1;32m    <a href='file:///opt/homebrew/Caskroom/miniforge/base/envs/astro/lib/python3.8/site-packages/pyro/infer/mcmc/nuts.py?line=250'>251</a>\u001b[0m     \u001b[39mself\u001b[39m, z, r, z_grads, log_slice, direction, tree_depth, energy_current\n\u001b[1;32m    <a href='file:///opt/homebrew/Caskroom/miniforge/base/envs/astro/lib/python3.8/site-packages/pyro/infer/mcmc/nuts.py?line=251'>252</a>\u001b[0m ):\n\u001b[1;32m    <a href='file:///opt/homebrew/Caskroom/miniforge/base/envs/astro/lib/python3.8/site-packages/pyro/infer/mcmc/nuts.py?line=252'>253</a>\u001b[0m     \u001b[39mif\u001b[39;00m tree_depth \u001b[39m==\u001b[39m \u001b[39m0\u001b[39m:\n\u001b[0;32m--> <a href='file:///opt/homebrew/Caskroom/miniforge/base/envs/astro/lib/python3.8/site-packages/pyro/infer/mcmc/nuts.py?line=253'>254</a>\u001b[0m         \u001b[39mreturn\u001b[39;00m \u001b[39mself\u001b[39;49m\u001b[39m.\u001b[39;49m_build_basetree(\n\u001b[1;32m    <a href='file:///opt/homebrew/Caskroom/miniforge/base/envs/astro/lib/python3.8/site-packages/pyro/infer/mcmc/nuts.py?line=254'>255</a>\u001b[0m             z, r, z_grads, log_slice, direction, energy_current\n\u001b[1;32m    <a href='file:///opt/homebrew/Caskroom/miniforge/base/envs/astro/lib/python3.8/site-packages/pyro/infer/mcmc/nuts.py?line=255'>256</a>\u001b[0m         )\n\u001b[1;32m    <a href='file:///opt/homebrew/Caskroom/miniforge/base/envs/astro/lib/python3.8/site-packages/pyro/infer/mcmc/nuts.py?line=257'>258</a>\u001b[0m     \u001b[39m# build the first half of tree\u001b[39;00m\n\u001b[1;32m    <a href='file:///opt/homebrew/Caskroom/miniforge/base/envs/astro/lib/python3.8/site-packages/pyro/infer/mcmc/nuts.py?line=258'>259</a>\u001b[0m     half_tree \u001b[39m=\u001b[39m \u001b[39mself\u001b[39m\u001b[39m.\u001b[39m_build_tree(\n\u001b[1;32m    <a href='file:///opt/homebrew/Caskroom/miniforge/base/envs/astro/lib/python3.8/site-packages/pyro/infer/mcmc/nuts.py?line=259'>260</a>\u001b[0m         z, r, z_grads, log_slice, direction, tree_depth \u001b[39m-\u001b[39m \u001b[39m1\u001b[39m, energy_current\n\u001b[1;32m    <a href='file:///opt/homebrew/Caskroom/miniforge/base/envs/astro/lib/python3.8/site-packages/pyro/infer/mcmc/nuts.py?line=260'>261</a>\u001b[0m     )\n",
      "File \u001b[0;32m/opt/homebrew/Caskroom/miniforge/base/envs/astro/lib/python3.8/site-packages/pyro/infer/mcmc/nuts.py:199\u001b[0m, in \u001b[0;36mNUTS._build_basetree\u001b[0;34m(self, z, r, z_grads, log_slice, direction, energy_current)\u001b[0m\n\u001b[1;32m    <a href='file:///opt/homebrew/Caskroom/miniforge/base/envs/astro/lib/python3.8/site-packages/pyro/infer/mcmc/nuts.py?line=196'>197</a>\u001b[0m \u001b[39mdef\u001b[39;00m \u001b[39m_build_basetree\u001b[39m(\u001b[39mself\u001b[39m, z, r, z_grads, log_slice, direction, energy_current):\n\u001b[1;32m    <a href='file:///opt/homebrew/Caskroom/miniforge/base/envs/astro/lib/python3.8/site-packages/pyro/infer/mcmc/nuts.py?line=197'>198</a>\u001b[0m     step_size \u001b[39m=\u001b[39m \u001b[39mself\u001b[39m\u001b[39m.\u001b[39mstep_size \u001b[39mif\u001b[39;00m direction \u001b[39m==\u001b[39m \u001b[39m1\u001b[39m \u001b[39melse\u001b[39;00m \u001b[39m-\u001b[39m\u001b[39mself\u001b[39m\u001b[39m.\u001b[39mstep_size\n\u001b[0;32m--> <a href='file:///opt/homebrew/Caskroom/miniforge/base/envs/astro/lib/python3.8/site-packages/pyro/infer/mcmc/nuts.py?line=198'>199</a>\u001b[0m     z_new, r_new, z_grads, potential_energy \u001b[39m=\u001b[39m velocity_verlet(\n\u001b[1;32m    <a href='file:///opt/homebrew/Caskroom/miniforge/base/envs/astro/lib/python3.8/site-packages/pyro/infer/mcmc/nuts.py?line=199'>200</a>\u001b[0m         z,\n\u001b[1;32m    <a href='file:///opt/homebrew/Caskroom/miniforge/base/envs/astro/lib/python3.8/site-packages/pyro/infer/mcmc/nuts.py?line=200'>201</a>\u001b[0m         r,\n\u001b[1;32m    <a href='file:///opt/homebrew/Caskroom/miniforge/base/envs/astro/lib/python3.8/site-packages/pyro/infer/mcmc/nuts.py?line=201'>202</a>\u001b[0m         \u001b[39mself\u001b[39;49m\u001b[39m.\u001b[39;49mpotential_fn,\n\u001b[1;32m    <a href='file:///opt/homebrew/Caskroom/miniforge/base/envs/astro/lib/python3.8/site-packages/pyro/infer/mcmc/nuts.py?line=202'>203</a>\u001b[0m         \u001b[39mself\u001b[39;49m\u001b[39m.\u001b[39;49mmass_matrix_adapter\u001b[39m.\u001b[39;49mkinetic_grad,\n\u001b[1;32m    <a href='file:///opt/homebrew/Caskroom/miniforge/base/envs/astro/lib/python3.8/site-packages/pyro/infer/mcmc/nuts.py?line=203'>204</a>\u001b[0m         step_size,\n\u001b[1;32m    <a href='file:///opt/homebrew/Caskroom/miniforge/base/envs/astro/lib/python3.8/site-packages/pyro/infer/mcmc/nuts.py?line=204'>205</a>\u001b[0m         z_grads\u001b[39m=\u001b[39;49mz_grads,\n\u001b[1;32m    <a href='file:///opt/homebrew/Caskroom/miniforge/base/envs/astro/lib/python3.8/site-packages/pyro/infer/mcmc/nuts.py?line=205'>206</a>\u001b[0m     )\n\u001b[1;32m    <a href='file:///opt/homebrew/Caskroom/miniforge/base/envs/astro/lib/python3.8/site-packages/pyro/infer/mcmc/nuts.py?line=206'>207</a>\u001b[0m     r_new_unscaled \u001b[39m=\u001b[39m \u001b[39mself\u001b[39m\u001b[39m.\u001b[39mmass_matrix_adapter\u001b[39m.\u001b[39munscale(r_new)\n\u001b[1;32m    <a href='file:///opt/homebrew/Caskroom/miniforge/base/envs/astro/lib/python3.8/site-packages/pyro/infer/mcmc/nuts.py?line=207'>208</a>\u001b[0m     energy_new \u001b[39m=\u001b[39m potential_energy \u001b[39m+\u001b[39m \u001b[39mself\u001b[39m\u001b[39m.\u001b[39m_kinetic_energy(r_new_unscaled)\n",
      "File \u001b[0;32m/opt/homebrew/Caskroom/miniforge/base/envs/astro/lib/python3.8/site-packages/pyro/ops/integrator.py:39\u001b[0m, in \u001b[0;36mvelocity_verlet\u001b[0;34m(z, r, potential_fn, kinetic_grad, step_size, num_steps, z_grads)\u001b[0m\n\u001b[1;32m     <a href='file:///opt/homebrew/Caskroom/miniforge/base/envs/astro/lib/python3.8/site-packages/pyro/ops/integrator.py?line=36'>37</a>\u001b[0m r_next \u001b[39m=\u001b[39m r\u001b[39m.\u001b[39mcopy()\n\u001b[1;32m     <a href='file:///opt/homebrew/Caskroom/miniforge/base/envs/astro/lib/python3.8/site-packages/pyro/ops/integrator.py?line=37'>38</a>\u001b[0m \u001b[39mfor\u001b[39;00m _ \u001b[39min\u001b[39;00m \u001b[39mrange\u001b[39m(num_steps):\n\u001b[0;32m---> <a href='file:///opt/homebrew/Caskroom/miniforge/base/envs/astro/lib/python3.8/site-packages/pyro/ops/integrator.py?line=38'>39</a>\u001b[0m     z_next, r_next, z_grads, potential_energy \u001b[39m=\u001b[39m _single_step_verlet(\n\u001b[1;32m     <a href='file:///opt/homebrew/Caskroom/miniforge/base/envs/astro/lib/python3.8/site-packages/pyro/ops/integrator.py?line=39'>40</a>\u001b[0m         z_next, r_next, potential_fn, kinetic_grad, step_size, z_grads\n\u001b[1;32m     <a href='file:///opt/homebrew/Caskroom/miniforge/base/envs/astro/lib/python3.8/site-packages/pyro/ops/integrator.py?line=40'>41</a>\u001b[0m     )\n\u001b[1;32m     <a href='file:///opt/homebrew/Caskroom/miniforge/base/envs/astro/lib/python3.8/site-packages/pyro/ops/integrator.py?line=41'>42</a>\u001b[0m \u001b[39mreturn\u001b[39;00m z_next, r_next, z_grads, potential_energy\n",
      "File \u001b[0;32m/opt/homebrew/Caskroom/miniforge/base/envs/astro/lib/python3.8/site-packages/pyro/ops/integrator.py:61\u001b[0m, in \u001b[0;36m_single_step_verlet\u001b[0;34m(z, r, potential_fn, kinetic_grad, step_size, z_grads)\u001b[0m\n\u001b[1;32m     <a href='file:///opt/homebrew/Caskroom/miniforge/base/envs/astro/lib/python3.8/site-packages/pyro/ops/integrator.py?line=57'>58</a>\u001b[0m \u001b[39mfor\u001b[39;00m site_name \u001b[39min\u001b[39;00m z:\n\u001b[1;32m     <a href='file:///opt/homebrew/Caskroom/miniforge/base/envs/astro/lib/python3.8/site-packages/pyro/ops/integrator.py?line=58'>59</a>\u001b[0m     z[site_name] \u001b[39m=\u001b[39m z[site_name] \u001b[39m+\u001b[39m step_size \u001b[39m*\u001b[39m r_grads[site_name]  \u001b[39m# z(n+1)\u001b[39;00m\n\u001b[0;32m---> <a href='file:///opt/homebrew/Caskroom/miniforge/base/envs/astro/lib/python3.8/site-packages/pyro/ops/integrator.py?line=60'>61</a>\u001b[0m z_grads, potential_energy \u001b[39m=\u001b[39m potential_grad(potential_fn, z)\n\u001b[1;32m     <a href='file:///opt/homebrew/Caskroom/miniforge/base/envs/astro/lib/python3.8/site-packages/pyro/ops/integrator.py?line=61'>62</a>\u001b[0m \u001b[39mfor\u001b[39;00m site_name \u001b[39min\u001b[39;00m r:\n\u001b[1;32m     <a href='file:///opt/homebrew/Caskroom/miniforge/base/envs/astro/lib/python3.8/site-packages/pyro/ops/integrator.py?line=62'>63</a>\u001b[0m     r[site_name] \u001b[39m=\u001b[39m r[site_name] \u001b[39m+\u001b[39m \u001b[39m0.5\u001b[39m \u001b[39m*\u001b[39m step_size \u001b[39m*\u001b[39m (\u001b[39m-\u001b[39mz_grads[site_name])  \u001b[39m# r(n+1)\u001b[39;00m\n",
      "File \u001b[0;32m/opt/homebrew/Caskroom/miniforge/base/envs/astro/lib/python3.8/site-packages/pyro/ops/integrator.py:91\u001b[0m, in \u001b[0;36mpotential_grad\u001b[0;34m(potential_fn, z)\u001b[0m\n\u001b[1;32m     <a href='file:///opt/homebrew/Caskroom/miniforge/base/envs/astro/lib/python3.8/site-packages/pyro/ops/integrator.py?line=88'>89</a>\u001b[0m     \u001b[39melse\u001b[39;00m:\n\u001b[1;32m     <a href='file:///opt/homebrew/Caskroom/miniforge/base/envs/astro/lib/python3.8/site-packages/pyro/ops/integrator.py?line=89'>90</a>\u001b[0m         \u001b[39mraise\u001b[39;00m e\n\u001b[0;32m---> <a href='file:///opt/homebrew/Caskroom/miniforge/base/envs/astro/lib/python3.8/site-packages/pyro/ops/integrator.py?line=90'>91</a>\u001b[0m grads \u001b[39m=\u001b[39m grad(potential_energy, z_nodes)\n\u001b[1;32m     <a href='file:///opt/homebrew/Caskroom/miniforge/base/envs/astro/lib/python3.8/site-packages/pyro/ops/integrator.py?line=91'>92</a>\u001b[0m \u001b[39mfor\u001b[39;00m node \u001b[39min\u001b[39;00m z_nodes:\n\u001b[1;32m     <a href='file:///opt/homebrew/Caskroom/miniforge/base/envs/astro/lib/python3.8/site-packages/pyro/ops/integrator.py?line=92'>93</a>\u001b[0m     node\u001b[39m.\u001b[39mrequires_grad_(\u001b[39mFalse\u001b[39;00m)\n",
      "File \u001b[0;32m/opt/homebrew/Caskroom/miniforge/base/envs/astro/lib/python3.8/site-packages/torch/autograd/__init__.py:300\u001b[0m, in \u001b[0;36mgrad\u001b[0;34m(outputs, inputs, grad_outputs, retain_graph, create_graph, only_inputs, allow_unused, is_grads_batched)\u001b[0m\n\u001b[1;32m    <a href='file:///opt/homebrew/Caskroom/miniforge/base/envs/astro/lib/python3.8/site-packages/torch/autograd/__init__.py?line=297'>298</a>\u001b[0m     \u001b[39mreturn\u001b[39;00m _vmap_internals\u001b[39m.\u001b[39m_vmap(vjp, \u001b[39m0\u001b[39m, \u001b[39m0\u001b[39m, allow_none_pass_through\u001b[39m=\u001b[39m\u001b[39mTrue\u001b[39;00m)(grad_outputs_)\n\u001b[1;32m    <a href='file:///opt/homebrew/Caskroom/miniforge/base/envs/astro/lib/python3.8/site-packages/torch/autograd/__init__.py?line=298'>299</a>\u001b[0m \u001b[39melse\u001b[39;00m:\n\u001b[0;32m--> <a href='file:///opt/homebrew/Caskroom/miniforge/base/envs/astro/lib/python3.8/site-packages/torch/autograd/__init__.py?line=299'>300</a>\u001b[0m     \u001b[39mreturn\u001b[39;00m Variable\u001b[39m.\u001b[39;49m_execution_engine\u001b[39m.\u001b[39;49mrun_backward(  \u001b[39m# Calls into the C++ engine to run the backward pass\u001b[39;49;00m\n\u001b[1;32m    <a href='file:///opt/homebrew/Caskroom/miniforge/base/envs/astro/lib/python3.8/site-packages/torch/autograd/__init__.py?line=300'>301</a>\u001b[0m         t_outputs, grad_outputs_, retain_graph, create_graph, t_inputs,\n\u001b[1;32m    <a href='file:///opt/homebrew/Caskroom/miniforge/base/envs/astro/lib/python3.8/site-packages/torch/autograd/__init__.py?line=301'>302</a>\u001b[0m         allow_unused, accumulate_grad\u001b[39m=\u001b[39;49m\u001b[39mFalse\u001b[39;49;00m)\n",
      "\u001b[0;31mKeyboardInterrupt\u001b[0m: "
     ]
    }
   ],
   "source": []
  },
  {
   "cell_type": "code",
   "execution_count": null,
   "metadata": {},
   "outputs": [
    {
     "data": {
      "application/vnd.jupyter.widget-view+json": {
       "model_id": "9bad929d951149de954207fe210ea5e2",
       "version_major": 2,
       "version_minor": 0
      },
      "text/plain": [
       "  0%|          | 0/1000 [00:00<?, ?it/s]"
      ]
     },
     "metadata": {},
     "output_type": "display_data"
    },
    {
     "ename": "KeyboardInterrupt",
     "evalue": "",
     "output_type": "error",
     "traceback": [
      "\u001b[0;31m---------------------------------------------------------------------------\u001b[0m",
      "\u001b[0;31mKeyboardInterrupt\u001b[0m                         Traceback (most recent call last)",
      "Cell \u001b[0;32mIn[4], line 5\u001b[0m\n\u001b[1;32m      2\u001b[0m progress_bar \u001b[38;5;241m=\u001b[39m trange(num_epochs)\n\u001b[1;32m      4\u001b[0m \u001b[38;5;28;01mfor\u001b[39;00m epoch \u001b[38;5;129;01min\u001b[39;00m progress_bar:\n\u001b[0;32m----> 5\u001b[0m     loss \u001b[38;5;241m=\u001b[39m \u001b[43msvi\u001b[49m\u001b[38;5;241;43m.\u001b[39;49m\u001b[43mstep\u001b[49m\u001b[43m(\u001b[49m\u001b[43mx_train\u001b[49m\u001b[43m[\u001b[49m\u001b[38;5;241;43m0\u001b[39;49m\u001b[43m:\u001b[49m\u001b[38;5;241;43m1\u001b[39;49m\u001b[43m]\u001b[49m\u001b[43m)\u001b[49m\n\u001b[1;32m      6\u001b[0m     progress_bar\u001b[38;5;241m.\u001b[39mset_postfix(loss\u001b[38;5;241m=\u001b[39m\u001b[38;5;124mf\u001b[39m\u001b[38;5;124m\"\u001b[39m\u001b[38;5;132;01m{\u001b[39;00mloss\u001b[38;5;250m \u001b[39m\u001b[38;5;241m/\u001b[39m\u001b[38;5;250m \u001b[39mx_train\u001b[38;5;241m.\u001b[39mshape[\u001b[38;5;241m0\u001b[39m]\u001b[38;5;132;01m:\u001b[39;00m\u001b[38;5;124m.3f\u001b[39m\u001b[38;5;132;01m}\u001b[39;00m\u001b[38;5;124m\"\u001b[39m)\n\u001b[1;32m      7\u001b[0m \u001b[38;5;28;01mfrom\u001b[39;00m \u001b[38;5;21;01mpyro\u001b[39;00m\u001b[38;5;21;01m.\u001b[39;00m\u001b[38;5;21;01minfer\u001b[39;00m \u001b[38;5;28;01mimport\u001b[39;00m Predictive\n",
      "File \u001b[0;32m/opt/homebrew/Caskroom/miniforge/base/envs/astro/lib/python3.8/site-packages/pyro/infer/svi.py:145\u001b[0m, in \u001b[0;36mSVI.step\u001b[0;34m(self, *args, **kwargs)\u001b[0m\n\u001b[1;32m    <a href='file:///opt/homebrew/Caskroom/miniforge/base/envs/astro/lib/python3.8/site-packages/pyro/infer/svi.py?line=142'>143</a>\u001b[0m \u001b[39m# get loss and compute gradients\u001b[39;00m\n\u001b[1;32m    <a href='file:///opt/homebrew/Caskroom/miniforge/base/envs/astro/lib/python3.8/site-packages/pyro/infer/svi.py?line=143'>144</a>\u001b[0m \u001b[39mwith\u001b[39;00m poutine\u001b[39m.\u001b[39mtrace(param_only\u001b[39m=\u001b[39m\u001b[39mTrue\u001b[39;00m) \u001b[39mas\u001b[39;00m param_capture:\n\u001b[0;32m--> <a href='file:///opt/homebrew/Caskroom/miniforge/base/envs/astro/lib/python3.8/site-packages/pyro/infer/svi.py?line=144'>145</a>\u001b[0m     loss \u001b[39m=\u001b[39m \u001b[39mself\u001b[39;49m\u001b[39m.\u001b[39;49mloss_and_grads(\u001b[39mself\u001b[39;49m\u001b[39m.\u001b[39;49mmodel, \u001b[39mself\u001b[39;49m\u001b[39m.\u001b[39;49mguide, \u001b[39m*\u001b[39;49margs, \u001b[39m*\u001b[39;49m\u001b[39m*\u001b[39;49mkwargs)\n\u001b[1;32m    <a href='file:///opt/homebrew/Caskroom/miniforge/base/envs/astro/lib/python3.8/site-packages/pyro/infer/svi.py?line=146'>147</a>\u001b[0m params \u001b[39m=\u001b[39m \u001b[39mset\u001b[39m(\n\u001b[1;32m    <a href='file:///opt/homebrew/Caskroom/miniforge/base/envs/astro/lib/python3.8/site-packages/pyro/infer/svi.py?line=147'>148</a>\u001b[0m     site[\u001b[39m\"\u001b[39m\u001b[39mvalue\u001b[39m\u001b[39m\"\u001b[39m]\u001b[39m.\u001b[39munconstrained() \u001b[39mfor\u001b[39;00m site \u001b[39min\u001b[39;00m param_capture\u001b[39m.\u001b[39mtrace\u001b[39m.\u001b[39mnodes\u001b[39m.\u001b[39mvalues()\n\u001b[1;32m    <a href='file:///opt/homebrew/Caskroom/miniforge/base/envs/astro/lib/python3.8/site-packages/pyro/infer/svi.py?line=148'>149</a>\u001b[0m )\n\u001b[1;32m    <a href='file:///opt/homebrew/Caskroom/miniforge/base/envs/astro/lib/python3.8/site-packages/pyro/infer/svi.py?line=150'>151</a>\u001b[0m \u001b[39m# actually perform gradient steps\u001b[39;00m\n\u001b[1;32m    <a href='file:///opt/homebrew/Caskroom/miniforge/base/envs/astro/lib/python3.8/site-packages/pyro/infer/svi.py?line=151'>152</a>\u001b[0m \u001b[39m# torch.optim objects gets instantiated for any params that haven't been seen yet\u001b[39;00m\n",
      "File \u001b[0;32m/opt/homebrew/Caskroom/miniforge/base/envs/astro/lib/python3.8/site-packages/pyro/infer/trace_elbo.py:157\u001b[0m, in \u001b[0;36mTrace_ELBO.loss_and_grads\u001b[0;34m(self, model, guide, *args, **kwargs)\u001b[0m\n\u001b[1;32m    <a href='file:///opt/homebrew/Caskroom/miniforge/base/envs/astro/lib/python3.8/site-packages/pyro/infer/trace_elbo.py?line=152'>153</a>\u001b[0m     \u001b[39mif\u001b[39;00m trainable_params \u001b[39mand\u001b[39;00m \u001b[39mgetattr\u001b[39m(\n\u001b[1;32m    <a href='file:///opt/homebrew/Caskroom/miniforge/base/envs/astro/lib/python3.8/site-packages/pyro/infer/trace_elbo.py?line=153'>154</a>\u001b[0m         surrogate_loss_particle, \u001b[39m\"\u001b[39m\u001b[39mrequires_grad\u001b[39m\u001b[39m\"\u001b[39m, \u001b[39mFalse\u001b[39;00m\n\u001b[1;32m    <a href='file:///opt/homebrew/Caskroom/miniforge/base/envs/astro/lib/python3.8/site-packages/pyro/infer/trace_elbo.py?line=154'>155</a>\u001b[0m     ):\n\u001b[1;32m    <a href='file:///opt/homebrew/Caskroom/miniforge/base/envs/astro/lib/python3.8/site-packages/pyro/infer/trace_elbo.py?line=155'>156</a>\u001b[0m         surrogate_loss_particle \u001b[39m=\u001b[39m surrogate_loss_particle \u001b[39m/\u001b[39m \u001b[39mself\u001b[39m\u001b[39m.\u001b[39mnum_particles\n\u001b[0;32m--> <a href='file:///opt/homebrew/Caskroom/miniforge/base/envs/astro/lib/python3.8/site-packages/pyro/infer/trace_elbo.py?line=156'>157</a>\u001b[0m         surrogate_loss_particle\u001b[39m.\u001b[39;49mbackward(retain_graph\u001b[39m=\u001b[39;49m\u001b[39mself\u001b[39;49m\u001b[39m.\u001b[39;49mretain_graph)\n\u001b[1;32m    <a href='file:///opt/homebrew/Caskroom/miniforge/base/envs/astro/lib/python3.8/site-packages/pyro/infer/trace_elbo.py?line=157'>158</a>\u001b[0m warn_if_nan(loss, \u001b[39m\"\u001b[39m\u001b[39mloss\u001b[39m\u001b[39m\"\u001b[39m)\n\u001b[1;32m    <a href='file:///opt/homebrew/Caskroom/miniforge/base/envs/astro/lib/python3.8/site-packages/pyro/infer/trace_elbo.py?line=158'>159</a>\u001b[0m \u001b[39mreturn\u001b[39;00m loss\n",
      "File \u001b[0;32m/opt/homebrew/Caskroom/miniforge/base/envs/astro/lib/python3.8/site-packages/torch/_tensor.py:488\u001b[0m, in \u001b[0;36mTensor.backward\u001b[0;34m(self, gradient, retain_graph, create_graph, inputs)\u001b[0m\n\u001b[1;32m    <a href='file:///opt/homebrew/Caskroom/miniforge/base/envs/astro/lib/python3.8/site-packages/torch/_tensor.py?line=477'>478</a>\u001b[0m \u001b[39mif\u001b[39;00m has_torch_function_unary(\u001b[39mself\u001b[39m):\n\u001b[1;32m    <a href='file:///opt/homebrew/Caskroom/miniforge/base/envs/astro/lib/python3.8/site-packages/torch/_tensor.py?line=478'>479</a>\u001b[0m     \u001b[39mreturn\u001b[39;00m handle_torch_function(\n\u001b[1;32m    <a href='file:///opt/homebrew/Caskroom/miniforge/base/envs/astro/lib/python3.8/site-packages/torch/_tensor.py?line=479'>480</a>\u001b[0m         Tensor\u001b[39m.\u001b[39mbackward,\n\u001b[1;32m    <a href='file:///opt/homebrew/Caskroom/miniforge/base/envs/astro/lib/python3.8/site-packages/torch/_tensor.py?line=480'>481</a>\u001b[0m         (\u001b[39mself\u001b[39m,),\n\u001b[0;32m   (...)\u001b[0m\n\u001b[1;32m    <a href='file:///opt/homebrew/Caskroom/miniforge/base/envs/astro/lib/python3.8/site-packages/torch/_tensor.py?line=485'>486</a>\u001b[0m         inputs\u001b[39m=\u001b[39minputs,\n\u001b[1;32m    <a href='file:///opt/homebrew/Caskroom/miniforge/base/envs/astro/lib/python3.8/site-packages/torch/_tensor.py?line=486'>487</a>\u001b[0m     )\n\u001b[0;32m--> <a href='file:///opt/homebrew/Caskroom/miniforge/base/envs/astro/lib/python3.8/site-packages/torch/_tensor.py?line=487'>488</a>\u001b[0m torch\u001b[39m.\u001b[39;49mautograd\u001b[39m.\u001b[39;49mbackward(\n\u001b[1;32m    <a href='file:///opt/homebrew/Caskroom/miniforge/base/envs/astro/lib/python3.8/site-packages/torch/_tensor.py?line=488'>489</a>\u001b[0m     \u001b[39mself\u001b[39;49m, gradient, retain_graph, create_graph, inputs\u001b[39m=\u001b[39;49minputs\n\u001b[1;32m    <a href='file:///opt/homebrew/Caskroom/miniforge/base/envs/astro/lib/python3.8/site-packages/torch/_tensor.py?line=489'>490</a>\u001b[0m )\n",
      "File \u001b[0;32m/opt/homebrew/Caskroom/miniforge/base/envs/astro/lib/python3.8/site-packages/torch/autograd/__init__.py:197\u001b[0m, in \u001b[0;36mbackward\u001b[0;34m(tensors, grad_tensors, retain_graph, create_graph, grad_variables, inputs)\u001b[0m\n\u001b[1;32m    <a href='file:///opt/homebrew/Caskroom/miniforge/base/envs/astro/lib/python3.8/site-packages/torch/autograd/__init__.py?line=191'>192</a>\u001b[0m     retain_graph \u001b[39m=\u001b[39m create_graph\n\u001b[1;32m    <a href='file:///opt/homebrew/Caskroom/miniforge/base/envs/astro/lib/python3.8/site-packages/torch/autograd/__init__.py?line=193'>194</a>\u001b[0m \u001b[39m# The reason we repeat same the comment below is that\u001b[39;00m\n\u001b[1;32m    <a href='file:///opt/homebrew/Caskroom/miniforge/base/envs/astro/lib/python3.8/site-packages/torch/autograd/__init__.py?line=194'>195</a>\u001b[0m \u001b[39m# some Python versions print out the first line of a multi-line function\u001b[39;00m\n\u001b[1;32m    <a href='file:///opt/homebrew/Caskroom/miniforge/base/envs/astro/lib/python3.8/site-packages/torch/autograd/__init__.py?line=195'>196</a>\u001b[0m \u001b[39m# calls in the traceback and some print out the last line\u001b[39;00m\n\u001b[0;32m--> <a href='file:///opt/homebrew/Caskroom/miniforge/base/envs/astro/lib/python3.8/site-packages/torch/autograd/__init__.py?line=196'>197</a>\u001b[0m Variable\u001b[39m.\u001b[39;49m_execution_engine\u001b[39m.\u001b[39;49mrun_backward(  \u001b[39m# Calls into the C++ engine to run the backward pass\u001b[39;49;00m\n\u001b[1;32m    <a href='file:///opt/homebrew/Caskroom/miniforge/base/envs/astro/lib/python3.8/site-packages/torch/autograd/__init__.py?line=197'>198</a>\u001b[0m     tensors, grad_tensors_, retain_graph, create_graph, inputs,\n\u001b[1;32m    <a href='file:///opt/homebrew/Caskroom/miniforge/base/envs/astro/lib/python3.8/site-packages/torch/autograd/__init__.py?line=198'>199</a>\u001b[0m     allow_unreachable\u001b[39m=\u001b[39;49m\u001b[39mTrue\u001b[39;49;00m, accumulate_grad\u001b[39m=\u001b[39;49m\u001b[39mTrue\u001b[39;49;00m)\n",
      "\u001b[0;31mKeyboardInterrupt\u001b[0m: "
     ]
    }
   ],
   "source": []
  },
  {
   "cell_type": "code",
   "execution_count": null,
   "metadata": {},
   "outputs": [],
   "source": [
    "from pyro.infer import Predictive\n",
    "predictive = Predictive(model, guide=guide, num_samples=10)\n",
    "preds = predictive(x_train)\n",
    "\n"
   ]
  },
  {
   "cell_type": "code",
   "execution_count": null,
   "metadata": {},
   "outputs": [
    {
     "data": {
      "text/plain": [
       "tensor([-5.8063e-05, -1.0093e-02, -1.2688e-02,  ...,  3.3000e-02,\n",
       "         3.4696e-02, -3.5208e-02], dtype=torch.float64)"
      ]
     },
     "execution_count": 4,
     "metadata": {},
     "output_type": "execute_result"
    }
   ],
   "source": [
    "preds['av'].mean(0)"
   ]
  },
  {
   "cell_type": "code",
   "execution_count": null,
   "metadata": {},
   "outputs": [
    {
     "data": {
      "text/plain": [
       "<matplotlib.collections.PathCollection at 0x167fd7b50>"
      ]
     },
     "execution_count": 5,
     "metadata": {},
     "output_type": "execute_result"
    },
    {
     "data": {
      "image/png": "[encoded data removed]",
      "text/plain": [
       "<Figure size 640x480 with 1 Axes>"
      ]
     },
     "metadata": {},
     "output_type": "display_data"
    }
   ],
   "source": [
    "plt.scatter(x_train.detach().numpy()[:,0],preds['av'].mean(0).detach().numpy())"
   ]
  },
  {
   "cell_type": "code",
   "execution_count": null,
   "metadata": {},
   "outputs": [],
   "source": [
    "\n",
    "\n",
    "z=preds['z_i'].mean(0).double()\n",
    "for flow in model.normalising_flow.flows:\n",
    "    z, log_det = flow(z)"
   ]
  },
  {
   "cell_type": "code",
   "execution_count": null,
   "metadata": {},
   "outputs": [
    {
     "data": {
      "text/plain": [
       "tensor([[-2.0812,  3.0549, -0.5175,  ...,  0.8486,  0.9950,  1.1160],\n",
       "        [-3.4870,  3.5785, -0.6765,  ...,  1.0805,  1.1638,  1.3368],\n",
       "        [ 1.1497, -0.9074,  0.1776,  ..., -0.3147, -0.4494, -0.5574],\n",
       "        ...,\n",
       "        [-1.9443,  3.9951, -0.6452,  ...,  1.0738,  1.0561,  1.3921],\n",
       "        [ 0.6913,  0.1929,  0.0589,  ..., -0.0479, -0.0936, -0.1746],\n",
       "        [-1.2348,  3.5090, -0.8488,  ...,  1.1742,  1.3856,  1.5206]],\n",
       "       dtype=torch.float64)"
      ]
     },
     "execution_count": 7,
     "metadata": {},
     "output_type": "execute_result"
    }
   ],
   "source": [
    "(preds['obs'].mean(0))"
   ]
  },
  {
   "cell_type": "code",
   "execution_count": null,
   "metadata": {},
   "outputs": [
    {
     "data": {
      "text/plain": [
       "tensor([[-2.0812,  3.0549, -0.5175,  ...,  0.8486,  0.9950,  1.1160],\n",
       "        [-3.4870,  3.5785, -0.6765,  ...,  1.0805,  1.1638,  1.3368],\n",
       "        [ 1.1497, -0.9074,  0.1776,  ..., -0.3147, -0.4494, -0.5574],\n",
       "        ...,\n",
       "        [-1.9443,  3.9951, -0.6452,  ...,  1.0738,  1.0561,  1.3921],\n",
       "        [ 0.6913,  0.1929,  0.0589,  ..., -0.0479, -0.0936, -0.1746],\n",
       "        [-1.2348,  3.5090, -0.8488,  ...,  1.1742,  1.3856,  1.5206]],\n",
       "       dtype=torch.float64)"
      ]
     },
     "execution_count": 8,
     "metadata": {},
     "output_type": "execute_result"
    }
   ],
   "source": [
    "x_train"
   ]
  },
  {
   "cell_type": "code",
   "execution_count": null,
   "metadata": {},
   "outputs": [
    {
     "name": "stdout",
     "output_type": "stream",
     "text": [
      "<built-in method type of Tensor object at 0x10f4a8e50>\n",
      "<built-in method type of Tensor object at 0x10f4a8e50>\n",
      "<built-in method type of Tensor object at 0x16b7115e0>\n"
     ]
    },
    {
     "data": {
      "text/plain": [
       "{'z_i': tensor([[[ 0.1293,  0.4631,  0.1533,  ..., -0.0764,  0.2722, -0.3219],\n",
       "          [ 0.0699,  0.2528, -0.0322,  ..., -0.1307,  0.1172,  0.0568],\n",
       "          [-0.2727, -0.0281, -0.2400,  ...,  0.3761, -0.3767,  0.2144],\n",
       "          ...,\n",
       "          [ 0.2049,  0.2104,  0.1045,  ..., -0.4332,  0.1669, -0.1399],\n",
       "          [-0.2090, -0.0676, -0.2290,  ...,  0.0507, -0.1737,  0.1037],\n",
       "          [ 0.2505,  0.2029,  0.3163,  ..., -0.0710,  0.2389, -0.2051]]]),\n",
       " 'obs': tensor([[[-2.0812,  3.0549, -0.5175,  ...,  0.8486,  0.9950,  1.1160],\n",
       "          [-3.4870,  3.5785, -0.6765,  ...,  1.0805,  1.1638,  1.3368],\n",
       "          [ 1.1497, -0.9074,  0.1776,  ..., -0.3147, -0.4494, -0.5574],\n",
       "          ...,\n",
       "          [-1.9443,  3.9951, -0.6452,  ...,  1.0738,  1.0561,  1.3921],\n",
       "          [ 0.6913,  0.1929,  0.0589,  ..., -0.0479, -0.0936, -0.1746],\n",
       "          [-1.2348,  3.5090, -0.8488,  ...,  1.1742,  1.3856,  1.5206]]],\n",
       "        dtype=torch.float64)}"
      ]
     },
     "execution_count": 16,
     "metadata": {},
     "output_type": "execute_result"
    }
   ],
   "source": [
    "predictive(x_train.double())"
   ]
  },
  {
   "cell_type": "code",
   "execution_count": null,
   "metadata": {},
   "outputs": [
    {
     "ename": "RuntimeError",
     "evalue": "t() expects a tensor with <= 2 dimensions, but self is 3D\n       Trace Shapes:         \n        Param Sites:         \n       Sample Sites:         \nlayers.0.weight dist   | 10 1\n               value 1 | 10 1\n  layers.0.bias dist   | 10  \n               value 1 | 10  ",
     "output_type": "error",
     "traceback": [
      "\u001b[0;31m---------------------------------------------------------------------------\u001b[0m",
      "\u001b[0;31mRuntimeError\u001b[0m                              Traceback (most recent call last)",
      "File \u001b[0;32m/opt/homebrew/Caskroom/miniforge/base/envs/astro/lib/python3.8/site-packages/pyro/poutine/trace_messenger.py:174\u001b[0m, in \u001b[0;36mTraceHandler.__call__\u001b[0;34m(self, *args, **kwargs)\u001b[0m\n\u001b[1;32m    <a href='file:///opt/homebrew/Caskroom/miniforge/base/envs/astro/lib/python3.8/site-packages/pyro/poutine/trace_messenger.py?line=172'>173</a>\u001b[0m \u001b[39mtry\u001b[39;00m:\n\u001b[0;32m--> <a href='file:///opt/homebrew/Caskroom/miniforge/base/envs/astro/lib/python3.8/site-packages/pyro/poutine/trace_messenger.py?line=173'>174</a>\u001b[0m     ret \u001b[39m=\u001b[39m \u001b[39mself\u001b[39;49m\u001b[39m.\u001b[39;49mfn(\u001b[39m*\u001b[39;49margs, \u001b[39m*\u001b[39;49m\u001b[39m*\u001b[39;49mkwargs)\n\u001b[1;32m    <a href='file:///opt/homebrew/Caskroom/miniforge/base/envs/astro/lib/python3.8/site-packages/pyro/poutine/trace_messenger.py?line=174'>175</a>\u001b[0m \u001b[39mexcept\u001b[39;00m (\u001b[39mValueError\u001b[39;00m, \u001b[39mRuntimeError\u001b[39;00m) \u001b[39mas\u001b[39;00m e:\n",
      "File \u001b[0;32m/opt/homebrew/Caskroom/miniforge/base/envs/astro/lib/python3.8/site-packages/pyro/poutine/messenger.py:12\u001b[0m, in \u001b[0;36m_context_wrap\u001b[0;34m(context, fn, *args, **kwargs)\u001b[0m\n\u001b[1;32m     <a href='file:///opt/homebrew/Caskroom/miniforge/base/envs/astro/lib/python3.8/site-packages/pyro/poutine/messenger.py?line=10'>11</a>\u001b[0m \u001b[39mwith\u001b[39;00m context:\n\u001b[0;32m---> <a href='file:///opt/homebrew/Caskroom/miniforge/base/envs/astro/lib/python3.8/site-packages/pyro/poutine/messenger.py?line=11'>12</a>\u001b[0m     \u001b[39mreturn\u001b[39;00m fn(\u001b[39m*\u001b[39;49margs, \u001b[39m*\u001b[39;49m\u001b[39m*\u001b[39;49mkwargs)\n",
      "File \u001b[0;32m/opt/homebrew/Caskroom/miniforge/base/envs/astro/lib/python3.8/site-packages/torch/autograd/grad_mode.py:27\u001b[0m, in \u001b[0;36m_DecoratorContextManager.__call__.<locals>.decorate_context\u001b[0;34m(*args, **kwargs)\u001b[0m\n\u001b[1;32m     <a href='file:///opt/homebrew/Caskroom/miniforge/base/envs/astro/lib/python3.8/site-packages/torch/autograd/grad_mode.py?line=25'>26</a>\u001b[0m \u001b[39mwith\u001b[39;00m \u001b[39mself\u001b[39m\u001b[39m.\u001b[39mclone():\n\u001b[0;32m---> <a href='file:///opt/homebrew/Caskroom/miniforge/base/envs/astro/lib/python3.8/site-packages/torch/autograd/grad_mode.py?line=26'>27</a>\u001b[0m     \u001b[39mreturn\u001b[39;00m func(\u001b[39m*\u001b[39;49margs, \u001b[39m*\u001b[39;49m\u001b[39m*\u001b[39;49mkwargs)\n",
      "File \u001b[0;32m/opt/homebrew/Caskroom/miniforge/base/envs/astro/lib/python3.8/site-packages/pyro/poutine/messenger.py:12\u001b[0m, in \u001b[0;36m_context_wrap\u001b[0;34m(context, fn, *args, **kwargs)\u001b[0m\n\u001b[1;32m     <a href='file:///opt/homebrew/Caskroom/miniforge/base/envs/astro/lib/python3.8/site-packages/pyro/poutine/messenger.py?line=10'>11</a>\u001b[0m \u001b[39mwith\u001b[39;00m context:\n\u001b[0;32m---> <a href='file:///opt/homebrew/Caskroom/miniforge/base/envs/astro/lib/python3.8/site-packages/pyro/poutine/messenger.py?line=11'>12</a>\u001b[0m     \u001b[39mreturn\u001b[39;00m fn(\u001b[39m*\u001b[39;49margs, \u001b[39m*\u001b[39;49m\u001b[39m*\u001b[39;49mkwargs)\n",
      "File \u001b[0;32m/opt/homebrew/Caskroom/miniforge/base/envs/astro/lib/python3.8/site-packages/pyro/nn/module.py:448\u001b[0m, in \u001b[0;36mPyroModule.__call__\u001b[0;34m(self, *args, **kwargs)\u001b[0m\n\u001b[1;32m    <a href='file:///opt/homebrew/Caskroom/miniforge/base/envs/astro/lib/python3.8/site-packages/pyro/nn/module.py?line=446'>447</a>\u001b[0m \u001b[39mwith\u001b[39;00m \u001b[39mself\u001b[39m\u001b[39m.\u001b[39m_pyro_context:\n\u001b[0;32m--> <a href='file:///opt/homebrew/Caskroom/miniforge/base/envs/astro/lib/python3.8/site-packages/pyro/nn/module.py?line=447'>448</a>\u001b[0m     result \u001b[39m=\u001b[39m \u001b[39msuper\u001b[39;49m()\u001b[39m.\u001b[39;49m\u001b[39m__call__\u001b[39;49m(\u001b[39m*\u001b[39;49margs, \u001b[39m*\u001b[39;49m\u001b[39m*\u001b[39;49mkwargs)\n\u001b[1;32m    <a href='file:///opt/homebrew/Caskroom/miniforge/base/envs/astro/lib/python3.8/site-packages/pyro/nn/module.py?line=448'>449</a>\u001b[0m \u001b[39mif\u001b[39;00m (\n\u001b[1;32m    <a href='file:///opt/homebrew/Caskroom/miniforge/base/envs/astro/lib/python3.8/site-packages/pyro/nn/module.py?line=449'>450</a>\u001b[0m     pyro\u001b[39m.\u001b[39msettings\u001b[39m.\u001b[39mget(\u001b[39m\"\u001b[39m\u001b[39mvalidate_poutine\u001b[39m\u001b[39m\"\u001b[39m)\n\u001b[1;32m    <a href='file:///opt/homebrew/Caskroom/miniforge/base/envs/astro/lib/python3.8/site-packages/pyro/nn/module.py?line=450'>451</a>\u001b[0m     \u001b[39mand\u001b[39;00m \u001b[39mnot\u001b[39;00m \u001b[39mself\u001b[39m\u001b[39m.\u001b[39m_pyro_context\u001b[39m.\u001b[39mactive\n\u001b[1;32m    <a href='file:///opt/homebrew/Caskroom/miniforge/base/envs/astro/lib/python3.8/site-packages/pyro/nn/module.py?line=451'>452</a>\u001b[0m     \u001b[39mand\u001b[39;00m _is_module_local_param_enabled()\n\u001b[1;32m    <a href='file:///opt/homebrew/Caskroom/miniforge/base/envs/astro/lib/python3.8/site-packages/pyro/nn/module.py?line=452'>453</a>\u001b[0m ):\n",
      "File \u001b[0;32m/opt/homebrew/Caskroom/miniforge/base/envs/astro/lib/python3.8/site-packages/torch/nn/modules/module.py:1357\u001b[0m, in \u001b[0;36mModule._call_impl\u001b[0;34m(self, *input, **kwargs)\u001b[0m\n\u001b[1;32m   <a href='file:///opt/homebrew/Caskroom/miniforge/base/envs/astro/lib/python3.8/site-packages/torch/nn/modules/module.py?line=1353'>1354</a>\u001b[0m \u001b[39mif\u001b[39;00m \u001b[39mnot\u001b[39;00m (\u001b[39mself\u001b[39m\u001b[39m.\u001b[39m_backward_hooks \u001b[39mor\u001b[39;00m \u001b[39mself\u001b[39m\u001b[39m.\u001b[39m_backward_pre_hooks \u001b[39mor\u001b[39;00m \u001b[39mself\u001b[39m\u001b[39m.\u001b[39m_forward_hooks \u001b[39mor\u001b[39;00m \u001b[39mself\u001b[39m\u001b[39m.\u001b[39m_forward_pre_hooks\n\u001b[1;32m   <a href='file:///opt/homebrew/Caskroom/miniforge/base/envs/astro/lib/python3.8/site-packages/torch/nn/modules/module.py?line=1354'>1355</a>\u001b[0m         \u001b[39mor\u001b[39;00m _global_backward_pre_hooks \u001b[39mor\u001b[39;00m _global_backward_hooks\n\u001b[1;32m   <a href='file:///opt/homebrew/Caskroom/miniforge/base/envs/astro/lib/python3.8/site-packages/torch/nn/modules/module.py?line=1355'>1356</a>\u001b[0m         \u001b[39mor\u001b[39;00m _global_forward_hooks \u001b[39mor\u001b[39;00m _global_forward_pre_hooks):\n\u001b[0;32m-> <a href='file:///opt/homebrew/Caskroom/miniforge/base/envs/astro/lib/python3.8/site-packages/torch/nn/modules/module.py?line=1356'>1357</a>\u001b[0m     \u001b[39mreturn\u001b[39;00m forward_call(\u001b[39m*\u001b[39;49m\u001b[39minput\u001b[39;49m, \u001b[39m*\u001b[39;49m\u001b[39m*\u001b[39;49mkwargs)\n\u001b[1;32m   <a href='file:///opt/homebrew/Caskroom/miniforge/base/envs/astro/lib/python3.8/site-packages/torch/nn/modules/module.py?line=1357'>1358</a>\u001b[0m \u001b[39m# Do not call functions when jit is used\u001b[39;00m\n",
      "File \u001b[0;32m~/XPNorm/src/Extinction_map.py:237\u001b[0m, in \u001b[0;36mBNN_Extinction.forward\u001b[0;34m(self, x)\u001b[0m\n\u001b[1;32m    <a href='file:///Users/mattocallaghan/XPNorm/src/Extinction_map.py?line=235'>236</a>\u001b[0m d \u001b[39m=\u001b[39m x[:,\u001b[39m0\u001b[39m]\u001b[39m.\u001b[39mreshape(\u001b[39m-\u001b[39m\u001b[39m1\u001b[39m, \u001b[39m1\u001b[39m)\n\u001b[0;32m--> <a href='file:///Users/mattocallaghan/XPNorm/src/Extinction_map.py?line=236'>237</a>\u001b[0m ebv \u001b[39m=\u001b[39m torch\u001b[39m.\u001b[39mrelu(\u001b[39mself\u001b[39;49m\u001b[39m.\u001b[39;49mlayers[\u001b[39m0\u001b[39;49m](d))  \u001b[39m# input --> hidden\u001b[39;00m\n\u001b[1;32m    <a href='file:///Users/mattocallaghan/XPNorm/src/Extinction_map.py?line=237'>238</a>\u001b[0m ebv \u001b[39m=\u001b[39m torch\u001b[39m.\u001b[39mrelu(\u001b[39mself\u001b[39m\u001b[39m.\u001b[39mlayers[\u001b[39m1\u001b[39m](ebv))\n",
      "File \u001b[0;32m/opt/homebrew/Caskroom/miniforge/base/envs/astro/lib/python3.8/site-packages/pyro/nn/module.py:448\u001b[0m, in \u001b[0;36mPyroModule.__call__\u001b[0;34m(self, *args, **kwargs)\u001b[0m\n\u001b[1;32m    <a href='file:///opt/homebrew/Caskroom/miniforge/base/envs/astro/lib/python3.8/site-packages/pyro/nn/module.py?line=446'>447</a>\u001b[0m \u001b[39mwith\u001b[39;00m \u001b[39mself\u001b[39m\u001b[39m.\u001b[39m_pyro_context:\n\u001b[0;32m--> <a href='file:///opt/homebrew/Caskroom/miniforge/base/envs/astro/lib/python3.8/site-packages/pyro/nn/module.py?line=447'>448</a>\u001b[0m     result \u001b[39m=\u001b[39m \u001b[39msuper\u001b[39;49m()\u001b[39m.\u001b[39;49m\u001b[39m__call__\u001b[39;49m(\u001b[39m*\u001b[39;49margs, \u001b[39m*\u001b[39;49m\u001b[39m*\u001b[39;49mkwargs)\n\u001b[1;32m    <a href='file:///opt/homebrew/Caskroom/miniforge/base/envs/astro/lib/python3.8/site-packages/pyro/nn/module.py?line=448'>449</a>\u001b[0m \u001b[39mif\u001b[39;00m (\n\u001b[1;32m    <a href='file:///opt/homebrew/Caskroom/miniforge/base/envs/astro/lib/python3.8/site-packages/pyro/nn/module.py?line=449'>450</a>\u001b[0m     pyro\u001b[39m.\u001b[39msettings\u001b[39m.\u001b[39mget(\u001b[39m\"\u001b[39m\u001b[39mvalidate_poutine\u001b[39m\u001b[39m\"\u001b[39m)\n\u001b[1;32m    <a href='file:///opt/homebrew/Caskroom/miniforge/base/envs/astro/lib/python3.8/site-packages/pyro/nn/module.py?line=450'>451</a>\u001b[0m     \u001b[39mand\u001b[39;00m \u001b[39mnot\u001b[39;00m \u001b[39mself\u001b[39m\u001b[39m.\u001b[39m_pyro_context\u001b[39m.\u001b[39mactive\n\u001b[1;32m    <a href='file:///opt/homebrew/Caskroom/miniforge/base/envs/astro/lib/python3.8/site-packages/pyro/nn/module.py?line=451'>452</a>\u001b[0m     \u001b[39mand\u001b[39;00m _is_module_local_param_enabled()\n\u001b[1;32m    <a href='file:///opt/homebrew/Caskroom/miniforge/base/envs/astro/lib/python3.8/site-packages/pyro/nn/module.py?line=452'>453</a>\u001b[0m ):\n",
      "File \u001b[0;32m/opt/homebrew/Caskroom/miniforge/base/envs/astro/lib/python3.8/site-packages/torch/nn/modules/module.py:1357\u001b[0m, in \u001b[0;36mModule._call_impl\u001b[0;34m(self, *input, **kwargs)\u001b[0m\n\u001b[1;32m   <a href='file:///opt/homebrew/Caskroom/miniforge/base/envs/astro/lib/python3.8/site-packages/torch/nn/modules/module.py?line=1353'>1354</a>\u001b[0m \u001b[39mif\u001b[39;00m \u001b[39mnot\u001b[39;00m (\u001b[39mself\u001b[39m\u001b[39m.\u001b[39m_backward_hooks \u001b[39mor\u001b[39;00m \u001b[39mself\u001b[39m\u001b[39m.\u001b[39m_backward_pre_hooks \u001b[39mor\u001b[39;00m \u001b[39mself\u001b[39m\u001b[39m.\u001b[39m_forward_hooks \u001b[39mor\u001b[39;00m \u001b[39mself\u001b[39m\u001b[39m.\u001b[39m_forward_pre_hooks\n\u001b[1;32m   <a href='file:///opt/homebrew/Caskroom/miniforge/base/envs/astro/lib/python3.8/site-packages/torch/nn/modules/module.py?line=1354'>1355</a>\u001b[0m         \u001b[39mor\u001b[39;00m _global_backward_pre_hooks \u001b[39mor\u001b[39;00m _global_backward_hooks\n\u001b[1;32m   <a href='file:///opt/homebrew/Caskroom/miniforge/base/envs/astro/lib/python3.8/site-packages/torch/nn/modules/module.py?line=1355'>1356</a>\u001b[0m         \u001b[39mor\u001b[39;00m _global_forward_hooks \u001b[39mor\u001b[39;00m _global_forward_pre_hooks):\n\u001b[0;32m-> <a href='file:///opt/homebrew/Caskroom/miniforge/base/envs/astro/lib/python3.8/site-packages/torch/nn/modules/module.py?line=1356'>1357</a>\u001b[0m     \u001b[39mreturn\u001b[39;00m forward_call(\u001b[39m*\u001b[39;49m\u001b[39minput\u001b[39;49m, \u001b[39m*\u001b[39;49m\u001b[39m*\u001b[39;49mkwargs)\n\u001b[1;32m   <a href='file:///opt/homebrew/Caskroom/miniforge/base/envs/astro/lib/python3.8/site-packages/torch/nn/modules/module.py?line=1357'>1358</a>\u001b[0m \u001b[39m# Do not call functions when jit is used\u001b[39;00m\n",
      "File \u001b[0;32m/opt/homebrew/Caskroom/miniforge/base/envs/astro/lib/python3.8/site-packages/torch/nn/modules/linear.py:114\u001b[0m, in \u001b[0;36mLinear.forward\u001b[0;34m(self, input)\u001b[0m\n\u001b[1;32m    <a href='file:///opt/homebrew/Caskroom/miniforge/base/envs/astro/lib/python3.8/site-packages/torch/nn/modules/linear.py?line=112'>113</a>\u001b[0m \u001b[39mdef\u001b[39;00m \u001b[39mforward\u001b[39m(\u001b[39mself\u001b[39m, \u001b[39minput\u001b[39m: Tensor) \u001b[39m-\u001b[39m\u001b[39m>\u001b[39m Tensor:\n\u001b[0;32m--> <a href='file:///opt/homebrew/Caskroom/miniforge/base/envs/astro/lib/python3.8/site-packages/torch/nn/modules/linear.py?line=113'>114</a>\u001b[0m     \u001b[39mreturn\u001b[39;00m F\u001b[39m.\u001b[39;49mlinear(\u001b[39minput\u001b[39;49m, \u001b[39mself\u001b[39;49m\u001b[39m.\u001b[39;49mweight, \u001b[39mself\u001b[39;49m\u001b[39m.\u001b[39;49mbias)\n",
      "\u001b[0;31mRuntimeError\u001b[0m: t() expects a tensor with <= 2 dimensions, but self is 3D",
      "\nThe above exception was the direct cause of the following exception:\n",
      "\u001b[0;31mRuntimeError\u001b[0m                              Traceback (most recent call last)",
      "Cell \u001b[0;32mIn[5], line 1\u001b[0m\n\u001b[0;32m----> 1\u001b[0m samples_svi \u001b[38;5;241m=\u001b[39m \u001b[43mpredictive\u001b[49m\u001b[43m(\u001b[49m\u001b[43mx_train\u001b[49m\u001b[43m)\u001b[49m\n\u001b[1;32m      3\u001b[0m y_new_svi \u001b[38;5;241m=\u001b[39m []\n\u001b[1;32m      5\u001b[0m \u001b[38;5;28;01mfor\u001b[39;00m i \u001b[38;5;129;01min\u001b[39;00m \u001b[38;5;28mrange\u001b[39m(\u001b[38;5;241m50\u001b[39m):\n",
      "File \u001b[0;32m/opt/homebrew/Caskroom/miniforge/base/envs/astro/lib/python3.8/site-packages/torch/nn/modules/module.py:1357\u001b[0m, in \u001b[0;36mModule._call_impl\u001b[0;34m(self, *input, **kwargs)\u001b[0m\n\u001b[1;32m   <a href='file:///opt/homebrew/Caskroom/miniforge/base/envs/astro/lib/python3.8/site-packages/torch/nn/modules/module.py?line=1351'>1352</a>\u001b[0m \u001b[39m# If we don't have any hooks, we want to skip the rest of the logic in\u001b[39;00m\n\u001b[1;32m   <a href='file:///opt/homebrew/Caskroom/miniforge/base/envs/astro/lib/python3.8/site-packages/torch/nn/modules/module.py?line=1352'>1353</a>\u001b[0m \u001b[39m# this function, and just call forward.\u001b[39;00m\n\u001b[1;32m   <a href='file:///opt/homebrew/Caskroom/miniforge/base/envs/astro/lib/python3.8/site-packages/torch/nn/modules/module.py?line=1353'>1354</a>\u001b[0m \u001b[39mif\u001b[39;00m \u001b[39mnot\u001b[39;00m (\u001b[39mself\u001b[39m\u001b[39m.\u001b[39m_backward_hooks \u001b[39mor\u001b[39;00m \u001b[39mself\u001b[39m\u001b[39m.\u001b[39m_backward_pre_hooks \u001b[39mor\u001b[39;00m \u001b[39mself\u001b[39m\u001b[39m.\u001b[39m_forward_hooks \u001b[39mor\u001b[39;00m \u001b[39mself\u001b[39m\u001b[39m.\u001b[39m_forward_pre_hooks\n\u001b[1;32m   <a href='file:///opt/homebrew/Caskroom/miniforge/base/envs/astro/lib/python3.8/site-packages/torch/nn/modules/module.py?line=1354'>1355</a>\u001b[0m         \u001b[39mor\u001b[39;00m _global_backward_pre_hooks \u001b[39mor\u001b[39;00m _global_backward_hooks\n\u001b[1;32m   <a href='file:///opt/homebrew/Caskroom/miniforge/base/envs/astro/lib/python3.8/site-packages/torch/nn/modules/module.py?line=1355'>1356</a>\u001b[0m         \u001b[39mor\u001b[39;00m _global_forward_hooks \u001b[39mor\u001b[39;00m _global_forward_pre_hooks):\n\u001b[0;32m-> <a href='file:///opt/homebrew/Caskroom/miniforge/base/envs/astro/lib/python3.8/site-packages/torch/nn/modules/module.py?line=1356'>1357</a>\u001b[0m     \u001b[39mreturn\u001b[39;00m forward_call(\u001b[39m*\u001b[39;49m\u001b[39minput\u001b[39;49m, \u001b[39m*\u001b[39;49m\u001b[39m*\u001b[39;49mkwargs)\n\u001b[1;32m   <a href='file:///opt/homebrew/Caskroom/miniforge/base/envs/astro/lib/python3.8/site-packages/torch/nn/modules/module.py?line=1357'>1358</a>\u001b[0m \u001b[39m# Do not call functions when jit is used\u001b[39;00m\n\u001b[1;32m   <a href='file:///opt/homebrew/Caskroom/miniforge/base/envs/astro/lib/python3.8/site-packages/torch/nn/modules/module.py?line=1358'>1359</a>\u001b[0m full_backward_hooks, non_full_backward_hooks \u001b[39m=\u001b[39m [], []\n",
      "File \u001b[0;32m/opt/homebrew/Caskroom/miniforge/base/envs/astro/lib/python3.8/site-packages/pyro/infer/predictive.py:273\u001b[0m, in \u001b[0;36mPredictive.forward\u001b[0;34m(self, *args, **kwargs)\u001b[0m\n\u001b[1;32m    <a href='file:///opt/homebrew/Caskroom/miniforge/base/envs/astro/lib/python3.8/site-packages/pyro/infer/predictive.py?line=262'>263</a>\u001b[0m     return_sites \u001b[39m=\u001b[39m \u001b[39mNone\u001b[39;00m \u001b[39mif\u001b[39;00m \u001b[39mnot\u001b[39;00m return_sites \u001b[39melse\u001b[39;00m return_sites\n\u001b[1;32m    <a href='file:///opt/homebrew/Caskroom/miniforge/base/envs/astro/lib/python3.8/site-packages/pyro/infer/predictive.py?line=263'>264</a>\u001b[0m     posterior_samples \u001b[39m=\u001b[39m _predictive(\n\u001b[1;32m    <a href='file:///opt/homebrew/Caskroom/miniforge/base/envs/astro/lib/python3.8/site-packages/pyro/infer/predictive.py?line=264'>265</a>\u001b[0m         \u001b[39mself\u001b[39m\u001b[39m.\u001b[39mguide,\n\u001b[1;32m    <a href='file:///opt/homebrew/Caskroom/miniforge/base/envs/astro/lib/python3.8/site-packages/pyro/infer/predictive.py?line=265'>266</a>\u001b[0m         posterior_samples,\n\u001b[0;32m   (...)\u001b[0m\n\u001b[1;32m    <a href='file:///opt/homebrew/Caskroom/miniforge/base/envs/astro/lib/python3.8/site-packages/pyro/infer/predictive.py?line=270'>271</a>\u001b[0m         model_kwargs\u001b[39m=\u001b[39mkwargs,\n\u001b[1;32m    <a href='file:///opt/homebrew/Caskroom/miniforge/base/envs/astro/lib/python3.8/site-packages/pyro/infer/predictive.py?line=271'>272</a>\u001b[0m     )\n\u001b[0;32m--> <a href='file:///opt/homebrew/Caskroom/miniforge/base/envs/astro/lib/python3.8/site-packages/pyro/infer/predictive.py?line=272'>273</a>\u001b[0m \u001b[39mreturn\u001b[39;00m _predictive(\n\u001b[1;32m    <a href='file:///opt/homebrew/Caskroom/miniforge/base/envs/astro/lib/python3.8/site-packages/pyro/infer/predictive.py?line=273'>274</a>\u001b[0m     \u001b[39mself\u001b[39;49m\u001b[39m.\u001b[39;49mmodel,\n\u001b[1;32m    <a href='file:///opt/homebrew/Caskroom/miniforge/base/envs/astro/lib/python3.8/site-packages/pyro/infer/predictive.py?line=274'>275</a>\u001b[0m     posterior_samples,\n\u001b[1;32m    <a href='file:///opt/homebrew/Caskroom/miniforge/base/envs/astro/lib/python3.8/site-packages/pyro/infer/predictive.py?line=275'>276</a>\u001b[0m     \u001b[39mself\u001b[39;49m\u001b[39m.\u001b[39;49mnum_samples,\n\u001b[1;32m    <a href='file:///opt/homebrew/Caskroom/miniforge/base/envs/astro/lib/python3.8/site-packages/pyro/infer/predictive.py?line=276'>277</a>\u001b[0m     return_sites\u001b[39m=\u001b[39;49mreturn_sites,\n\u001b[1;32m    <a href='file:///opt/homebrew/Caskroom/miniforge/base/envs/astro/lib/python3.8/site-packages/pyro/infer/predictive.py?line=277'>278</a>\u001b[0m     parallel\u001b[39m=\u001b[39;49m\u001b[39mself\u001b[39;49m\u001b[39m.\u001b[39;49mparallel,\n\u001b[1;32m    <a href='file:///opt/homebrew/Caskroom/miniforge/base/envs/astro/lib/python3.8/site-packages/pyro/infer/predictive.py?line=278'>279</a>\u001b[0m     model_args\u001b[39m=\u001b[39;49margs,\n\u001b[1;32m    <a href='file:///opt/homebrew/Caskroom/miniforge/base/envs/astro/lib/python3.8/site-packages/pyro/infer/predictive.py?line=279'>280</a>\u001b[0m     model_kwargs\u001b[39m=\u001b[39;49mkwargs,\n\u001b[1;32m    <a href='file:///opt/homebrew/Caskroom/miniforge/base/envs/astro/lib/python3.8/site-packages/pyro/infer/predictive.py?line=280'>281</a>\u001b[0m )\n",
      "File \u001b[0;32m/opt/homebrew/Caskroom/miniforge/base/envs/astro/lib/python3.8/site-packages/pyro/infer/predictive.py:127\u001b[0m, in \u001b[0;36m_predictive\u001b[0;34m(model, posterior_samples, num_samples, return_sites, return_trace, parallel, model_args, model_kwargs)\u001b[0m\n\u001b[1;32m    <a href='file:///opt/homebrew/Caskroom/miniforge/base/envs/astro/lib/python3.8/site-packages/pyro/infer/predictive.py?line=123'>124</a>\u001b[0m     return_site_shapes[\u001b[39m\"\u001b[39m\u001b[39m_RETURN\u001b[39m\u001b[39m\"\u001b[39m] \u001b[39m=\u001b[39m shape\n\u001b[1;32m    <a href='file:///opt/homebrew/Caskroom/miniforge/base/envs/astro/lib/python3.8/site-packages/pyro/infer/predictive.py?line=125'>126</a>\u001b[0m \u001b[39mif\u001b[39;00m \u001b[39mnot\u001b[39;00m parallel:\n\u001b[0;32m--> <a href='file:///opt/homebrew/Caskroom/miniforge/base/envs/astro/lib/python3.8/site-packages/pyro/infer/predictive.py?line=126'>127</a>\u001b[0m     \u001b[39mreturn\u001b[39;00m _predictive_sequential(\n\u001b[1;32m    <a href='file:///opt/homebrew/Caskroom/miniforge/base/envs/astro/lib/python3.8/site-packages/pyro/infer/predictive.py?line=127'>128</a>\u001b[0m         model,\n\u001b[1;32m    <a href='file:///opt/homebrew/Caskroom/miniforge/base/envs/astro/lib/python3.8/site-packages/pyro/infer/predictive.py?line=128'>129</a>\u001b[0m         posterior_samples,\n\u001b[1;32m    <a href='file:///opt/homebrew/Caskroom/miniforge/base/envs/astro/lib/python3.8/site-packages/pyro/infer/predictive.py?line=129'>130</a>\u001b[0m         model_args,\n\u001b[1;32m    <a href='file:///opt/homebrew/Caskroom/miniforge/base/envs/astro/lib/python3.8/site-packages/pyro/infer/predictive.py?line=130'>131</a>\u001b[0m         model_kwargs,\n\u001b[1;32m    <a href='file:///opt/homebrew/Caskroom/miniforge/base/envs/astro/lib/python3.8/site-packages/pyro/infer/predictive.py?line=131'>132</a>\u001b[0m         num_samples,\n\u001b[1;32m    <a href='file:///opt/homebrew/Caskroom/miniforge/base/envs/astro/lib/python3.8/site-packages/pyro/infer/predictive.py?line=132'>133</a>\u001b[0m         return_site_shapes,\n\u001b[1;32m    <a href='file:///opt/homebrew/Caskroom/miniforge/base/envs/astro/lib/python3.8/site-packages/pyro/infer/predictive.py?line=133'>134</a>\u001b[0m         return_trace\u001b[39m=\u001b[39;49m\u001b[39mFalse\u001b[39;49;00m,\n\u001b[1;32m    <a href='file:///opt/homebrew/Caskroom/miniforge/base/envs/astro/lib/python3.8/site-packages/pyro/infer/predictive.py?line=134'>135</a>\u001b[0m     )\n\u001b[1;32m    <a href='file:///opt/homebrew/Caskroom/miniforge/base/envs/astro/lib/python3.8/site-packages/pyro/infer/predictive.py?line=136'>137</a>\u001b[0m trace \u001b[39m=\u001b[39m poutine\u001b[39m.\u001b[39mtrace(\n\u001b[1;32m    <a href='file:///opt/homebrew/Caskroom/miniforge/base/envs/astro/lib/python3.8/site-packages/pyro/infer/predictive.py?line=137'>138</a>\u001b[0m     poutine\u001b[39m.\u001b[39mcondition(vectorize(model), reshaped_samples)\n\u001b[1;32m    <a href='file:///opt/homebrew/Caskroom/miniforge/base/envs/astro/lib/python3.8/site-packages/pyro/infer/predictive.py?line=138'>139</a>\u001b[0m )\u001b[39m.\u001b[39mget_trace(\u001b[39m*\u001b[39mmodel_args, \u001b[39m*\u001b[39m\u001b[39m*\u001b[39mmodel_kwargs)\n\u001b[1;32m    <a href='file:///opt/homebrew/Caskroom/miniforge/base/envs/astro/lib/python3.8/site-packages/pyro/infer/predictive.py?line=139'>140</a>\u001b[0m predictions \u001b[39m=\u001b[39m {}\n",
      "File \u001b[0;32m/opt/homebrew/Caskroom/miniforge/base/envs/astro/lib/python3.8/site-packages/pyro/infer/predictive.py:48\u001b[0m, in \u001b[0;36m_predictive_sequential\u001b[0;34m(model, posterior_samples, model_args, model_kwargs, num_samples, return_site_shapes, return_trace)\u001b[0m\n\u001b[1;32m     <a href='file:///opt/homebrew/Caskroom/miniforge/base/envs/astro/lib/python3.8/site-packages/pyro/infer/predictive.py?line=43'>44</a>\u001b[0m samples \u001b[39m=\u001b[39m [\n\u001b[1;32m     <a href='file:///opt/homebrew/Caskroom/miniforge/base/envs/astro/lib/python3.8/site-packages/pyro/infer/predictive.py?line=44'>45</a>\u001b[0m     {k: v[i] \u001b[39mfor\u001b[39;00m k, v \u001b[39min\u001b[39;00m posterior_samples\u001b[39m.\u001b[39mitems()} \u001b[39mfor\u001b[39;00m i \u001b[39min\u001b[39;00m \u001b[39mrange\u001b[39m(num_samples)\n\u001b[1;32m     <a href='file:///opt/homebrew/Caskroom/miniforge/base/envs/astro/lib/python3.8/site-packages/pyro/infer/predictive.py?line=45'>46</a>\u001b[0m ]\n\u001b[1;32m     <a href='file:///opt/homebrew/Caskroom/miniforge/base/envs/astro/lib/python3.8/site-packages/pyro/infer/predictive.py?line=46'>47</a>\u001b[0m \u001b[39mfor\u001b[39;00m i \u001b[39min\u001b[39;00m \u001b[39mrange\u001b[39m(num_samples):\n\u001b[0;32m---> <a href='file:///opt/homebrew/Caskroom/miniforge/base/envs/astro/lib/python3.8/site-packages/pyro/infer/predictive.py?line=47'>48</a>\u001b[0m     trace \u001b[39m=\u001b[39m poutine\u001b[39m.\u001b[39;49mtrace(poutine\u001b[39m.\u001b[39;49mcondition(model, samples[i]))\u001b[39m.\u001b[39;49mget_trace(\n\u001b[1;32m     <a href='file:///opt/homebrew/Caskroom/miniforge/base/envs/astro/lib/python3.8/site-packages/pyro/infer/predictive.py?line=48'>49</a>\u001b[0m         \u001b[39m*\u001b[39;49mmodel_args, \u001b[39m*\u001b[39;49m\u001b[39m*\u001b[39;49mmodel_kwargs\n\u001b[1;32m     <a href='file:///opt/homebrew/Caskroom/miniforge/base/envs/astro/lib/python3.8/site-packages/pyro/infer/predictive.py?line=49'>50</a>\u001b[0m     )\n\u001b[1;32m     <a href='file:///opt/homebrew/Caskroom/miniforge/base/envs/astro/lib/python3.8/site-packages/pyro/infer/predictive.py?line=50'>51</a>\u001b[0m     \u001b[39mif\u001b[39;00m return_trace:\n\u001b[1;32m     <a href='file:///opt/homebrew/Caskroom/miniforge/base/envs/astro/lib/python3.8/site-packages/pyro/infer/predictive.py?line=51'>52</a>\u001b[0m         collected\u001b[39m.\u001b[39mappend(trace)\n",
      "File \u001b[0;32m/opt/homebrew/Caskroom/miniforge/base/envs/astro/lib/python3.8/site-packages/pyro/poutine/trace_messenger.py:198\u001b[0m, in \u001b[0;36mTraceHandler.get_trace\u001b[0;34m(self, *args, **kwargs)\u001b[0m\n\u001b[1;32m    <a href='file:///opt/homebrew/Caskroom/miniforge/base/envs/astro/lib/python3.8/site-packages/pyro/poutine/trace_messenger.py?line=189'>190</a>\u001b[0m \u001b[39mdef\u001b[39;00m \u001b[39mget_trace\u001b[39m(\u001b[39mself\u001b[39m, \u001b[39m*\u001b[39margs, \u001b[39m*\u001b[39m\u001b[39m*\u001b[39mkwargs):\n\u001b[1;32m    <a href='file:///opt/homebrew/Caskroom/miniforge/base/envs/astro/lib/python3.8/site-packages/pyro/poutine/trace_messenger.py?line=190'>191</a>\u001b[0m \u001b[39m    \u001b[39m\u001b[39m\"\"\"\u001b[39;00m\n\u001b[1;32m    <a href='file:///opt/homebrew/Caskroom/miniforge/base/envs/astro/lib/python3.8/site-packages/pyro/poutine/trace_messenger.py?line=191'>192</a>\u001b[0m \u001b[39m    :returns: data structure\u001b[39;00m\n\u001b[1;32m    <a href='file:///opt/homebrew/Caskroom/miniforge/base/envs/astro/lib/python3.8/site-packages/pyro/poutine/trace_messenger.py?line=192'>193</a>\u001b[0m \u001b[39m    :rtype: pyro.poutine.Trace\u001b[39;00m\n\u001b[0;32m   (...)\u001b[0m\n\u001b[1;32m    <a href='file:///opt/homebrew/Caskroom/miniforge/base/envs/astro/lib/python3.8/site-packages/pyro/poutine/trace_messenger.py?line=195'>196</a>\u001b[0m \u001b[39m    Calls this poutine and returns its trace instead of the function's return value.\u001b[39;00m\n\u001b[1;32m    <a href='file:///opt/homebrew/Caskroom/miniforge/base/envs/astro/lib/python3.8/site-packages/pyro/poutine/trace_messenger.py?line=196'>197</a>\u001b[0m \u001b[39m    \"\"\"\u001b[39;00m\n\u001b[0;32m--> <a href='file:///opt/homebrew/Caskroom/miniforge/base/envs/astro/lib/python3.8/site-packages/pyro/poutine/trace_messenger.py?line=197'>198</a>\u001b[0m     \u001b[39mself\u001b[39;49m(\u001b[39m*\u001b[39;49margs, \u001b[39m*\u001b[39;49m\u001b[39m*\u001b[39;49mkwargs)\n\u001b[1;32m    <a href='file:///opt/homebrew/Caskroom/miniforge/base/envs/astro/lib/python3.8/site-packages/pyro/poutine/trace_messenger.py?line=198'>199</a>\u001b[0m     \u001b[39mreturn\u001b[39;00m \u001b[39mself\u001b[39m\u001b[39m.\u001b[39mmsngr\u001b[39m.\u001b[39mget_trace()\n",
      "File \u001b[0;32m/opt/homebrew/Caskroom/miniforge/base/envs/astro/lib/python3.8/site-packages/pyro/poutine/trace_messenger.py:180\u001b[0m, in \u001b[0;36mTraceHandler.__call__\u001b[0;34m(self, *args, **kwargs)\u001b[0m\n\u001b[1;32m    <a href='file:///opt/homebrew/Caskroom/miniforge/base/envs/astro/lib/python3.8/site-packages/pyro/poutine/trace_messenger.py?line=177'>178</a>\u001b[0m         exc \u001b[39m=\u001b[39m exc_type(\u001b[39m\"\u001b[39m\u001b[39m{}\u001b[39;00m\u001b[39m\\n\u001b[39;00m\u001b[39m{}\u001b[39;00m\u001b[39m\"\u001b[39m\u001b[39m.\u001b[39mformat(exc_value, shapes))\n\u001b[1;32m    <a href='file:///opt/homebrew/Caskroom/miniforge/base/envs/astro/lib/python3.8/site-packages/pyro/poutine/trace_messenger.py?line=178'>179</a>\u001b[0m         exc \u001b[39m=\u001b[39m exc\u001b[39m.\u001b[39mwith_traceback(traceback)\n\u001b[0;32m--> <a href='file:///opt/homebrew/Caskroom/miniforge/base/envs/astro/lib/python3.8/site-packages/pyro/poutine/trace_messenger.py?line=179'>180</a>\u001b[0m         \u001b[39mraise\u001b[39;00m exc \u001b[39mfrom\u001b[39;00m \u001b[39me\u001b[39;00m\n\u001b[1;32m    <a href='file:///opt/homebrew/Caskroom/miniforge/base/envs/astro/lib/python3.8/site-packages/pyro/poutine/trace_messenger.py?line=180'>181</a>\u001b[0m     \u001b[39mself\u001b[39m\u001b[39m.\u001b[39mmsngr\u001b[39m.\u001b[39mtrace\u001b[39m.\u001b[39madd_node(\n\u001b[1;32m    <a href='file:///opt/homebrew/Caskroom/miniforge/base/envs/astro/lib/python3.8/site-packages/pyro/poutine/trace_messenger.py?line=181'>182</a>\u001b[0m         \u001b[39m\"\u001b[39m\u001b[39m_RETURN\u001b[39m\u001b[39m\"\u001b[39m, name\u001b[39m=\u001b[39m\u001b[39m\"\u001b[39m\u001b[39m_RETURN\u001b[39m\u001b[39m\"\u001b[39m, \u001b[39mtype\u001b[39m\u001b[39m=\u001b[39m\u001b[39m\"\u001b[39m\u001b[39mreturn\u001b[39m\u001b[39m\"\u001b[39m, value\u001b[39m=\u001b[39mret\n\u001b[1;32m    <a href='file:///opt/homebrew/Caskroom/miniforge/base/envs/astro/lib/python3.8/site-packages/pyro/poutine/trace_messenger.py?line=182'>183</a>\u001b[0m     )\n\u001b[1;32m    <a href='file:///opt/homebrew/Caskroom/miniforge/base/envs/astro/lib/python3.8/site-packages/pyro/poutine/trace_messenger.py?line=183'>184</a>\u001b[0m \u001b[39mreturn\u001b[39;00m ret\n",
      "File \u001b[0;32m/opt/homebrew/Caskroom/miniforge/base/envs/astro/lib/python3.8/site-packages/pyro/poutine/trace_messenger.py:174\u001b[0m, in \u001b[0;36mTraceHandler.__call__\u001b[0;34m(self, *args, **kwargs)\u001b[0m\n\u001b[1;32m    <a href='file:///opt/homebrew/Caskroom/miniforge/base/envs/astro/lib/python3.8/site-packages/pyro/poutine/trace_messenger.py?line=169'>170</a>\u001b[0m \u001b[39mself\u001b[39m\u001b[39m.\u001b[39mmsngr\u001b[39m.\u001b[39mtrace\u001b[39m.\u001b[39madd_node(\n\u001b[1;32m    <a href='file:///opt/homebrew/Caskroom/miniforge/base/envs/astro/lib/python3.8/site-packages/pyro/poutine/trace_messenger.py?line=170'>171</a>\u001b[0m     \u001b[39m\"\u001b[39m\u001b[39m_INPUT\u001b[39m\u001b[39m\"\u001b[39m, name\u001b[39m=\u001b[39m\u001b[39m\"\u001b[39m\u001b[39m_INPUT\u001b[39m\u001b[39m\"\u001b[39m, \u001b[39mtype\u001b[39m\u001b[39m=\u001b[39m\u001b[39m\"\u001b[39m\u001b[39margs\u001b[39m\u001b[39m\"\u001b[39m, args\u001b[39m=\u001b[39margs, kwargs\u001b[39m=\u001b[39mkwargs\n\u001b[1;32m    <a href='file:///opt/homebrew/Caskroom/miniforge/base/envs/astro/lib/python3.8/site-packages/pyro/poutine/trace_messenger.py?line=171'>172</a>\u001b[0m )\n\u001b[1;32m    <a href='file:///opt/homebrew/Caskroom/miniforge/base/envs/astro/lib/python3.8/site-packages/pyro/poutine/trace_messenger.py?line=172'>173</a>\u001b[0m \u001b[39mtry\u001b[39;00m:\n\u001b[0;32m--> <a href='file:///opt/homebrew/Caskroom/miniforge/base/envs/astro/lib/python3.8/site-packages/pyro/poutine/trace_messenger.py?line=173'>174</a>\u001b[0m     ret \u001b[39m=\u001b[39m \u001b[39mself\u001b[39;49m\u001b[39m.\u001b[39;49mfn(\u001b[39m*\u001b[39;49margs, \u001b[39m*\u001b[39;49m\u001b[39m*\u001b[39;49mkwargs)\n\u001b[1;32m    <a href='file:///opt/homebrew/Caskroom/miniforge/base/envs/astro/lib/python3.8/site-packages/pyro/poutine/trace_messenger.py?line=174'>175</a>\u001b[0m \u001b[39mexcept\u001b[39;00m (\u001b[39mValueError\u001b[39;00m, \u001b[39mRuntimeError\u001b[39;00m) \u001b[39mas\u001b[39;00m e:\n\u001b[1;32m    <a href='file:///opt/homebrew/Caskroom/miniforge/base/envs/astro/lib/python3.8/site-packages/pyro/poutine/trace_messenger.py?line=175'>176</a>\u001b[0m     exc_type, exc_value, traceback \u001b[39m=\u001b[39m sys\u001b[39m.\u001b[39mexc_info()\n",
      "File \u001b[0;32m/opt/homebrew/Caskroom/miniforge/base/envs/astro/lib/python3.8/site-packages/pyro/poutine/messenger.py:12\u001b[0m, in \u001b[0;36m_context_wrap\u001b[0;34m(context, fn, *args, **kwargs)\u001b[0m\n\u001b[1;32m     <a href='file:///opt/homebrew/Caskroom/miniforge/base/envs/astro/lib/python3.8/site-packages/pyro/poutine/messenger.py?line=9'>10</a>\u001b[0m \u001b[39mdef\u001b[39;00m \u001b[39m_context_wrap\u001b[39m(context, fn, \u001b[39m*\u001b[39margs, \u001b[39m*\u001b[39m\u001b[39m*\u001b[39mkwargs):\n\u001b[1;32m     <a href='file:///opt/homebrew/Caskroom/miniforge/base/envs/astro/lib/python3.8/site-packages/pyro/poutine/messenger.py?line=10'>11</a>\u001b[0m     \u001b[39mwith\u001b[39;00m context:\n\u001b[0;32m---> <a href='file:///opt/homebrew/Caskroom/miniforge/base/envs/astro/lib/python3.8/site-packages/pyro/poutine/messenger.py?line=11'>12</a>\u001b[0m         \u001b[39mreturn\u001b[39;00m fn(\u001b[39m*\u001b[39;49margs, \u001b[39m*\u001b[39;49m\u001b[39m*\u001b[39;49mkwargs)\n",
      "File \u001b[0;32m/opt/homebrew/Caskroom/miniforge/base/envs/astro/lib/python3.8/site-packages/torch/autograd/grad_mode.py:27\u001b[0m, in \u001b[0;36m_DecoratorContextManager.__call__.<locals>.decorate_context\u001b[0;34m(*args, **kwargs)\u001b[0m\n\u001b[1;32m     <a href='file:///opt/homebrew/Caskroom/miniforge/base/envs/astro/lib/python3.8/site-packages/torch/autograd/grad_mode.py?line=23'>24</a>\u001b[0m \u001b[39m@functools\u001b[39m\u001b[39m.\u001b[39mwraps(func)\n\u001b[1;32m     <a href='file:///opt/homebrew/Caskroom/miniforge/base/envs/astro/lib/python3.8/site-packages/torch/autograd/grad_mode.py?line=24'>25</a>\u001b[0m \u001b[39mdef\u001b[39;00m \u001b[39mdecorate_context\u001b[39m(\u001b[39m*\u001b[39margs, \u001b[39m*\u001b[39m\u001b[39m*\u001b[39mkwargs):\n\u001b[1;32m     <a href='file:///opt/homebrew/Caskroom/miniforge/base/envs/astro/lib/python3.8/site-packages/torch/autograd/grad_mode.py?line=25'>26</a>\u001b[0m     \u001b[39mwith\u001b[39;00m \u001b[39mself\u001b[39m\u001b[39m.\u001b[39mclone():\n\u001b[0;32m---> <a href='file:///opt/homebrew/Caskroom/miniforge/base/envs/astro/lib/python3.8/site-packages/torch/autograd/grad_mode.py?line=26'>27</a>\u001b[0m         \u001b[39mreturn\u001b[39;00m func(\u001b[39m*\u001b[39;49margs, \u001b[39m*\u001b[39;49m\u001b[39m*\u001b[39;49mkwargs)\n",
      "File \u001b[0;32m/opt/homebrew/Caskroom/miniforge/base/envs/astro/lib/python3.8/site-packages/pyro/poutine/messenger.py:12\u001b[0m, in \u001b[0;36m_context_wrap\u001b[0;34m(context, fn, *args, **kwargs)\u001b[0m\n\u001b[1;32m     <a href='file:///opt/homebrew/Caskroom/miniforge/base/envs/astro/lib/python3.8/site-packages/pyro/poutine/messenger.py?line=9'>10</a>\u001b[0m \u001b[39mdef\u001b[39;00m \u001b[39m_context_wrap\u001b[39m(context, fn, \u001b[39m*\u001b[39margs, \u001b[39m*\u001b[39m\u001b[39m*\u001b[39mkwargs):\n\u001b[1;32m     <a href='file:///opt/homebrew/Caskroom/miniforge/base/envs/astro/lib/python3.8/site-packages/pyro/poutine/messenger.py?line=10'>11</a>\u001b[0m     \u001b[39mwith\u001b[39;00m context:\n\u001b[0;32m---> <a href='file:///opt/homebrew/Caskroom/miniforge/base/envs/astro/lib/python3.8/site-packages/pyro/poutine/messenger.py?line=11'>12</a>\u001b[0m         \u001b[39mreturn\u001b[39;00m fn(\u001b[39m*\u001b[39;49margs, \u001b[39m*\u001b[39;49m\u001b[39m*\u001b[39;49mkwargs)\n",
      "File \u001b[0;32m/opt/homebrew/Caskroom/miniforge/base/envs/astro/lib/python3.8/site-packages/pyro/nn/module.py:448\u001b[0m, in \u001b[0;36mPyroModule.__call__\u001b[0;34m(self, *args, **kwargs)\u001b[0m\n\u001b[1;32m    <a href='file:///opt/homebrew/Caskroom/miniforge/base/envs/astro/lib/python3.8/site-packages/pyro/nn/module.py?line=445'>446</a>\u001b[0m \u001b[39mdef\u001b[39;00m \u001b[39m__call__\u001b[39m(\u001b[39mself\u001b[39m, \u001b[39m*\u001b[39margs, \u001b[39m*\u001b[39m\u001b[39m*\u001b[39mkwargs):\n\u001b[1;32m    <a href='file:///opt/homebrew/Caskroom/miniforge/base/envs/astro/lib/python3.8/site-packages/pyro/nn/module.py?line=446'>447</a>\u001b[0m     \u001b[39mwith\u001b[39;00m \u001b[39mself\u001b[39m\u001b[39m.\u001b[39m_pyro_context:\n\u001b[0;32m--> <a href='file:///opt/homebrew/Caskroom/miniforge/base/envs/astro/lib/python3.8/site-packages/pyro/nn/module.py?line=447'>448</a>\u001b[0m         result \u001b[39m=\u001b[39m \u001b[39msuper\u001b[39;49m()\u001b[39m.\u001b[39;49m\u001b[39m__call__\u001b[39;49m(\u001b[39m*\u001b[39;49margs, \u001b[39m*\u001b[39;49m\u001b[39m*\u001b[39;49mkwargs)\n\u001b[1;32m    <a href='file:///opt/homebrew/Caskroom/miniforge/base/envs/astro/lib/python3.8/site-packages/pyro/nn/module.py?line=448'>449</a>\u001b[0m     \u001b[39mif\u001b[39;00m (\n\u001b[1;32m    <a href='file:///opt/homebrew/Caskroom/miniforge/base/envs/astro/lib/python3.8/site-packages/pyro/nn/module.py?line=449'>450</a>\u001b[0m         pyro\u001b[39m.\u001b[39msettings\u001b[39m.\u001b[39mget(\u001b[39m\"\u001b[39m\u001b[39mvalidate_poutine\u001b[39m\u001b[39m\"\u001b[39m)\n\u001b[1;32m    <a href='file:///opt/homebrew/Caskroom/miniforge/base/envs/astro/lib/python3.8/site-packages/pyro/nn/module.py?line=450'>451</a>\u001b[0m         \u001b[39mand\u001b[39;00m \u001b[39mnot\u001b[39;00m \u001b[39mself\u001b[39m\u001b[39m.\u001b[39m_pyro_context\u001b[39m.\u001b[39mactive\n\u001b[1;32m    <a href='file:///opt/homebrew/Caskroom/miniforge/base/envs/astro/lib/python3.8/site-packages/pyro/nn/module.py?line=451'>452</a>\u001b[0m         \u001b[39mand\u001b[39;00m _is_module_local_param_enabled()\n\u001b[1;32m    <a href='file:///opt/homebrew/Caskroom/miniforge/base/envs/astro/lib/python3.8/site-packages/pyro/nn/module.py?line=452'>453</a>\u001b[0m     ):\n\u001b[1;32m    <a href='file:///opt/homebrew/Caskroom/miniforge/base/envs/astro/lib/python3.8/site-packages/pyro/nn/module.py?line=453'>454</a>\u001b[0m         \u001b[39mself\u001b[39m\u001b[39m.\u001b[39m_check_module_local_param_usage()\n",
      "File \u001b[0;32m/opt/homebrew/Caskroom/miniforge/base/envs/astro/lib/python3.8/site-packages/torch/nn/modules/module.py:1357\u001b[0m, in \u001b[0;36mModule._call_impl\u001b[0;34m(self, *input, **kwargs)\u001b[0m\n\u001b[1;32m   <a href='file:///opt/homebrew/Caskroom/miniforge/base/envs/astro/lib/python3.8/site-packages/torch/nn/modules/module.py?line=1351'>1352</a>\u001b[0m \u001b[39m# If we don't have any hooks, we want to skip the rest of the logic in\u001b[39;00m\n\u001b[1;32m   <a href='file:///opt/homebrew/Caskroom/miniforge/base/envs/astro/lib/python3.8/site-packages/torch/nn/modules/module.py?line=1352'>1353</a>\u001b[0m \u001b[39m# this function, and just call forward.\u001b[39;00m\n\u001b[1;32m   <a href='file:///opt/homebrew/Caskroom/miniforge/base/envs/astro/lib/python3.8/site-packages/torch/nn/modules/module.py?line=1353'>1354</a>\u001b[0m \u001b[39mif\u001b[39;00m \u001b[39mnot\u001b[39;00m (\u001b[39mself\u001b[39m\u001b[39m.\u001b[39m_backward_hooks \u001b[39mor\u001b[39;00m \u001b[39mself\u001b[39m\u001b[39m.\u001b[39m_backward_pre_hooks \u001b[39mor\u001b[39;00m \u001b[39mself\u001b[39m\u001b[39m.\u001b[39m_forward_hooks \u001b[39mor\u001b[39;00m \u001b[39mself\u001b[39m\u001b[39m.\u001b[39m_forward_pre_hooks\n\u001b[1;32m   <a href='file:///opt/homebrew/Caskroom/miniforge/base/envs/astro/lib/python3.8/site-packages/torch/nn/modules/module.py?line=1354'>1355</a>\u001b[0m         \u001b[39mor\u001b[39;00m _global_backward_pre_hooks \u001b[39mor\u001b[39;00m _global_backward_hooks\n\u001b[1;32m   <a href='file:///opt/homebrew/Caskroom/miniforge/base/envs/astro/lib/python3.8/site-packages/torch/nn/modules/module.py?line=1355'>1356</a>\u001b[0m         \u001b[39mor\u001b[39;00m _global_forward_hooks \u001b[39mor\u001b[39;00m _global_forward_pre_hooks):\n\u001b[0;32m-> <a href='file:///opt/homebrew/Caskroom/miniforge/base/envs/astro/lib/python3.8/site-packages/torch/nn/modules/module.py?line=1356'>1357</a>\u001b[0m     \u001b[39mreturn\u001b[39;00m forward_call(\u001b[39m*\u001b[39;49m\u001b[39minput\u001b[39;49m, \u001b[39m*\u001b[39;49m\u001b[39m*\u001b[39;49mkwargs)\n\u001b[1;32m   <a href='file:///opt/homebrew/Caskroom/miniforge/base/envs/astro/lib/python3.8/site-packages/torch/nn/modules/module.py?line=1357'>1358</a>\u001b[0m \u001b[39m# Do not call functions when jit is used\u001b[39;00m\n\u001b[1;32m   <a href='file:///opt/homebrew/Caskroom/miniforge/base/envs/astro/lib/python3.8/site-packages/torch/nn/modules/module.py?line=1358'>1359</a>\u001b[0m full_backward_hooks, non_full_backward_hooks \u001b[39m=\u001b[39m [], []\n",
      "File \u001b[0;32m~/XPNorm/src/Extinction_map.py:237\u001b[0m, in \u001b[0;36mBNN_Extinction.forward\u001b[0;34m(self, x)\u001b[0m\n\u001b[1;32m    <a href='file:///Users/mattocallaghan/XPNorm/src/Extinction_map.py?line=234'>235</a>\u001b[0m \u001b[39mdef\u001b[39;00m \u001b[39mforward\u001b[39m(\u001b[39mself\u001b[39m, x):\n\u001b[1;32m    <a href='file:///Users/mattocallaghan/XPNorm/src/Extinction_map.py?line=235'>236</a>\u001b[0m     d \u001b[39m=\u001b[39m x[:,\u001b[39m0\u001b[39m]\u001b[39m.\u001b[39mreshape(\u001b[39m-\u001b[39m\u001b[39m1\u001b[39m, \u001b[39m1\u001b[39m)\n\u001b[0;32m--> <a href='file:///Users/mattocallaghan/XPNorm/src/Extinction_map.py?line=236'>237</a>\u001b[0m     ebv \u001b[39m=\u001b[39m torch\u001b[39m.\u001b[39mrelu(\u001b[39mself\u001b[39;49m\u001b[39m.\u001b[39;49mlayers[\u001b[39m0\u001b[39;49m](d))  \u001b[39m# input --> hidden\u001b[39;00m\n\u001b[1;32m    <a href='file:///Users/mattocallaghan/XPNorm/src/Extinction_map.py?line=237'>238</a>\u001b[0m     ebv \u001b[39m=\u001b[39m torch\u001b[39m.\u001b[39mrelu(\u001b[39mself\u001b[39m\u001b[39m.\u001b[39mlayers[\u001b[39m1\u001b[39m](ebv))\n\u001b[1;32m    <a href='file:///Users/mattocallaghan/XPNorm/src/Extinction_map.py?line=238'>239</a>\u001b[0m     ebv\u001b[39m=\u001b[39m torch\u001b[39m.\u001b[39msigmoid(\u001b[39mself\u001b[39m\u001b[39m.\u001b[39mlayers[\u001b[39m2\u001b[39m](ebv))\n",
      "File \u001b[0;32m/opt/homebrew/Caskroom/miniforge/base/envs/astro/lib/python3.8/site-packages/pyro/nn/module.py:448\u001b[0m, in \u001b[0;36mPyroModule.__call__\u001b[0;34m(self, *args, **kwargs)\u001b[0m\n\u001b[1;32m    <a href='file:///opt/homebrew/Caskroom/miniforge/base/envs/astro/lib/python3.8/site-packages/pyro/nn/module.py?line=445'>446</a>\u001b[0m \u001b[39mdef\u001b[39;00m \u001b[39m__call__\u001b[39m(\u001b[39mself\u001b[39m, \u001b[39m*\u001b[39margs, \u001b[39m*\u001b[39m\u001b[39m*\u001b[39mkwargs):\n\u001b[1;32m    <a href='file:///opt/homebrew/Caskroom/miniforge/base/envs/astro/lib/python3.8/site-packages/pyro/nn/module.py?line=446'>447</a>\u001b[0m     \u001b[39mwith\u001b[39;00m \u001b[39mself\u001b[39m\u001b[39m.\u001b[39m_pyro_context:\n\u001b[0;32m--> <a href='file:///opt/homebrew/Caskroom/miniforge/base/envs/astro/lib/python3.8/site-packages/pyro/nn/module.py?line=447'>448</a>\u001b[0m         result \u001b[39m=\u001b[39m \u001b[39msuper\u001b[39;49m()\u001b[39m.\u001b[39;49m\u001b[39m__call__\u001b[39;49m(\u001b[39m*\u001b[39;49margs, \u001b[39m*\u001b[39;49m\u001b[39m*\u001b[39;49mkwargs)\n\u001b[1;32m    <a href='file:///opt/homebrew/Caskroom/miniforge/base/envs/astro/lib/python3.8/site-packages/pyro/nn/module.py?line=448'>449</a>\u001b[0m     \u001b[39mif\u001b[39;00m (\n\u001b[1;32m    <a href='file:///opt/homebrew/Caskroom/miniforge/base/envs/astro/lib/python3.8/site-packages/pyro/nn/module.py?line=449'>450</a>\u001b[0m         pyro\u001b[39m.\u001b[39msettings\u001b[39m.\u001b[39mget(\u001b[39m\"\u001b[39m\u001b[39mvalidate_poutine\u001b[39m\u001b[39m\"\u001b[39m)\n\u001b[1;32m    <a href='file:///opt/homebrew/Caskroom/miniforge/base/envs/astro/lib/python3.8/site-packages/pyro/nn/module.py?line=450'>451</a>\u001b[0m         \u001b[39mand\u001b[39;00m \u001b[39mnot\u001b[39;00m \u001b[39mself\u001b[39m\u001b[39m.\u001b[39m_pyro_context\u001b[39m.\u001b[39mactive\n\u001b[1;32m    <a href='file:///opt/homebrew/Caskroom/miniforge/base/envs/astro/lib/python3.8/site-packages/pyro/nn/module.py?line=451'>452</a>\u001b[0m         \u001b[39mand\u001b[39;00m _is_module_local_param_enabled()\n\u001b[1;32m    <a href='file:///opt/homebrew/Caskroom/miniforge/base/envs/astro/lib/python3.8/site-packages/pyro/nn/module.py?line=452'>453</a>\u001b[0m     ):\n\u001b[1;32m    <a href='file:///opt/homebrew/Caskroom/miniforge/base/envs/astro/lib/python3.8/site-packages/pyro/nn/module.py?line=453'>454</a>\u001b[0m         \u001b[39mself\u001b[39m\u001b[39m.\u001b[39m_check_module_local_param_usage()\n",
      "File \u001b[0;32m/opt/homebrew/Caskroom/miniforge/base/envs/astro/lib/python3.8/site-packages/torch/nn/modules/module.py:1357\u001b[0m, in \u001b[0;36mModule._call_impl\u001b[0;34m(self, *input, **kwargs)\u001b[0m\n\u001b[1;32m   <a href='file:///opt/homebrew/Caskroom/miniforge/base/envs/astro/lib/python3.8/site-packages/torch/nn/modules/module.py?line=1351'>1352</a>\u001b[0m \u001b[39m# If we don't have any hooks, we want to skip the rest of the logic in\u001b[39;00m\n\u001b[1;32m   <a href='file:///opt/homebrew/Caskroom/miniforge/base/envs/astro/lib/python3.8/site-packages/torch/nn/modules/module.py?line=1352'>1353</a>\u001b[0m \u001b[39m# this function, and just call forward.\u001b[39;00m\n\u001b[1;32m   <a href='file:///opt/homebrew/Caskroom/miniforge/base/envs/astro/lib/python3.8/site-packages/torch/nn/modules/module.py?line=1353'>1354</a>\u001b[0m \u001b[39mif\u001b[39;00m \u001b[39mnot\u001b[39;00m (\u001b[39mself\u001b[39m\u001b[39m.\u001b[39m_backward_hooks \u001b[39mor\u001b[39;00m \u001b[39mself\u001b[39m\u001b[39m.\u001b[39m_backward_pre_hooks \u001b[39mor\u001b[39;00m \u001b[39mself\u001b[39m\u001b[39m.\u001b[39m_forward_hooks \u001b[39mor\u001b[39;00m \u001b[39mself\u001b[39m\u001b[39m.\u001b[39m_forward_pre_hooks\n\u001b[1;32m   <a href='file:///opt/homebrew/Caskroom/miniforge/base/envs/astro/lib/python3.8/site-packages/torch/nn/modules/module.py?line=1354'>1355</a>\u001b[0m         \u001b[39mor\u001b[39;00m _global_backward_pre_hooks \u001b[39mor\u001b[39;00m _global_backward_hooks\n\u001b[1;32m   <a href='file:///opt/homebrew/Caskroom/miniforge/base/envs/astro/lib/python3.8/site-packages/torch/nn/modules/module.py?line=1355'>1356</a>\u001b[0m         \u001b[39mor\u001b[39;00m _global_forward_hooks \u001b[39mor\u001b[39;00m _global_forward_pre_hooks):\n\u001b[0;32m-> <a href='file:///opt/homebrew/Caskroom/miniforge/base/envs/astro/lib/python3.8/site-packages/torch/nn/modules/module.py?line=1356'>1357</a>\u001b[0m     \u001b[39mreturn\u001b[39;00m forward_call(\u001b[39m*\u001b[39;49m\u001b[39minput\u001b[39;49m, \u001b[39m*\u001b[39;49m\u001b[39m*\u001b[39;49mkwargs)\n\u001b[1;32m   <a href='file:///opt/homebrew/Caskroom/miniforge/base/envs/astro/lib/python3.8/site-packages/torch/nn/modules/module.py?line=1357'>1358</a>\u001b[0m \u001b[39m# Do not call functions when jit is used\u001b[39;00m\n\u001b[1;32m   <a href='file:///opt/homebrew/Caskroom/miniforge/base/envs/astro/lib/python3.8/site-packages/torch/nn/modules/module.py?line=1358'>1359</a>\u001b[0m full_backward_hooks, non_full_backward_hooks \u001b[39m=\u001b[39m [], []\n",
      "File \u001b[0;32m/opt/homebrew/Caskroom/miniforge/base/envs/astro/lib/python3.8/site-packages/torch/nn/modules/linear.py:114\u001b[0m, in \u001b[0;36mLinear.forward\u001b[0;34m(self, input)\u001b[0m\n\u001b[1;32m    <a href='file:///opt/homebrew/Caskroom/miniforge/base/envs/astro/lib/python3.8/site-packages/torch/nn/modules/linear.py?line=112'>113</a>\u001b[0m \u001b[39mdef\u001b[39;00m \u001b[39mforward\u001b[39m(\u001b[39mself\u001b[39m, \u001b[39minput\u001b[39m: Tensor) \u001b[39m-\u001b[39m\u001b[39m>\u001b[39m Tensor:\n\u001b[0;32m--> <a href='file:///opt/homebrew/Caskroom/miniforge/base/envs/astro/lib/python3.8/site-packages/torch/nn/modules/linear.py?line=113'>114</a>\u001b[0m     \u001b[39mreturn\u001b[39;00m F\u001b[39m.\u001b[39;49mlinear(\u001b[39minput\u001b[39;49m, \u001b[39mself\u001b[39;49m\u001b[39m.\u001b[39;49mweight, \u001b[39mself\u001b[39;49m\u001b[39m.\u001b[39;49mbias)\n",
      "\u001b[0;31mRuntimeError\u001b[0m: t() expects a tensor with <= 2 dimensions, but self is 3D\n       Trace Shapes:         \n        Param Sites:         \n       Sample Sites:         \nlayers.0.weight dist   | 10 1\n               value 1 | 10 1\n  layers.0.bias dist   | 10  \n               value 1 | 10  "
     ]
    }
   ],
   "source": [
    "\n",
    "\n",
    "samples_svi = predictive(x_train)\n",
    "\n",
    "y_new_svi = []\n",
    "\n",
    "for i in range(50):\n",
    "    y_ = torch.bincount(samples_svi['obs'][:,i], minlength=2).float()/samples_svi['obs'].shape[0]\n",
    "    y_new_svi.append(y_.numpy())\n"
   ]
  },
  {
   "cell_type": "code",
   "execution_count": null,
   "metadata": {},
   "outputs": [],
   "source": []
  }
 ],
 "metadata": {
  "interpreter": {
   "hash": "0bb95e0f03a712b005f38a08e86b3d9ee1481e5da27c42212222567f4ca651c8"
  },
  "kernelspec": {
   "display_name": "Python 3.8.16 ('astro')",
   "language": "python",
   "name": "python3"
  },
  "language_info": {
   "codemirror_mode": {
    "name": "ipython",
    "version": 3
   },
   "file_extension": ".py",
   "mimetype": "text/x-python",
   "name": "python",
   "nbconvert_exporter": "python",
   "pygments_lexer": "ipython3",
   "version": "3.8.16"
  },
  "orig_nbformat": 4
 },
 "nbformat": 4,
 "nbformat_minor": 2
}
