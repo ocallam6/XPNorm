{
 "cells": [
  {
   "cell_type": "code",
   "execution_count": 1,
   "metadata": {},
   "outputs": [
    {
     "name": "stderr",
     "output_type": "stream",
     "text": [
      "WARNING: AstropyDeprecationWarning: \"verbose\" was deprecated in version 1.15.0 and will be removed in a future version.  [warnings]\n"
     ]
    }
   ],
   "source": [
    "import healpy as hp\n",
    "import numpy as np\n",
    "import matplotlib.pyplot as plt\n",
    "from astropy.coordinates import SkyCoord\n",
    "import astropy.units as u\n",
    "ebv_map = hp.read_map('/Users/mattocallaghan/XPNorm/Data/ebv_lhd.hpx.fits', verbose=False)\n",
    "#hp.mollview((ebv_map), title='', unit='log(E(B-V) [mag])')\n",
    "#hp.graticule()\n",
    "nside = hp.get_nside(ebv_map)\n",
    "npix = hp.nside2npix(nside)\n",
    "ordering = 'ring'\n",
    "pixel_indices = np.arange(npix)\n",
    "\n",
    "# Get the pixel centers\n",
    "l, b = hp.pix2ang(nside, pixel_indices,lonlat=True)\n",
    "\n",
    "\n",
    "idx=np.argwhere((~np.isnan(ebv_map))*(ebv_map<0.008))\n",
    "\n",
    "coords = SkyCoord(l=l*u.degree, b=b*u.degree, frame='galactic')\n",
    "ra=coords.icrs.ra.degree\n",
    "dec=coords.icrs.dec.degree\n",
    "places=np.stack((ra[idx],dec[idx]),1)\n"
   ]
  },
  {
   "cell_type": "markdown",
   "metadata": {},
   "source": [
    "\n",
    "# Overview of retrieving more accurate, data driven extinctions."
   ]
  },
  {
   "cell_type": "markdown",
   "metadata": {},
   "source": [
    "1) The technical work is done, selecting the correct data is what we need to do now.\n",
    "2) Here I will give an overview of the method and why I think it is useful and necessary."
   ]
  },
  {
   "cell_type": "markdown",
   "metadata": {},
   "source": [
    "# 1) Existing Dust Map Methods\n",
    "In the first paper, and in all other dust maps which are generated via reddenning, the extinction is calculated via a stellar model $\\vec{x}=M(\\vec \\theta)$, where $\\theta$ is a set of stellar parameters. $M(\\vec \\theta)$ is usually an isochrone model or some data-driven color-magnitude relations. These are coupled with priors on the stellar parameters to get a posterior distribution over the extinction $A_0$."
   ]
  },
  {
   "cell_type": "markdown",
   "metadata": {},
   "source": [
    "As we know, there are many systematics which arise when modelling this way. In particular there are degeneracies from fitting stellar parameters and extinction simulatanously. Moreover, error on the extinction estimate arises from the length of the intersection of the extinction vector $\\vec A$ which stems from the observed point, intersecting with the 'zero-extinction manfiold' given by the surface $M(\\vec \\theta)$. "
   ]
  },
  {
   "cell_type": "markdown",
   "metadata": {},
   "source": [
    "### Importantly the degeneracies are always there, and can only be mitigated against by 'removing' (assigning low probability to) points which are unlikely. Usually that is done via careful choice of priors over $\\theta$. "
   ]
  },
  {
   "cell_type": "markdown",
   "metadata": {},
   "source": [
    "## What Green does: \n",
    "Metallicity- independent main-sequence stellar colors were obtained by fitting a stellar locus in color-color space, and\n",
    "metallicity-dependent absolute magnitudes were obtained from the metallicity-dependent photometric parallax relation given in Ivezic et al. (2008). For the giant branch, linear fits to globular cluster color-magnitude diagrams from Ivezi ́c et al. (2008) were used.\n",
    "They begin by selecting ∼1 million stars with E(B−V)SFD < 0.1mag, detections in all PS1 and 2MASS passbands, and photometric errors less than 0.5mag in every passband. The resulting sample has a median reddening of 0.016mag in E(B−V). After dereddening the photometry, we fit a stellar locus in 7- dimensional color space, using the algorithm laid out in Newberg & Yanny (1997). The resulting stellar locus is plotted in Fig. 17."
   ]
  },
  {
   "cell_type": "markdown",
   "metadata": {},
   "source": []
  },
  {
   "cell_type": "markdown",
   "metadata": {},
   "source": []
  },
  {
   "cell_type": "markdown",
   "metadata": {},
   "source": []
  },
  {
   "cell_type": "code",
   "execution_count": null,
   "metadata": {},
   "outputs": [],
   "source": []
  }
 ],
 "metadata": {
  "interpreter": {
   "hash": "0bb95e0f03a712b005f38a08e86b3d9ee1481e5da27c42212222567f4ca651c8"
  },
  "kernelspec": {
   "display_name": "Python 3.8.16 ('astro')",
   "language": "python",
   "name": "python3"
  },
  "language_info": {
   "codemirror_mode": {
    "name": "ipython",
    "version": 3
   },
   "file_extension": ".py",
   "mimetype": "text/x-python",
   "name": "python",
   "nbconvert_exporter": "python",
   "pygments_lexer": "ipython3",
   "version": "3.8.16"
  },
  "orig_nbformat": 4
 },
 "nbformat": 4,
 "nbformat_minor": 2
}
